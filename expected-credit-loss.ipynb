{
 "cells": [
  {
   "cell_type": "markdown",
   "metadata": {},
   "source": [
    "# Importing packages"
   ]
  },
  {
   "cell_type": "code",
   "execution_count": 1,
   "metadata": {},
   "outputs": [],
   "source": [
    "import pandas as pd \n",
    "import numpy as np\n",
    "import datetime\n",
    "\n",
    "# Setting the option to display the dataframe \n",
    "pd.options.display.max_columns = None\n",
    "pd.options.display.max_rows = 150"
   ]
  },
  {
   "cell_type": "markdown",
   "metadata": {},
   "source": [
    "# Features in the analysis "
   ]
  },
  {
   "cell_type": "markdown",
   "metadata": {},
   "source": [
    "The main features that will be used in the modeling of credit risk are: \n",
    "\n",
    "* **earliest_cr_line** - The month the borrower's earliest reported credit line was opened.\n",
    "\n",
    "* **emp_length** - Employment length in years. Possible values are between 0 and 10 where 0 means less than one year and 10 means ten or more years. \n",
    "\n",
    "* **term** - number of payments on the loan. Values can be either 36 or 60. \n",
    "\n",
    "* **issue_d** - the month which the loan was funded (issued)\n",
    "\n",
    "* **grade** - loan companies assigned loan grade.\n",
    "\n",
    "* **sub_grade** - loan companies assigned loan subgrade.\n",
    "\n",
    "* **home_ownership** - The home ownership status provided by the borrower during registration or obtained from the credit report. The values are: RENT, OWN, MORTGAGE, OTHER.\n",
    "\n",
    "* **verification_status** - Indicates if income was verified by LC, not verified, or if the income source was verified.\n",
    "\n",
    "* **purpose** - the purpose of the loan; a category provided by the borrower for the loan request.\n",
    "\n",
    "* **addr_state** - the state provided by the borrower in the loan application.\n",
    "\n",
    "* **initial_list_status** - the initial listing status of the loan. Possible values are – W, F.\n",
    "\n",
    "* **loan_amnt** - the amount of $ applied by the borrower.\n",
    "\n",
    "* **funded_amnt** - the amount of requested loan that was funded in $.\n",
    "\n",
    "* **annual_inc** - the self-reported annual income by the borrower.\n",
    "\n",
    "* **acc_now_delinq** - the amount of accounts which the borrower is a delinquet.\n",
    "\n",
    "* **total_acc** - The total number of credit lines currently in the borrower's credit file.\n",
    "\n",
    "* **pub_rec** - Number of derogatory public records.\n",
    "\n",
    "* **open_acc** - The number of open credit lines in the borrower's credit file.\n",
    "\n",
    "The feature that we will use for the creation of the $Y$ (also known as the dependant variable) is the loan_status variable. \n",
    "\n",
    "* **loan_status** - current status of the loan (as of creation of the data)."
   ]
  },
  {
   "cell_type": "code",
   "execution_count": 2,
   "metadata": {},
   "outputs": [],
   "source": [
    "columns = [\n",
    "    'earliest_cr_line',\n",
    "    'emp_length',\n",
    "    'term',\n",
    "    'issue_d',\n",
    "    'grade',\n",
    "    'sub_grade',\n",
    "    'home_ownership',\n",
    "    'verification_status',\n",
    "    'loan_status',\n",
    "    'purpose',\n",
    "    'addr_state',\n",
    "    'initial_list_status',\n",
    "    'loan_amnt',\n",
    "    'funded_amnt',\n",
    "    'annual_inc',\n",
    "    'acc_now_delinq',\n",
    "    'total_acc',\n",
    "    'pub_rec',\n",
    "    'open_acc'\n",
    "]"
   ]
  },
  {
   "cell_type": "markdown",
   "metadata": {},
   "source": [
    "# Reading the data "
   ]
  },
  {
   "cell_type": "code",
   "execution_count": 3,
   "metadata": {},
   "outputs": [],
   "source": [
    "# Reading the data\n",
    "d = pd.read_csv(\n",
    "    'data/appl_accepted_20072019Q3.csv', \n",
    "    low_memory=False,\n",
    "    usecols=columns\n",
    ")"
   ]
  },
  {
   "cell_type": "code",
   "execution_count": 4,
   "metadata": {},
   "outputs": [
    {
     "name": "stdout",
     "output_type": "stream",
     "text": [
      "Shape of the data: (2650550, 19)\n"
     ]
    }
   ],
   "source": [
    "print(f'Shape of the data: {d.shape}')"
   ]
  },
  {
   "cell_type": "code",
   "execution_count": 5,
   "metadata": {},
   "outputs": [
    {
     "data": {
      "text/html": [
       "<div>\n",
       "<style scoped>\n",
       "    .dataframe tbody tr th:only-of-type {\n",
       "        vertical-align: middle;\n",
       "    }\n",
       "\n",
       "    .dataframe tbody tr th {\n",
       "        vertical-align: top;\n",
       "    }\n",
       "\n",
       "    .dataframe thead th {\n",
       "        text-align: right;\n",
       "    }\n",
       "</style>\n",
       "<table border=\"1\" class=\"dataframe\">\n",
       "  <thead>\n",
       "    <tr style=\"text-align: right;\">\n",
       "      <th></th>\n",
       "      <th>loan_amnt</th>\n",
       "      <th>funded_amnt</th>\n",
       "      <th>term</th>\n",
       "      <th>grade</th>\n",
       "      <th>sub_grade</th>\n",
       "      <th>emp_length</th>\n",
       "      <th>home_ownership</th>\n",
       "      <th>annual_inc</th>\n",
       "      <th>verification_status</th>\n",
       "      <th>issue_d</th>\n",
       "      <th>loan_status</th>\n",
       "      <th>purpose</th>\n",
       "      <th>addr_state</th>\n",
       "      <th>earliest_cr_line</th>\n",
       "      <th>open_acc</th>\n",
       "      <th>pub_rec</th>\n",
       "      <th>total_acc</th>\n",
       "      <th>initial_list_status</th>\n",
       "      <th>acc_now_delinq</th>\n",
       "    </tr>\n",
       "  </thead>\n",
       "  <tbody>\n",
       "    <tr>\n",
       "      <th>0</th>\n",
       "      <td>3600.0</td>\n",
       "      <td>3600.0</td>\n",
       "      <td>36 months</td>\n",
       "      <td>C</td>\n",
       "      <td>C4</td>\n",
       "      <td>10+ years</td>\n",
       "      <td>MORTGAGE</td>\n",
       "      <td>55000.0</td>\n",
       "      <td>Not Verified</td>\n",
       "      <td>Dec-2015</td>\n",
       "      <td>Fully Paid</td>\n",
       "      <td>debt_consolidation</td>\n",
       "      <td>PA</td>\n",
       "      <td>Aug-2003</td>\n",
       "      <td>7.0</td>\n",
       "      <td>0.0</td>\n",
       "      <td>13.0</td>\n",
       "      <td>w</td>\n",
       "      <td>0.0</td>\n",
       "    </tr>\n",
       "    <tr>\n",
       "      <th>1</th>\n",
       "      <td>24700.0</td>\n",
       "      <td>24700.0</td>\n",
       "      <td>36 months</td>\n",
       "      <td>C</td>\n",
       "      <td>C1</td>\n",
       "      <td>10+ years</td>\n",
       "      <td>MORTGAGE</td>\n",
       "      <td>65000.0</td>\n",
       "      <td>Not Verified</td>\n",
       "      <td>Dec-2015</td>\n",
       "      <td>Fully Paid</td>\n",
       "      <td>small_business</td>\n",
       "      <td>SD</td>\n",
       "      <td>Dec-1999</td>\n",
       "      <td>22.0</td>\n",
       "      <td>0.0</td>\n",
       "      <td>38.0</td>\n",
       "      <td>w</td>\n",
       "      <td>0.0</td>\n",
       "    </tr>\n",
       "    <tr>\n",
       "      <th>2</th>\n",
       "      <td>20000.0</td>\n",
       "      <td>20000.0</td>\n",
       "      <td>60 months</td>\n",
       "      <td>B</td>\n",
       "      <td>B4</td>\n",
       "      <td>10+ years</td>\n",
       "      <td>MORTGAGE</td>\n",
       "      <td>63000.0</td>\n",
       "      <td>Not Verified</td>\n",
       "      <td>Dec-2015</td>\n",
       "      <td>Fully Paid</td>\n",
       "      <td>home_improvement</td>\n",
       "      <td>IL</td>\n",
       "      <td>Aug-2000</td>\n",
       "      <td>6.0</td>\n",
       "      <td>0.0</td>\n",
       "      <td>18.0</td>\n",
       "      <td>w</td>\n",
       "      <td>0.0</td>\n",
       "    </tr>\n",
       "    <tr>\n",
       "      <th>3</th>\n",
       "      <td>35000.0</td>\n",
       "      <td>35000.0</td>\n",
       "      <td>60 months</td>\n",
       "      <td>C</td>\n",
       "      <td>C5</td>\n",
       "      <td>10+ years</td>\n",
       "      <td>MORTGAGE</td>\n",
       "      <td>110000.0</td>\n",
       "      <td>Source Verified</td>\n",
       "      <td>Dec-2015</td>\n",
       "      <td>Current</td>\n",
       "      <td>debt_consolidation</td>\n",
       "      <td>NJ</td>\n",
       "      <td>Sep-2008</td>\n",
       "      <td>13.0</td>\n",
       "      <td>0.0</td>\n",
       "      <td>17.0</td>\n",
       "      <td>w</td>\n",
       "      <td>0.0</td>\n",
       "    </tr>\n",
       "    <tr>\n",
       "      <th>4</th>\n",
       "      <td>10400.0</td>\n",
       "      <td>10400.0</td>\n",
       "      <td>60 months</td>\n",
       "      <td>F</td>\n",
       "      <td>F1</td>\n",
       "      <td>3 years</td>\n",
       "      <td>MORTGAGE</td>\n",
       "      <td>104433.0</td>\n",
       "      <td>Source Verified</td>\n",
       "      <td>Dec-2015</td>\n",
       "      <td>Fully Paid</td>\n",
       "      <td>major_purchase</td>\n",
       "      <td>PA</td>\n",
       "      <td>Jun-1998</td>\n",
       "      <td>12.0</td>\n",
       "      <td>0.0</td>\n",
       "      <td>35.0</td>\n",
       "      <td>w</td>\n",
       "      <td>0.0</td>\n",
       "    </tr>\n",
       "  </tbody>\n",
       "</table>\n",
       "</div>"
      ],
      "text/plain": [
       "   loan_amnt  funded_amnt        term grade sub_grade emp_length  \\\n",
       "0     3600.0       3600.0   36 months     C        C4  10+ years   \n",
       "1    24700.0      24700.0   36 months     C        C1  10+ years   \n",
       "2    20000.0      20000.0   60 months     B        B4  10+ years   \n",
       "3    35000.0      35000.0   60 months     C        C5  10+ years   \n",
       "4    10400.0      10400.0   60 months     F        F1    3 years   \n",
       "\n",
       "  home_ownership  annual_inc verification_status   issue_d loan_status  \\\n",
       "0       MORTGAGE     55000.0        Not Verified  Dec-2015  Fully Paid   \n",
       "1       MORTGAGE     65000.0        Not Verified  Dec-2015  Fully Paid   \n",
       "2       MORTGAGE     63000.0        Not Verified  Dec-2015  Fully Paid   \n",
       "3       MORTGAGE    110000.0     Source Verified  Dec-2015     Current   \n",
       "4       MORTGAGE    104433.0     Source Verified  Dec-2015  Fully Paid   \n",
       "\n",
       "              purpose addr_state earliest_cr_line  open_acc  pub_rec  \\\n",
       "0  debt_consolidation         PA         Aug-2003       7.0      0.0   \n",
       "1      small_business         SD         Dec-1999      22.0      0.0   \n",
       "2    home_improvement         IL         Aug-2000       6.0      0.0   \n",
       "3  debt_consolidation         NJ         Sep-2008      13.0      0.0   \n",
       "4      major_purchase         PA         Jun-1998      12.0      0.0   \n",
       "\n",
       "   total_acc initial_list_status  acc_now_delinq  \n",
       "0       13.0                   w             0.0  \n",
       "1       38.0                   w             0.0  \n",
       "2       18.0                   w             0.0  \n",
       "3       17.0                   w             0.0  \n",
       "4       35.0                   w             0.0  "
      ]
     },
     "execution_count": 5,
     "metadata": {},
     "output_type": "execute_result"
    }
   ],
   "source": [
    "# Eyeballing the data\n",
    "d.head()"
   ]
  },
  {
   "cell_type": "code",
   "execution_count": 6,
   "metadata": {
    "scrolled": false
   },
   "outputs": [
    {
     "data": {
      "text/plain": [
       "loan_amnt              float64\n",
       "funded_amnt            float64\n",
       "term                    object\n",
       "grade                   object\n",
       "sub_grade               object\n",
       "emp_length              object\n",
       "home_ownership          object\n",
       "annual_inc             float64\n",
       "verification_status     object\n",
       "issue_d                 object\n",
       "loan_status             object\n",
       "purpose                 object\n",
       "addr_state              object\n",
       "earliest_cr_line        object\n",
       "open_acc               float64\n",
       "pub_rec                float64\n",
       "total_acc              float64\n",
       "initial_list_status     object\n",
       "acc_now_delinq         float64\n",
       "dtype: object"
      ]
     },
     "execution_count": 6,
     "metadata": {},
     "output_type": "execute_result"
    }
   ],
   "source": [
    "# Seeing the types of the columns to make sure numerics are numeris, \n",
    "# categorical variables are categorical, etc.\n",
    "d.dtypes"
   ]
  },
  {
   "cell_type": "markdown",
   "metadata": {},
   "source": [
    "# Filling missing data"
   ]
  },
  {
   "cell_type": "code",
   "execution_count": 7,
   "metadata": {},
   "outputs": [
    {
     "data": {
      "text/plain": [
       "loan_amnt                  33\n",
       "funded_amnt                33\n",
       "term                       33\n",
       "grade                      33\n",
       "sub_grade                  33\n",
       "emp_length             181960\n",
       "home_ownership             33\n",
       "annual_inc                 37\n",
       "verification_status        33\n",
       "issue_d                    33\n",
       "loan_status                33\n",
       "purpose                    33\n",
       "addr_state                 33\n",
       "earliest_cr_line           62\n",
       "open_acc                   62\n",
       "pub_rec                    62\n",
       "total_acc                  62\n",
       "initial_list_status        33\n",
       "acc_now_delinq             62\n",
       "dtype: int64"
      ]
     },
     "execution_count": 7,
     "metadata": {},
     "output_type": "execute_result"
    }
   ],
   "source": [
    "# Getting the number of rows missing\n",
    "d.isnull().sum()"
   ]
  },
  {
   "cell_type": "markdown",
   "metadata": {},
   "source": [
    "According to the documentation in the data, if the emp_length is missing, it means that there is no employment info. The suggested procedure is to treat this value the same as \"< 1 year\" value."
   ]
  },
  {
   "cell_type": "code",
   "execution_count": 8,
   "metadata": {},
   "outputs": [],
   "source": [
    "d['emp_length'] = d['emp_length'].fillna('< 1 year')"
   ]
  },
  {
   "cell_type": "markdown",
   "metadata": {},
   "source": [
    "All the other missing rows will be dropped. The amount of rows dropped is very minimal when compared to the total number of rows. "
   ]
  },
  {
   "cell_type": "code",
   "execution_count": 9,
   "metadata": {},
   "outputs": [
    {
     "name": "stdout",
     "output_type": "stream",
     "text": [
      "Shape of data after dropping rows with missing values: (2650488, 19)\n"
     ]
    }
   ],
   "source": [
    "d.dropna(inplace=True)\n",
    "d.reset_index(inplace=True, drop=True)\n",
    "\n",
    "print(f\"Shape of data after dropping rows with missing values: {d.shape}\")"
   ]
  },
  {
   "cell_type": "markdown",
   "metadata": {},
   "source": [
    "# General data preprocesing "
   ]
  },
  {
   "cell_type": "markdown",
   "metadata": {},
   "source": [
    "## Categories to numerics"
   ]
  },
  {
   "cell_type": "markdown",
   "metadata": {},
   "source": [
    "The **term** and **emp_length** features are stored as categorical. We need to convert them first to numeric. "
   ]
  },
  {
   "cell_type": "code",
   "execution_count": 10,
   "metadata": {},
   "outputs": [
    {
     "data": {
      "text/plain": [
       "array([' 36 months', ' 60 months'], dtype=object)"
      ]
     },
     "execution_count": 10,
     "metadata": {},
     "output_type": "execute_result"
    }
   ],
   "source": [
    "d['term'].unique()"
   ]
  },
  {
   "cell_type": "code",
   "execution_count": 11,
   "metadata": {},
   "outputs": [
    {
     "data": {
      "text/plain": [
       "array(['10+ years', '3 years', '4 years', '6 years', '1 year', '7 years',\n",
       "       '8 years', '5 years', '2 years', '9 years', '< 1 year'],\n",
       "      dtype=object)"
      ]
     },
     "execution_count": 11,
     "metadata": {},
     "output_type": "execute_result"
    }
   ],
   "source": [
    "d['emp_length'].unique()"
   ]
  },
  {
   "cell_type": "code",
   "execution_count": 12,
   "metadata": {},
   "outputs": [],
   "source": [
    "# Cleaning employment length \n",
    "d['emp_length_int'] = d['emp_length'].str.replace('\\+ years| years| year', '')\n",
    "d['emp_length_int'] = d['emp_length_int'].str.replace('< 1', str(0))\n",
    "\n",
    "# Converting the column type to numeric \n",
    "d['emp_length_int'] = pd.to_numeric(d['emp_length_int'])"
   ]
  },
  {
   "cell_type": "code",
   "execution_count": 13,
   "metadata": {},
   "outputs": [],
   "source": [
    "# Cleaning the term column\n",
    "d['term_int'] = d['term'].str.replace(' months', '')\n",
    "d['term_int'] = d['term_int'].str.replace(' ', '')\n",
    "\n",
    "# Converting the column type to numeric \n",
    "d['term_int'] = pd.to_numeric(d['term_int'])"
   ]
  },
  {
   "cell_type": "markdown",
   "metadata": {},
   "source": [
    "## Categories to dates"
   ]
  },
  {
   "cell_type": "code",
   "execution_count": 14,
   "metadata": {},
   "outputs": [],
   "source": [
    "def convert_to_2digit(x: str) -> datetime.datetime:\n",
    "    \"\"\"\n",
    "    A function to convert 4 digit last part of the date string to 2 digit\n",
    "    \"\"\"\n",
    "    try:\n",
    "        x = x.split('-')\n",
    "        month_part = x[0]\n",
    "        year_part = x[1][-2:]\n",
    "\n",
    "        return datetime.datetime.strptime(f'{month_part}-{year_part}', '%b-%y')\n",
    "    except:\n",
    "        return np.nan"
   ]
  },
  {
   "cell_type": "code",
   "execution_count": 15,
   "metadata": {},
   "outputs": [
    {
     "data": {
      "text/plain": [
       "['Aug-2003',\n",
       " 'Dec-1999',\n",
       " 'Aug-2000',\n",
       " 'Sep-2008',\n",
       " 'Jun-1998',\n",
       " 'Oct-1987',\n",
       " 'Jun-1990',\n",
       " 'Feb-1999',\n",
       " 'Apr-2002',\n",
       " 'Nov-1994']"
      ]
     },
     "execution_count": 15,
     "metadata": {},
     "output_type": "execute_result"
    }
   ],
   "source": [
    "# Inspecting the structure of dates\n",
    "\n",
    "# Head\n",
    "d['earliest_cr_line'].unique().tolist()[0:10]"
   ]
  },
  {
   "cell_type": "code",
   "execution_count": 16,
   "metadata": {},
   "outputs": [
    {
     "data": {
      "text/plain": [
       "['Feb-64',\n",
       " 'Apr-61',\n",
       " 'Jan-56',\n",
       " 'Aug-62',\n",
       " 'Sep-60',\n",
       " 'Aug-59',\n",
       " 'Jun-56',\n",
       " 'Aug-50',\n",
       " 'Jun-59',\n",
       " 'Aug-61']"
      ]
     },
     "execution_count": 16,
     "metadata": {},
     "output_type": "execute_result"
    }
   ],
   "source": [
    "# Tail \n",
    "d['earliest_cr_line'].unique().tolist()[-10:]"
   ]
  },
  {
   "cell_type": "code",
   "execution_count": 17,
   "metadata": {},
   "outputs": [],
   "source": [
    "# Converting to 2 digit years\n",
    "d['earliest_cr_line_date'] = [convert_to_2digit(x) for x in d['earliest_cr_line']]\n",
    "\n",
    "# The exact same logic applies to the column issue_d\n",
    "d['issue_d_date'] = [convert_to_2digit(x) for x in d['issue_d']]"
   ]
  },
  {
   "cell_type": "code",
   "execution_count": 18,
   "metadata": {},
   "outputs": [],
   "source": [
    "# Calculating the dates between loan issue and first credit line issued \n",
    "d['issue_cr_diff'] = d['issue_d_date'] - d['earliest_cr_line_date']"
   ]
  },
  {
   "cell_type": "code",
   "execution_count": 19,
   "metadata": {},
   "outputs": [
    {
     "data": {
      "text/plain": [
       "count                         2650488\n",
       "mean     5902 days 06:11:26.248268288\n",
       "std      2965 days 08:25:30.837980128\n",
       "min             -21915 days +00:00:00\n",
       "25%                4109 days 00:00:00\n",
       "50%                5388 days 00:00:00\n",
       "75%                7366 days 00:00:00\n",
       "max               18505 days 00:00:00\n",
       "Name: issue_cr_diff, dtype: object"
      ]
     },
     "execution_count": 19,
     "metadata": {},
     "output_type": "execute_result"
    }
   ],
   "source": [
    "d['issue_cr_diff'].describe()"
   ]
  },
  {
   "cell_type": "code",
   "execution_count": 20,
   "metadata": {},
   "outputs": [
    {
     "name": "stdout",
     "output_type": "stream",
     "text": [
      "Very old credit lines make of 0.21 % of the data\n"
     ]
    }
   ],
   "source": [
    "print(f\"Very old credit lines make of {round(d[d['issue_cr_diff'].dt.days<0].shape[0] * 100 / d.shape[0], 2)} % of the data\")"
   ]
  },
  {
   "cell_type": "markdown",
   "metadata": {},
   "source": [
    "For now, we will drop the very old users. The droping of these rows will have very little influence to the final coefficients."
   ]
  },
  {
   "cell_type": "code",
   "execution_count": 21,
   "metadata": {},
   "outputs": [],
   "source": [
    "d = d[d['issue_cr_diff'].dt.days>0]\n",
    "\n",
    "d.reset_index(inplace=True, drop=True)"
   ]
  },
  {
   "cell_type": "markdown",
   "metadata": {},
   "source": [
    "By convention, in credit risk modeling, months are prefered vs days. "
   ]
  },
  {
   "cell_type": "code",
   "execution_count": 22,
   "metadata": {},
   "outputs": [],
   "source": [
    "d['issue_cr_diff_mnth'] = [int(x) for x in d['issue_cr_diff'] / np.timedelta64(1, 'M')]"
   ]
  },
  {
   "cell_type": "markdown",
   "metadata": {},
   "source": [
    "Let us imagine that the current date when we are calculating the risk is 2020-01-01."
   ]
  },
  {
   "cell_type": "code",
   "execution_count": 23,
   "metadata": {},
   "outputs": [],
   "source": [
    "cur_date = datetime.datetime(2020, 1, 1)\n",
    "\n",
    "# Creating an additional column to see days past since the loan issue \n",
    "d['days_since_issue'] = cur_date - d['issue_d_date']\n",
    "d['mnth_since_issue'] = [int(x) for x in d['days_since_issue'] / np.timedelta64(1, 'M')]"
   ]
  },
  {
   "cell_type": "code",
   "execution_count": 24,
   "metadata": {},
   "outputs": [
    {
     "data": {
      "text/html": [
       "<div>\n",
       "<style scoped>\n",
       "    .dataframe tbody tr th:only-of-type {\n",
       "        vertical-align: middle;\n",
       "    }\n",
       "\n",
       "    .dataframe tbody tr th {\n",
       "        vertical-align: top;\n",
       "    }\n",
       "\n",
       "    .dataframe thead th {\n",
       "        text-align: right;\n",
       "    }\n",
       "</style>\n",
       "<table border=\"1\" class=\"dataframe\">\n",
       "  <thead>\n",
       "    <tr style=\"text-align: right;\">\n",
       "      <th></th>\n",
       "      <th>earliest_cr_line</th>\n",
       "      <th>earliest_cr_line_date</th>\n",
       "      <th>issue_d</th>\n",
       "      <th>issue_d_date</th>\n",
       "      <th>issue_cr_diff</th>\n",
       "      <th>issue_cr_diff_mnth</th>\n",
       "      <th>mnth_since_issue</th>\n",
       "    </tr>\n",
       "  </thead>\n",
       "  <tbody>\n",
       "    <tr>\n",
       "      <th>214873</th>\n",
       "      <td>Feb-1975</td>\n",
       "      <td>1975-02-01</td>\n",
       "      <td>Jul-2015</td>\n",
       "      <td>2015-07-01</td>\n",
       "      <td>14760 days</td>\n",
       "      <td>484</td>\n",
       "      <td>54</td>\n",
       "    </tr>\n",
       "    <tr>\n",
       "      <th>2167471</th>\n",
       "      <td>Oct-1991</td>\n",
       "      <td>1991-10-01</td>\n",
       "      <td>Dec-2016</td>\n",
       "      <td>2016-12-01</td>\n",
       "      <td>9193 days</td>\n",
       "      <td>302</td>\n",
       "      <td>36</td>\n",
       "    </tr>\n",
       "    <tr>\n",
       "      <th>1195606</th>\n",
       "      <td>Jan-2001</td>\n",
       "      <td>2001-01-01</td>\n",
       "      <td>Sep-2014</td>\n",
       "      <td>2014-09-01</td>\n",
       "      <td>4991 days</td>\n",
       "      <td>163</td>\n",
       "      <td>64</td>\n",
       "    </tr>\n",
       "    <tr>\n",
       "      <th>1547283</th>\n",
       "      <td>Jun-2004</td>\n",
       "      <td>2004-06-01</td>\n",
       "      <td>May-2018</td>\n",
       "      <td>2018-05-01</td>\n",
       "      <td>5082 days</td>\n",
       "      <td>166</td>\n",
       "      <td>20</td>\n",
       "    </tr>\n",
       "    <tr>\n",
       "      <th>1060557</th>\n",
       "      <td>Apr-2008</td>\n",
       "      <td>2008-04-01</td>\n",
       "      <td>Feb-2016</td>\n",
       "      <td>2016-02-01</td>\n",
       "      <td>2862 days</td>\n",
       "      <td>94</td>\n",
       "      <td>46</td>\n",
       "    </tr>\n",
       "    <tr>\n",
       "      <th>1666056</th>\n",
       "      <td>Jun-1999</td>\n",
       "      <td>1999-06-01</td>\n",
       "      <td>Mar-2017</td>\n",
       "      <td>2017-03-01</td>\n",
       "      <td>6483 days</td>\n",
       "      <td>212</td>\n",
       "      <td>34</td>\n",
       "    </tr>\n",
       "    <tr>\n",
       "      <th>1600890</th>\n",
       "      <td>Aug-2006</td>\n",
       "      <td>2006-08-01</td>\n",
       "      <td>Apr-2018</td>\n",
       "      <td>2018-04-01</td>\n",
       "      <td>4261 days</td>\n",
       "      <td>139</td>\n",
       "      <td>21</td>\n",
       "    </tr>\n",
       "    <tr>\n",
       "      <th>1095651</th>\n",
       "      <td>Nov-2006</td>\n",
       "      <td>2006-11-01</td>\n",
       "      <td>Jan-2016</td>\n",
       "      <td>2016-01-01</td>\n",
       "      <td>3348 days</td>\n",
       "      <td>109</td>\n",
       "      <td>48</td>\n",
       "    </tr>\n",
       "    <tr>\n",
       "      <th>767281</th>\n",
       "      <td>Sep-2007</td>\n",
       "      <td>2007-09-01</td>\n",
       "      <td>Sep-2018</td>\n",
       "      <td>2018-09-01</td>\n",
       "      <td>4018 days</td>\n",
       "      <td>132</td>\n",
       "      <td>16</td>\n",
       "    </tr>\n",
       "    <tr>\n",
       "      <th>789753</th>\n",
       "      <td>Dec-2005</td>\n",
       "      <td>2005-12-01</td>\n",
       "      <td>Aug-2018</td>\n",
       "      <td>2018-08-01</td>\n",
       "      <td>4626 days</td>\n",
       "      <td>151</td>\n",
       "      <td>17</td>\n",
       "    </tr>\n",
       "  </tbody>\n",
       "</table>\n",
       "</div>"
      ],
      "text/plain": [
       "        earliest_cr_line earliest_cr_line_date   issue_d issue_d_date  \\\n",
       "214873          Feb-1975            1975-02-01  Jul-2015   2015-07-01   \n",
       "2167471         Oct-1991            1991-10-01  Dec-2016   2016-12-01   \n",
       "1195606         Jan-2001            2001-01-01  Sep-2014   2014-09-01   \n",
       "1547283         Jun-2004            2004-06-01  May-2018   2018-05-01   \n",
       "1060557         Apr-2008            2008-04-01  Feb-2016   2016-02-01   \n",
       "1666056         Jun-1999            1999-06-01  Mar-2017   2017-03-01   \n",
       "1600890         Aug-2006            2006-08-01  Apr-2018   2018-04-01   \n",
       "1095651         Nov-2006            2006-11-01  Jan-2016   2016-01-01   \n",
       "767281          Sep-2007            2007-09-01  Sep-2018   2018-09-01   \n",
       "789753          Dec-2005            2005-12-01  Aug-2018   2018-08-01   \n",
       "\n",
       "        issue_cr_diff  issue_cr_diff_mnth  mnth_since_issue  \n",
       "214873     14760 days                 484                54  \n",
       "2167471     9193 days                 302                36  \n",
       "1195606     4991 days                 163                64  \n",
       "1547283     5082 days                 166                20  \n",
       "1060557     2862 days                  94                46  \n",
       "1666056     6483 days                 212                34  \n",
       "1600890     4261 days                 139                21  \n",
       "1095651     3348 days                 109                48  \n",
       "767281      4018 days                 132                16  \n",
       "789753      4626 days                 151                17  "
      ]
     },
     "execution_count": 24,
     "metadata": {},
     "output_type": "execute_result"
    }
   ],
   "source": [
    "# Inspecting the results of engineering\n",
    "d[[\n",
    "    'earliest_cr_line', \n",
    "    'earliest_cr_line_date', \n",
    "    'issue_d', \n",
    "    'issue_d_date', \n",
    "    'issue_cr_diff',\n",
    "    'issue_cr_diff_mnth',\n",
    "    'mnth_since_issue'\n",
    "]].sample(10)"
   ]
  },
  {
   "cell_type": "markdown",
   "metadata": {},
   "source": [
    "## Preprocesing the categorical variables "
   ]
  },
  {
   "cell_type": "markdown",
   "metadata": {},
   "source": [
    "The aim of categorical variable preprocesing is to convert them into dummy variables. "
   ]
  },
  {
   "cell_type": "code",
   "execution_count": 25,
   "metadata": {},
   "outputs": [],
   "source": [
    "categorical_vars = [\n",
    "    'grade',\n",
    "    'sub_grade',\n",
    "    'home_ownership',\n",
    "    'verification_status',\n",
    "    'purpose',\n",
    "    'addr_state',\n",
    "    'initial_list_status'\n",
    "]\n",
    "\n",
    "dummylist = []\n",
    "\n",
    "for categorical_var in categorical_vars:\n",
    "    dummylist.append(pd.get_dummies(d[categorical_var], prefix=f'{categorical_var}'))\n",
    "    \n",
    "# Creating the dummy dataframe for the categorical variables\n",
    "dummydf = pd.concat(dummylist, axis=1)"
   ]
  },
  {
   "cell_type": "code",
   "execution_count": 26,
   "metadata": {},
   "outputs": [
    {
     "data": {
      "text/plain": [
       "array(['grade_A', 'grade_B', 'grade_C', 'grade_D', 'grade_E', 'grade_F',\n",
       "       'grade_G', 'sub_grade_A1', 'sub_grade_A2', 'sub_grade_A3',\n",
       "       'sub_grade_A4', 'sub_grade_A5', 'sub_grade_B1', 'sub_grade_B2',\n",
       "       'sub_grade_B3', 'sub_grade_B4', 'sub_grade_B5', 'sub_grade_C1',\n",
       "       'sub_grade_C2', 'sub_grade_C3', 'sub_grade_C4', 'sub_grade_C5',\n",
       "       'sub_grade_D1', 'sub_grade_D2', 'sub_grade_D3', 'sub_grade_D4',\n",
       "       'sub_grade_D5', 'sub_grade_E1', 'sub_grade_E2', 'sub_grade_E3',\n",
       "       'sub_grade_E4', 'sub_grade_E5', 'sub_grade_F1', 'sub_grade_F2',\n",
       "       'sub_grade_F3', 'sub_grade_F4', 'sub_grade_F5', 'sub_grade_G1',\n",
       "       'sub_grade_G2', 'sub_grade_G3', 'sub_grade_G4', 'sub_grade_G5',\n",
       "       'home_ownership_ANY', 'home_ownership_MORTGAGE',\n",
       "       'home_ownership_NONE', 'home_ownership_OTHER',\n",
       "       'home_ownership_OWN', 'home_ownership_RENT',\n",
       "       'verification_status_Not Verified',\n",
       "       'verification_status_Source Verified',\n",
       "       'verification_status_Verified', 'purpose_car',\n",
       "       'purpose_credit_card', 'purpose_debt_consolidation',\n",
       "       'purpose_educational', 'purpose_home_improvement', 'purpose_house',\n",
       "       'purpose_major_purchase', 'purpose_medical', 'purpose_moving',\n",
       "       'purpose_other', 'purpose_renewable_energy',\n",
       "       'purpose_small_business', 'purpose_vacation', 'purpose_wedding',\n",
       "       'addr_state_AK', 'addr_state_AL', 'addr_state_AR', 'addr_state_AZ',\n",
       "       'addr_state_CA', 'addr_state_CO', 'addr_state_CT', 'addr_state_DC',\n",
       "       'addr_state_DE', 'addr_state_FL', 'addr_state_GA', 'addr_state_HI',\n",
       "       'addr_state_IA', 'addr_state_ID', 'addr_state_IL', 'addr_state_IN',\n",
       "       'addr_state_KS', 'addr_state_KY', 'addr_state_LA', 'addr_state_MA',\n",
       "       'addr_state_MD', 'addr_state_ME', 'addr_state_MI', 'addr_state_MN',\n",
       "       'addr_state_MO', 'addr_state_MS', 'addr_state_MT', 'addr_state_NC',\n",
       "       'addr_state_ND', 'addr_state_NE', 'addr_state_NH', 'addr_state_NJ',\n",
       "       'addr_state_NM', 'addr_state_NV', 'addr_state_NY', 'addr_state_OH',\n",
       "       'addr_state_OK', 'addr_state_OR', 'addr_state_PA', 'addr_state_RI',\n",
       "       'addr_state_SC', 'addr_state_SD', 'addr_state_TN', 'addr_state_TX',\n",
       "       'addr_state_UT', 'addr_state_VA', 'addr_state_VT', 'addr_state_WA',\n",
       "       'addr_state_WI', 'addr_state_WV', 'addr_state_WY',\n",
       "       'initial_list_status_f', 'initial_list_status_w'], dtype=object)"
      ]
     },
     "execution_count": 26,
     "metadata": {},
     "output_type": "execute_result"
    }
   ],
   "source": [
    "# Listing all the columns\n",
    "dummydf.columns.values"
   ]
  },
  {
   "cell_type": "code",
   "execution_count": 27,
   "metadata": {},
   "outputs": [],
   "source": [
    "# Getting the numeric feature list \n",
    "numeric_features = [\n",
    "    'loan_amnt',\n",
    "    'funded_amnt',\n",
    "    'term',\n",
    "    'emp_length',\n",
    "    'annual_inc',\n",
    "    'mnth_since_issue',\n",
    "    'term_int',\n",
    "    # Adding load_status for Y creation\n",
    "    'loan_status'\n",
    "]"
   ]
  },
  {
   "cell_type": "code",
   "execution_count": 28,
   "metadata": {},
   "outputs": [],
   "source": [
    "# Creating the dataframe with numeric and dummy variables \n",
    "d = pd.concat([d, dummydf], axis=1)"
   ]
  },
  {
   "cell_type": "markdown",
   "metadata": {},
   "source": [
    "# Probability of default (PD) modeling"
   ]
  },
  {
   "cell_type": "markdown",
   "metadata": {},
   "source": [
    "The main objective in PD modeling is to create a model to infer a probability for a default given a set of features $X$.\n",
    "\n",
    "It is established by various auditing firms that the interpretation of the model needs to be easy even for not statistical savy people. One highly interpretable machine learning model is logistic regression. \n",
    "\n",
    "Another agreed upon part of PD modeling is that the $X$ matrix needs to be comprised of dummy variable data. Thus, even continues numeric variables need to be converted to categorical features. Additionally, when creating the $Y$ variable, positive coefficients in logistic regression need to lead to a \"positive\" class, meaning, the higher a given value, the less chance of default."
   ]
  },
  {
   "cell_type": "markdown",
   "metadata": {},
   "source": [
    "# Creation of the dependant variable "
   ]
  },
  {
   "cell_type": "markdown",
   "metadata": {},
   "source": [
    "One of the widespread default definition is that if a person is not able to pay their obligations in 90 days, it is considered default. In the PD modeling space, the Y encoding to non defaul and default is often termed \"good bad\" encoding."
   ]
  },
  {
   "cell_type": "code",
   "execution_count": 29,
   "metadata": {},
   "outputs": [
    {
     "data": {
      "text/plain": [
       "Current                                                0.459636\n",
       "Fully Paid                                             0.419460\n",
       "Charged Off                                            0.103261\n",
       "Late (31-120 days)                                     0.010211\n",
       "In Grace Period                                        0.004294\n",
       "Late (16-30 days)                                      0.002094\n",
       "Does not meet the credit policy. Status:Fully Paid     0.000740\n",
       "Does not meet the credit policy. Status:Charged Off    0.000286\n",
       "Default                                                0.000017\n",
       "Name: loan_status, dtype: float64"
      ]
     },
     "execution_count": 29,
     "metadata": {},
     "output_type": "execute_result"
    }
   ],
   "source": [
    "d['loan_status'].value_counts() / d['loan_status'].count()"
   ]
  },
  {
   "cell_type": "code",
   "execution_count": 30,
   "metadata": {},
   "outputs": [],
   "source": [
    "# Creating the Y (good_bad) variable for the probability of default analysis\n",
    "d['good_bad'] = np.where(d['loan_status'].isin([\n",
    "    'Charged Off', \n",
    "    'Default',\n",
    "    'Late (31-120 days)',\n",
    "    'Does not meet the credit policy. Status:Charged Off'\n",
    "]), 0, 1)"
   ]
  },
  {
   "cell_type": "code",
   "execution_count": 31,
   "metadata": {},
   "outputs": [
    {
     "data": {
      "text/plain": [
       "1    0.886225\n",
       "0    0.113775\n",
       "Name: good_bad, dtype: float64"
      ]
     },
     "execution_count": 31,
     "metadata": {},
     "output_type": "execute_result"
    }
   ],
   "source": [
    "# Distribution of classes\n",
    "d['good_bad'].value_counts() / d['good_bad'].count()"
   ]
  },
  {
   "cell_type": "markdown",
   "metadata": {},
   "source": [
    "# Spliting the data into train, validation and test sets"
   ]
  },
  {
   "cell_type": "markdown",
   "metadata": {},
   "source": [
    "The amount of data for training will be 80 percent of the whole dataset, validation (used for hyperparameter tuning) will be 10 percent and the test set (which we will measure some accuracy metrics) will be 10 percent. "
   ]
  },
  {
   "cell_type": "code",
   "execution_count": 32,
   "metadata": {},
   "outputs": [],
   "source": [
    "train, val, test = np.split(d.sample(frac=1, random_state=42), [int(.8*len(d)), int(.9*len(d))])"
   ]
  },
  {
   "cell_type": "code",
   "execution_count": 33,
   "metadata": {},
   "outputs": [
    {
     "name": "stdout",
     "output_type": "stream",
     "text": [
      "Shape of training data: (2115933, 146)\n",
      "Shape of training data: (264492, 146)\n",
      "Shape of training data: (264492, 146)\n"
     ]
    }
   ],
   "source": [
    "print(f\"Shape of training data: {train.shape}\")\n",
    "print(f\"Shape of training data: {val.shape}\")\n",
    "print(f\"Shape of training data: {test.shape}\")"
   ]
  },
  {
   "cell_type": "markdown",
   "metadata": {},
   "source": [
    "# Fine classing, weight of evidence and coarse classing"
   ]
  },
  {
   "cell_type": "markdown",
   "metadata": {},
   "source": [
    "Fine classing is a technique that groups a variable's values into a number of fine bins. Using these bins, a measure of the variable's predictive power, known as information value (IV), can be computed. Also from these fine bins, further grouping can be carried out to result in coarse classing."
   ]
  },
  {
   "cell_type": "markdown",
   "metadata": {},
   "source": [
    "One of the fundamental concepts in information value is the weight of evidence concept. The weight of evidence tells the predictive power of an independent variable in relation to the dependent variable.\n",
    "\n",
    "For a given feature $i$, the weight of evidence, or, $WoE_{i}$ is calculated by: \n",
    "\n",
    "$$ WoE_{i} = log\\left(\\dfrac{\\% of y = 1 | x = i}{\\% of y = 0 | x = i}\\right)$$"
   ]
  },
  {
   "cell_type": "markdown",
   "metadata": {},
   "source": [
    "Thus, the woe is calculated for each feature in our dataset."
   ]
  },
  {
   "cell_type": "markdown",
   "metadata": {},
   "source": [
    "## Caluclating the WoE for home ownership"
   ]
  },
  {
   "cell_type": "markdown",
   "metadata": {},
   "source": [
    "Lets go step by step and calculate the WoE statistic for all the levels of the home ownership categorical value. "
   ]
  },
  {
   "cell_type": "code",
   "execution_count": 56,
   "metadata": {},
   "outputs": [],
   "source": [
    "# Subseting the data\n",
    "woe = d[['home_ownership', 'good_bad']]\n",
    "\n",
    "# Lets calculate the number of borrowers for each status \n",
    "grouped = woe.groupby('home_ownership', as_index=False)['good_bad'].count()"
   ]
  },
  {
   "cell_type": "code",
   "execution_count": 57,
   "metadata": {},
   "outputs": [
    {
     "data": {
      "text/html": [
       "<div>\n",
       "<style scoped>\n",
       "    .dataframe tbody tr th:only-of-type {\n",
       "        vertical-align: middle;\n",
       "    }\n",
       "\n",
       "    .dataframe tbody tr th {\n",
       "        vertical-align: top;\n",
       "    }\n",
       "\n",
       "    .dataframe thead th {\n",
       "        text-align: right;\n",
       "    }\n",
       "</style>\n",
       "<table border=\"1\" class=\"dataframe\">\n",
       "  <thead>\n",
       "    <tr style=\"text-align: right;\">\n",
       "      <th></th>\n",
       "      <th>home_ownership</th>\n",
       "      <th>good_bad</th>\n",
       "    </tr>\n",
       "  </thead>\n",
       "  <tbody>\n",
       "    <tr>\n",
       "      <th>0</th>\n",
       "      <td>ANY</td>\n",
       "      <td>3344</td>\n",
       "    </tr>\n",
       "    <tr>\n",
       "      <th>1</th>\n",
       "      <td>MORTGAGE</td>\n",
       "      <td>1301433</td>\n",
       "    </tr>\n",
       "    <tr>\n",
       "      <th>2</th>\n",
       "      <td>NONE</td>\n",
       "      <td>51</td>\n",
       "    </tr>\n",
       "    <tr>\n",
       "      <th>3</th>\n",
       "      <td>OTHER</td>\n",
       "      <td>181</td>\n",
       "    </tr>\n",
       "    <tr>\n",
       "      <th>4</th>\n",
       "      <td>OWN</td>\n",
       "      <td>297331</td>\n",
       "    </tr>\n",
       "    <tr>\n",
       "      <th>5</th>\n",
       "      <td>RENT</td>\n",
       "      <td>1042577</td>\n",
       "    </tr>\n",
       "  </tbody>\n",
       "</table>\n",
       "</div>"
      ],
      "text/plain": [
       "  home_ownership  good_bad\n",
       "0            ANY      3344\n",
       "1       MORTGAGE   1301433\n",
       "2           NONE        51\n",
       "3          OTHER       181\n",
       "4            OWN    297331\n",
       "5           RENT   1042577"
      ]
     },
     "execution_count": 57,
     "metadata": {},
     "output_type": "execute_result"
    }
   ],
   "source": [
    "# Inspecting the total number of people in each group \n",
    "grouped"
   ]
  },
  {
   "cell_type": "code",
   "execution_count": 58,
   "metadata": {},
   "outputs": [
    {
     "data": {
      "text/html": [
       "<div>\n",
       "<style scoped>\n",
       "    .dataframe tbody tr th:only-of-type {\n",
       "        vertical-align: middle;\n",
       "    }\n",
       "\n",
       "    .dataframe tbody tr th {\n",
       "        vertical-align: top;\n",
       "    }\n",
       "\n",
       "    .dataframe thead th {\n",
       "        text-align: right;\n",
       "    }\n",
       "</style>\n",
       "<table border=\"1\" class=\"dataframe\">\n",
       "  <thead>\n",
       "    <tr style=\"text-align: right;\">\n",
       "      <th></th>\n",
       "      <th>home_ownership</th>\n",
       "      <th>good_bad</th>\n",
       "      <th>good_borrowers</th>\n",
       "      <th>bad_borrowers</th>\n",
       "      <th>share_good</th>\n",
       "      <th>share_bad</th>\n",
       "    </tr>\n",
       "  </thead>\n",
       "  <tbody>\n",
       "    <tr>\n",
       "      <th>0</th>\n",
       "      <td>ANY</td>\n",
       "      <td>3344</td>\n",
       "      <td>3166</td>\n",
       "      <td>178</td>\n",
       "      <td>0.946770</td>\n",
       "      <td>0.053230</td>\n",
       "    </tr>\n",
       "    <tr>\n",
       "      <th>1</th>\n",
       "      <td>MORTGAGE</td>\n",
       "      <td>1301433</td>\n",
       "      <td>1172969</td>\n",
       "      <td>128464</td>\n",
       "      <td>0.901290</td>\n",
       "      <td>0.098710</td>\n",
       "    </tr>\n",
       "    <tr>\n",
       "      <th>2</th>\n",
       "      <td>NONE</td>\n",
       "      <td>51</td>\n",
       "      <td>43</td>\n",
       "      <td>8</td>\n",
       "      <td>0.843137</td>\n",
       "      <td>0.156863</td>\n",
       "    </tr>\n",
       "    <tr>\n",
       "      <th>3</th>\n",
       "      <td>OTHER</td>\n",
       "      <td>181</td>\n",
       "      <td>143</td>\n",
       "      <td>38</td>\n",
       "      <td>0.790055</td>\n",
       "      <td>0.209945</td>\n",
       "    </tr>\n",
       "    <tr>\n",
       "      <th>4</th>\n",
       "      <td>OWN</td>\n",
       "      <td>297331</td>\n",
       "      <td>263485</td>\n",
       "      <td>33846</td>\n",
       "      <td>0.886167</td>\n",
       "      <td>0.113833</td>\n",
       "    </tr>\n",
       "    <tr>\n",
       "      <th>5</th>\n",
       "      <td>RENT</td>\n",
       "      <td>1042577</td>\n",
       "      <td>904185</td>\n",
       "      <td>138392</td>\n",
       "      <td>0.867260</td>\n",
       "      <td>0.132740</td>\n",
       "    </tr>\n",
       "  </tbody>\n",
       "</table>\n",
       "</div>"
      ],
      "text/plain": [
       "  home_ownership  good_bad  good_borrowers  bad_borrowers  share_good  \\\n",
       "0            ANY      3344            3166            178    0.946770   \n",
       "1       MORTGAGE   1301433         1172969         128464    0.901290   \n",
       "2           NONE        51              43              8    0.843137   \n",
       "3          OTHER       181             143             38    0.790055   \n",
       "4            OWN    297331          263485          33846    0.886167   \n",
       "5           RENT   1042577          904185         138392    0.867260   \n",
       "\n",
       "   share_bad  \n",
       "0   0.053230  \n",
       "1   0.098710  \n",
       "2   0.156863  \n",
       "3   0.209945  \n",
       "4   0.113833  \n",
       "5   0.132740  "
      ]
     },
     "execution_count": 58,
     "metadata": {},
     "output_type": "execute_result"
    }
   ],
   "source": [
    "# Getting the total good borrowers in each group \n",
    "groupedgood = woe.groupby('home_ownership', as_index=False)['good_bad'].sum().rename(columns={'good_bad': 'good_borrowers'})\n",
    "\n",
    "# Merging with the initial dataframe\n",
    "grouped = pd.merge(grouped, groupedgood, on='home_ownership')\n",
    "\n",
    "# Getting the number of bad borrowers\n",
    "grouped['bad_borrowers'] = grouped['good_bad'] - grouped['good_borrowers']\n",
    "\n",
    "# Calculating the share of good borrowers\n",
    "grouped['share_good'] = grouped['good_borrowers'] / grouped['good_bad']\n",
    "\n",
    "# Calculating the share of bad borrowers\n",
    "grouped['share_bad'] = 1 - grouped['share_good']\n",
    "\n",
    "# Seeing the results\n",
    "grouped"
   ]
  },
  {
   "cell_type": "code",
   "execution_count": 62,
   "metadata": {},
   "outputs": [
    {
     "data": {
      "text/html": [
       "<div>\n",
       "<style scoped>\n",
       "    .dataframe tbody tr th:only-of-type {\n",
       "        vertical-align: middle;\n",
       "    }\n",
       "\n",
       "    .dataframe tbody tr th {\n",
       "        vertical-align: top;\n",
       "    }\n",
       "\n",
       "    .dataframe thead th {\n",
       "        text-align: right;\n",
       "    }\n",
       "</style>\n",
       "<table border=\"1\" class=\"dataframe\">\n",
       "  <thead>\n",
       "    <tr style=\"text-align: right;\">\n",
       "      <th></th>\n",
       "      <th>home_ownership</th>\n",
       "      <th>good_bad</th>\n",
       "      <th>good_borrowers</th>\n",
       "      <th>bad_borrowers</th>\n",
       "      <th>share_good</th>\n",
       "      <th>share_bad</th>\n",
       "      <th>prop_n_good</th>\n",
       "      <th>prop_n_bad</th>\n",
       "    </tr>\n",
       "  </thead>\n",
       "  <tbody>\n",
       "    <tr>\n",
       "      <th>0</th>\n",
       "      <td>ANY</td>\n",
       "      <td>3344</td>\n",
       "      <td>3166</td>\n",
       "      <td>178</td>\n",
       "      <td>0.946770</td>\n",
       "      <td>0.053230</td>\n",
       "      <td>0.001351</td>\n",
       "      <td>0.000592</td>\n",
       "    </tr>\n",
       "    <tr>\n",
       "      <th>1</th>\n",
       "      <td>MORTGAGE</td>\n",
       "      <td>1301433</td>\n",
       "      <td>1172969</td>\n",
       "      <td>128464</td>\n",
       "      <td>0.901290</td>\n",
       "      <td>0.098710</td>\n",
       "      <td>0.500415</td>\n",
       "      <td>0.426896</td>\n",
       "    </tr>\n",
       "    <tr>\n",
       "      <th>2</th>\n",
       "      <td>NONE</td>\n",
       "      <td>51</td>\n",
       "      <td>43</td>\n",
       "      <td>8</td>\n",
       "      <td>0.843137</td>\n",
       "      <td>0.156863</td>\n",
       "      <td>0.000018</td>\n",
       "      <td>0.000027</td>\n",
       "    </tr>\n",
       "    <tr>\n",
       "      <th>3</th>\n",
       "      <td>OTHER</td>\n",
       "      <td>181</td>\n",
       "      <td>143</td>\n",
       "      <td>38</td>\n",
       "      <td>0.790055</td>\n",
       "      <td>0.209945</td>\n",
       "      <td>0.000061</td>\n",
       "      <td>0.000126</td>\n",
       "    </tr>\n",
       "    <tr>\n",
       "      <th>4</th>\n",
       "      <td>OWN</td>\n",
       "      <td>297331</td>\n",
       "      <td>263485</td>\n",
       "      <td>33846</td>\n",
       "      <td>0.886167</td>\n",
       "      <td>0.113833</td>\n",
       "      <td>0.112409</td>\n",
       "      <td>0.112473</td>\n",
       "    </tr>\n",
       "    <tr>\n",
       "      <th>5</th>\n",
       "      <td>RENT</td>\n",
       "      <td>1042577</td>\n",
       "      <td>904185</td>\n",
       "      <td>138392</td>\n",
       "      <td>0.867260</td>\n",
       "      <td>0.132740</td>\n",
       "      <td>0.385746</td>\n",
       "      <td>0.459887</td>\n",
       "    </tr>\n",
       "  </tbody>\n",
       "</table>\n",
       "</div>"
      ],
      "text/plain": [
       "  home_ownership  good_bad  good_borrowers  bad_borrowers  share_good  \\\n",
       "0            ANY      3344            3166            178    0.946770   \n",
       "1       MORTGAGE   1301433         1172969         128464    0.901290   \n",
       "2           NONE        51              43              8    0.843137   \n",
       "3          OTHER       181             143             38    0.790055   \n",
       "4            OWN    297331          263485          33846    0.886167   \n",
       "5           RENT   1042577          904185         138392    0.867260   \n",
       "\n",
       "   share_bad  prop_n_good  prop_n_bad  \n",
       "0   0.053230     0.001351    0.000592  \n",
       "1   0.098710     0.500415    0.426896  \n",
       "2   0.156863     0.000018    0.000027  \n",
       "3   0.209945     0.000061    0.000126  \n",
       "4   0.113833     0.112409    0.112473  \n",
       "5   0.132740     0.385746    0.459887  "
      ]
     },
     "execution_count": 62,
     "metadata": {},
     "output_type": "execute_result"
    }
   ],
   "source": [
    "# Calculating the total proportion of good/bad borrowers in each group \n",
    "grouped['prop_n_good'] = grouped['good_borrowers'] / grouped['good_borrowers'].sum()\n",
    "grouped['prop_n_bad'] = grouped['bad_borrowers'] / grouped['bad_borrowers'].sum()\n",
    "\n",
    "grouped"
   ]
  },
  {
   "cell_type": "markdown",
   "metadata": {},
   "source": [
    "In the above dataset we have everything we need to calculate the weight of evidence for each categorical variable level. "
   ]
  },
  {
   "cell_type": "code",
   "execution_count": 63,
   "metadata": {},
   "outputs": [],
   "source": [
    "grouped['woe'] = np.log(grouped['prop_n_good'] / grouped['prop_n_bad'])"
   ]
  },
  {
   "cell_type": "code",
   "execution_count": 64,
   "metadata": {},
   "outputs": [
    {
     "data": {
      "text/html": [
       "<div>\n",
       "<style scoped>\n",
       "    .dataframe tbody tr th:only-of-type {\n",
       "        vertical-align: middle;\n",
       "    }\n",
       "\n",
       "    .dataframe tbody tr th {\n",
       "        vertical-align: top;\n",
       "    }\n",
       "\n",
       "    .dataframe thead th {\n",
       "        text-align: right;\n",
       "    }\n",
       "</style>\n",
       "<table border=\"1\" class=\"dataframe\">\n",
       "  <thead>\n",
       "    <tr style=\"text-align: right;\">\n",
       "      <th></th>\n",
       "      <th>home_ownership</th>\n",
       "      <th>good_bad</th>\n",
       "      <th>good_borrowers</th>\n",
       "      <th>bad_borrowers</th>\n",
       "      <th>share_good</th>\n",
       "      <th>share_bad</th>\n",
       "      <th>prop_n_good</th>\n",
       "      <th>prop_n_bad</th>\n",
       "      <th>woe</th>\n",
       "    </tr>\n",
       "  </thead>\n",
       "  <tbody>\n",
       "    <tr>\n",
       "      <th>0</th>\n",
       "      <td>ANY</td>\n",
       "      <td>3344</td>\n",
       "      <td>3166</td>\n",
       "      <td>178</td>\n",
       "      <td>0.946770</td>\n",
       "      <td>0.053230</td>\n",
       "      <td>0.001351</td>\n",
       "      <td>0.000592</td>\n",
       "      <td>0.825695</td>\n",
       "    </tr>\n",
       "    <tr>\n",
       "      <th>1</th>\n",
       "      <td>MORTGAGE</td>\n",
       "      <td>1301433</td>\n",
       "      <td>1172969</td>\n",
       "      <td>128464</td>\n",
       "      <td>0.901290</td>\n",
       "      <td>0.098710</td>\n",
       "      <td>0.500415</td>\n",
       "      <td>0.426896</td>\n",
       "      <td>0.158899</td>\n",
       "    </tr>\n",
       "    <tr>\n",
       "      <th>2</th>\n",
       "      <td>NONE</td>\n",
       "      <td>51</td>\n",
       "      <td>43</td>\n",
       "      <td>8</td>\n",
       "      <td>0.843137</td>\n",
       "      <td>0.156863</td>\n",
       "      <td>0.000018</td>\n",
       "      <td>0.000027</td>\n",
       "      <td>-0.370987</td>\n",
       "    </tr>\n",
       "    <tr>\n",
       "      <th>3</th>\n",
       "      <td>OTHER</td>\n",
       "      <td>181</td>\n",
       "      <td>143</td>\n",
       "      <td>38</td>\n",
       "      <td>0.790055</td>\n",
       "      <td>0.209945</td>\n",
       "      <td>0.000061</td>\n",
       "      <td>0.000126</td>\n",
       "      <td>-0.727487</td>\n",
       "    </tr>\n",
       "    <tr>\n",
       "      <th>4</th>\n",
       "      <td>OWN</td>\n",
       "      <td>297331</td>\n",
       "      <td>263485</td>\n",
       "      <td>33846</td>\n",
       "      <td>0.886167</td>\n",
       "      <td>0.113833</td>\n",
       "      <td>0.112409</td>\n",
       "      <td>0.112473</td>\n",
       "      <td>-0.000570</td>\n",
       "    </tr>\n",
       "    <tr>\n",
       "      <th>5</th>\n",
       "      <td>RENT</td>\n",
       "      <td>1042577</td>\n",
       "      <td>904185</td>\n",
       "      <td>138392</td>\n",
       "      <td>0.867260</td>\n",
       "      <td>0.132740</td>\n",
       "      <td>0.385746</td>\n",
       "      <td>0.459887</td>\n",
       "      <td>-0.175802</td>\n",
       "    </tr>\n",
       "  </tbody>\n",
       "</table>\n",
       "</div>"
      ],
      "text/plain": [
       "  home_ownership  good_bad  good_borrowers  bad_borrowers  share_good  \\\n",
       "0            ANY      3344            3166            178    0.946770   \n",
       "1       MORTGAGE   1301433         1172969         128464    0.901290   \n",
       "2           NONE        51              43              8    0.843137   \n",
       "3          OTHER       181             143             38    0.790055   \n",
       "4            OWN    297331          263485          33846    0.886167   \n",
       "5           RENT   1042577          904185         138392    0.867260   \n",
       "\n",
       "   share_bad  prop_n_good  prop_n_bad       woe  \n",
       "0   0.053230     0.001351    0.000592  0.825695  \n",
       "1   0.098710     0.500415    0.426896  0.158899  \n",
       "2   0.156863     0.000018    0.000027 -0.370987  \n",
       "3   0.209945     0.000061    0.000126 -0.727487  \n",
       "4   0.113833     0.112409    0.112473 -0.000570  \n",
       "5   0.132740     0.385746    0.459887 -0.175802  "
      ]
     },
     "execution_count": 64,
     "metadata": {},
     "output_type": "execute_result"
    }
   ],
   "source": [
    "grouped"
   ]
  },
  {
   "cell_type": "code",
   "execution_count": 69,
   "metadata": {},
   "outputs": [
    {
     "name": "stdout",
     "output_type": "stream",
     "text": [
      "The information value is :0.025393800387701254\n"
     ]
    }
   ],
   "source": [
    "# Lets calculate the IV for the overall variable home_ownership\n",
    "IV = np.sum((grouped['prop_n_good'] - grouped['prop_n_bad']) * grouped['woe'])\n",
    "\n",
    "print(f'The information value is :{IV}')"
   ]
  },
  {
   "cell_type": "markdown",
   "metadata": {},
   "source": [
    "## Defining a function that calculates the woe and IV "
   ]
  },
  {
   "cell_type": "code",
   "execution_count": 80,
   "metadata": {},
   "outputs": [],
   "source": [
    "def get_woe(d: pd.DataFrame, cat_var: str, good_bad_var: str):\n",
    "    # Subseting the dataframe \n",
    "    d = d[[cat_var, good_bad_var]]\n",
    "    \n",
    "    # Calculating the number of borrowers for each status \n",
    "    grouped = d.groupby(cat_var, as_index=False)[good_bad_var].count().rename(columns={good_bad_var: \"n\"})\n",
    "    \n",
    "    groupedgood = d.groupby(cat_var, as_index=False)[good_bad_var].sum().rename(columns={good_bad_var: 'good_borrowers'})\n",
    "\n",
    "    # Merging with the initial dataframe\n",
    "    grouped = pd.merge(grouped, groupedgood, on=cat_var)\n",
    "\n",
    "    # Getting the number of bad borrowers\n",
    "    grouped['bad_borrowers'] = grouped['n'] - grouped['good_borrowers']\n",
    "\n",
    "    # Calculating the share of good borrowers\n",
    "    grouped['share_good'] = grouped['good_borrowers'] / grouped['n']\n",
    "\n",
    "    # Calculating the share of bad borrowers\n",
    "    grouped['share_bad'] = 1 - grouped['n']\n",
    "    \n",
    "    # Calculating the total proportion of good/bad borrowers in each group \n",
    "    grouped['prop_n_good'] = grouped['good_borrowers'] / grouped['good_borrowers'].sum()\n",
    "    grouped['prop_n_bad'] = grouped['bad_borrowers'] / grouped['bad_borrowers'].sum()\n",
    "    \n",
    "    # Calculating the WoE statistic\n",
    "    grouped['woe'] = np.log(grouped['prop_n_good'] / grouped['prop_n_bad'])\n",
    "    \n",
    "    # Sorting by woe\n",
    "    grouped.sort_values('woe', inplace=True, ascending=False)\n",
    "    grouped.reset_index(inplace=True, drop=True)\n",
    "    \n",
    "    # Calculating IV\n",
    "    grouped['IV'] = np.sum((grouped['prop_n_good'] - grouped['prop_n_bad']) * grouped['woe'])\n",
    "    \n",
    "    # Returning the aggregated dataframe\n",
    "    return grouped"
   ]
  },
  {
   "cell_type": "code",
   "execution_count": 81,
   "metadata": {
    "scrolled": false
   },
   "outputs": [
    {
     "name": "stdout",
     "output_type": "stream",
     "text": [
      "-----------\n",
      "grade:\n",
      "  grade       n  good_borrowers  bad_borrowers  share_good  share_bad  \\\n",
      "0     A  557886          541095          16791    0.969902    -557885   \n",
      "1     B  775434          715839          59595    0.923146    -775433   \n",
      "2     C  740301          643741          96560    0.869567    -740300   \n",
      "3     D  378537          309355          69182    0.817238    -378536   \n",
      "4     E  138808          100074          38734    0.720953    -138807   \n",
      "5     F   41781           26577          15204    0.636103     -41780   \n",
      "6     G   12170            7310           4860    0.600657     -12169   \n",
      "\n",
      "   prop_n_good  prop_n_bad       woe       IV  \n",
      "0     0.230843    0.055798  1.420006  0.53152  \n",
      "1     0.305393    0.198039  0.433138  0.53152  \n",
      "2     0.274635    0.320876 -0.155614  0.53152  \n",
      "3     0.131978    0.229897 -0.554997  0.53152  \n",
      "4     0.042694    0.128716 -1.103554  0.53152  \n",
      "5     0.011338    0.050524 -1.494258  0.53152  \n",
      "6     0.003119    0.016150 -1.644541  0.53152  \n",
      "-----------\n",
      "-----------\n",
      "sub_grade:\n",
      "   sub_grade       n  good_borrowers  bad_borrowers  share_good  share_bad  \\\n",
      "0         A1  112064          110317           1747    0.984411    -112063   \n",
      "1         A2   88969           86888           2081    0.976610     -88968   \n",
      "2         A3   91171           88616           2555    0.971976     -91170   \n",
      "3         A4  133163          128866           4297    0.967731    -133162   \n",
      "4         A5  132519          126408           6111    0.953886    -132518   \n",
      "5         B1  147388          138929           8459    0.942607    -147387   \n",
      "6         B2  147885          138325           9560    0.935355    -147884   \n",
      "7         B3  148852          137035          11817    0.920612    -148851   \n",
      "8         B4  168464          154408          14056    0.916564    -168463   \n",
      "9         B5  162845          147142          15703    0.903571    -162844   \n",
      "10        C1  165991          147818          18173    0.890518    -165990   \n",
      "11        C2  149298          130867          18431    0.876549    -149297   \n",
      "12        C3  146963          127927          19036    0.870471    -146962   \n",
      "13        C4  142953          122075          20878    0.853952    -142952   \n",
      "14        C5  135096          115054          20042    0.851646    -135095   \n",
      "15        D2   94750           79366          15384    0.837636     -94749   \n",
      "16        D1   93870           77909          15961    0.829967     -93869   \n",
      "17        D3   74458           60749          13709    0.815883     -74457   \n",
      "18        D4   62294           49439          12855    0.793640     -62293   \n",
      "19        D5   53165           41892          11273    0.787962     -53164   \n",
      "20        E1   34767           25586           9181    0.735928     -34766   \n",
      "21        E2   30295           21785           8510    0.719096     -30294   \n",
      "22        E3   27190           19511           7679    0.717580     -27189   \n",
      "23        E5   23369           16764           6605    0.717361     -23368   \n",
      "24        E4   23187           16428           6759    0.708500     -23186   \n",
      "25        F1   13404            8976           4428    0.669651     -13403   \n",
      "26        F2    9305            5909           3396    0.635035      -9304   \n",
      "27        F3    7786            4902           2884    0.629592      -7785   \n",
      "28        G1    4107            2581           1526    0.628439      -4106   \n",
      "29        F5    5168            3113           2055    0.602361      -5167   \n",
      "30        F4    6118            3677           2441    0.601013      -6117   \n",
      "31        G2    2695            1598           1097    0.592950      -2694   \n",
      "32        G3    2090            1222            868    0.584689      -2089   \n",
      "33        G4    1711             998            713    0.583285      -1710   \n",
      "34        G5    1567             911            656    0.581366      -1566   \n",
      "\n",
      "    prop_n_good  prop_n_bad       woe        IV  \n",
      "0      0.047064    0.005805  2.092712  0.569733  \n",
      "1      0.037068    0.006915  1.679025  0.569733  \n",
      "2      0.037806    0.008490  1.493514  0.569733  \n",
      "3      0.054977    0.014279  1.348110  0.569733  \n",
      "4      0.053929    0.020307  0.976678  0.569733  \n",
      "5      0.059270    0.028110  0.745986  0.569733  \n",
      "6      0.059013    0.031769  0.619272  0.569733  \n",
      "7      0.058462    0.039269  0.397951  0.569733  \n",
      "8      0.065874    0.046709  0.343803  0.569733  \n",
      "9      0.062774    0.052182  0.184800  0.569733  \n",
      "10     0.063063    0.060390  0.043299  0.569733  \n",
      "11     0.055831    0.061248 -0.092598  0.569733  \n",
      "12     0.054577    0.063258 -0.147618  0.569733  \n",
      "13     0.052080    0.069379 -0.286806  0.569733  \n",
      "14     0.049085    0.066601 -0.305174  0.569733  \n",
      "15     0.033859    0.051122 -0.412004  0.569733  \n",
      "16     0.033238    0.053040 -0.467353  0.569733  \n",
      "17     0.025917    0.045556 -0.564048  0.569733  \n",
      "18     0.021092    0.042718 -0.705739  0.569733  \n",
      "19     0.017872    0.037461 -0.740062  0.569733  \n",
      "20     0.010916    0.030509 -1.027837  0.569733  \n",
      "21     0.009294    0.028279 -1.112766  0.569733  \n",
      "22     0.008324    0.025518 -1.120257  0.569733  \n",
      "23     0.007152    0.021949 -1.121339  0.569733  \n",
      "24     0.007009    0.022461 -1.164634  0.569733  \n",
      "25     0.003829    0.014715 -1.346140  0.569733  \n",
      "26     0.002521    0.011285 -1.498868  0.569733  \n",
      "27     0.002091    0.009584 -1.522281  0.569733  \n",
      "28     0.001101    0.005071 -1.527219  0.569733  \n",
      "29     0.001328    0.006829 -1.637435  0.569733  \n",
      "30     0.001569    0.008112 -1.643057  0.569733  \n",
      "31     0.000682    0.003645 -1.676572  0.569733  \n",
      "32     0.000521    0.002884 -1.710693  0.569733  \n",
      "33     0.000426    0.002369 -1.716474  0.569733  \n",
      "34     0.000389    0.002180 -1.724364  0.569733  \n",
      "-----------\n",
      "-----------\n",
      "home_ownership:\n",
      "  home_ownership        n  good_borrowers  bad_borrowers  share_good  \\\n",
      "0            ANY     3344            3166            178    0.946770   \n",
      "1       MORTGAGE  1301433         1172969         128464    0.901290   \n",
      "2            OWN   297331          263485          33846    0.886167   \n",
      "3           RENT  1042577          904185         138392    0.867260   \n",
      "4           NONE       51              43              8    0.843137   \n",
      "5          OTHER      181             143             38    0.790055   \n",
      "\n",
      "   share_bad  prop_n_good  prop_n_bad       woe        IV  \n",
      "0      -3343     0.001351    0.000592  0.825695  0.025394  \n",
      "1   -1301432     0.500415    0.426896  0.158899  0.025394  \n",
      "2    -297330     0.112409    0.112473 -0.000570  0.025394  \n",
      "3   -1042576     0.385746    0.459887 -0.175802  0.025394  \n",
      "4        -50     0.000018    0.000027 -0.370987  0.025394  \n",
      "5       -180     0.000061    0.000126 -0.727487  0.025394  \n",
      "-----------\n",
      "-----------\n",
      "verification_status:\n",
      "  verification_status        n  good_borrowers  bad_borrowers  share_good  \\\n",
      "0        Not Verified   918222          848296          69926    0.923846   \n",
      "1     Source Verified  1038338          915932         122406    0.882114   \n",
      "2            Verified   688357          579763         108594    0.842242   \n",
      "\n",
      "   share_bad  prop_n_good  prop_n_bad       woe        IV  \n",
      "0    -918221     0.361902    0.232369  0.443046  0.100915  \n",
      "1   -1038337     0.390757    0.406764 -0.040147  0.100915  \n",
      "2    -688356     0.247340    0.360866 -0.377743  0.100915  \n",
      "-----------\n",
      "-----------\n",
      "purpose:\n",
      "               purpose        n  good_borrowers  bad_borrowers  share_good  \\\n",
      "0                  car    27520           25091           2429    0.911737   \n",
      "1          credit_card   619412          563225          56187    0.909290   \n",
      "2     home_improvement   174854          157207          17647    0.899076   \n",
      "3                house    17608           15718           1890    0.892662   \n",
      "4             vacation    18346           16369           1977    0.892238   \n",
      "5       major_purchase    57335           51053           6282    0.890433   \n",
      "6                other   161139          142435          18704    0.883926   \n",
      "7              medical    31804           27957           3847    0.879040   \n",
      "8   debt_consolidation  1487275         1303544         183731    0.876465   \n",
      "9              wedding     2355            2063            292    0.876008   \n",
      "10              moving    17543           15054           2489    0.858120   \n",
      "11    renewable_energy     1620            1380            240    0.851852   \n",
      "12      small_business    27682           22559           5123    0.814934   \n",
      "13         educational      424             336             88    0.792453   \n",
      "\n",
      "    share_bad  prop_n_good  prop_n_bad       woe        IV  \n",
      "0      -27519     0.010704    0.008072  0.282284  0.025519  \n",
      "1     -619411     0.240285    0.186714  0.252248  0.025519  \n",
      "2     -174853     0.067068    0.058642  0.134252  0.025519  \n",
      "3      -17607     0.006706    0.006281  0.065484  0.025519  \n",
      "4      -18345     0.006983    0.006570  0.061063  0.025519  \n",
      "5      -57334     0.021780    0.020876  0.042430  0.025519  \n",
      "6     -161138     0.060766    0.062155 -0.022598  0.025519  \n",
      "7      -31803     0.011927    0.012784 -0.069372  0.025519  \n",
      "8    -1487274     0.556122    0.610552 -0.093377  0.025519  \n",
      "9       -2354     0.000880    0.000970 -0.097583  0.025519  \n",
      "10     -17542     0.006422    0.008271 -0.252983  0.025519  \n",
      "11      -1619     0.000589    0.000798 -0.303546  0.025519  \n",
      "12     -27681     0.009624    0.017024 -0.570352  0.025519  \n",
      "13       -423     0.000143    0.000292 -0.712972  0.025519  \n",
      "-----------\n",
      "-----------\n",
      "addr_state:\n"
     ]
    },
    {
     "name": "stdout",
     "output_type": "stream",
     "text": [
      "   addr_state       n  good_borrowers  bad_borrowers  share_good  share_bad  \\\n",
      "0          ME    6321            5989            332    0.947477      -6320   \n",
      "1          ID    5671            5277            394    0.930524      -5670   \n",
      "2          VT    5842            5420            422    0.927764      -5841   \n",
      "3          WV   10594            9757            837    0.920993     -10593   \n",
      "4          NH   13137           12050           1087    0.917257     -13136   \n",
      "5          OR   31713           29057           2656    0.916249     -31712   \n",
      "6          DC    6141            5622            519    0.915486      -6140   \n",
      "7          ND    4418            4027            391    0.911498      -4417   \n",
      "8          SC   33054           30113           2941    0.911024     -33053   \n",
      "9          CO   56017           50920           5097    0.909010     -56016   \n",
      "10         WA   55275           50125           5150    0.906829     -55274   \n",
      "11         CT   42151           38204           3947    0.906360     -42150   \n",
      "12         KS   22286           20195           2091    0.906174     -22285   \n",
      "13         MT    7403            6690            713    0.903688      -7402   \n",
      "14         WY    5513            4975            538    0.902412      -5512   \n",
      "15         IL  106413           95967          10446    0.901835    -106412   \n",
      "16         RI   11793           10603           1190    0.899093     -11792   \n",
      "17         GA   87021           77977           9044    0.896071     -87020   \n",
      "18         WI   34941           31202           3739    0.892991     -34940   \n",
      "19         NE    9689            8631           1058    0.890804      -9688   \n",
      "20         UT   17615           15690           1925    0.890718     -17614   \n",
      "21         MA   60829           54161           6668    0.890381     -60828   \n",
      "22         DE    7596            6762            834    0.890205      -7595   \n",
      "23         OH   87721           77896           9825    0.887997     -87720   \n",
      "24         TX  219047          194431          24616    0.887622    -219046   \n",
      "25         AZ   63280           56126           7154    0.886947     -63279   \n",
      "26         MN   45870           40633           5237    0.885830     -45869   \n",
      "27         AK    6045            5349            696    0.884864      -6044   \n",
      "28         VA   73316           64868           8448    0.884773     -73315   \n",
      "29         KY   25621           22658           2963    0.884353     -25620   \n",
      "30         TN   42112           37241           4871    0.884332     -42111   \n",
      "31         MI   68398           60460           7938    0.883944     -68397   \n",
      "32         IN   44018           38872           5146    0.883093     -44017   \n",
      "33         NJ   96987           85623          11364    0.882830     -96986   \n",
      "34         CA  365994          322809          43185    0.882006    -365993   \n",
      "35         PA   89069           78542          10527    0.881811     -89068   \n",
      "36         MD   63065           55538           7527    0.880647     -63064   \n",
      "37         NC   73318           64549           8769    0.880398     -73317   \n",
      "38         MO   42202           37136           5066    0.879958     -42201   \n",
      "39         SD    5357            4705            652    0.878290      -5356   \n",
      "40         FL  190920          167571          23349    0.877703    -190919   \n",
      "41         NM   13976           12232           1744    0.875215     -13975   \n",
      "42         HI   12248           10712           1536    0.874592     -12247   \n",
      "43         NY  215868          188709          27159    0.874187    -215867   \n",
      "44         NV   38277           33329           4948    0.870732     -38276   \n",
      "45         OK   24206           21009           3197    0.867925     -24205   \n",
      "46         MS   15087           13090           1997    0.867634     -15086   \n",
      "47         LA   29811           25864           3947    0.867599     -29810   \n",
      "48         AR   20119           17413           2706    0.865500     -20118   \n",
      "49         AL   31538           27201           4337    0.862483     -31537   \n",
      "50         IA      14              11              3    0.785714        -13   \n",
      "\n",
      "    prop_n_good  prop_n_bad       woe       IV  \n",
      "0      0.002555    0.001103  0.839799  0.01501  \n",
      "1      0.002251    0.001309  0.542016  0.01501  \n",
      "2      0.002312    0.001402  0.500100  0.01501  \n",
      "3      0.004163    0.002781  0.403170  0.01501  \n",
      "4      0.005141    0.003612  0.352897  0.01501  \n",
      "5      0.012396    0.008826  0.339692  0.01501  \n",
      "6      0.002398    0.001725  0.329793  0.01501  \n",
      "7      0.001718    0.001299  0.279323  0.01501  \n",
      "8      0.012847    0.009773  0.273461  0.01501  \n",
      "9      0.021724    0.016938  0.248858  0.01501  \n",
      "10     0.021384    0.017114  0.222777  0.01501  \n",
      "11     0.016299    0.013116  0.217239  0.01501  \n",
      "12     0.008616    0.006949  0.215047  0.01501  \n",
      "13     0.002854    0.002369  0.186142  0.01501  \n",
      "14     0.002122    0.001788  0.171576  0.01501  \n",
      "15     0.040942    0.034713  0.165039  0.01501  \n",
      "16     0.004523    0.003954  0.134438  0.01501  \n",
      "17     0.033267    0.030054  0.101566  0.01501  \n",
      "18     0.013311    0.012425  0.068918  0.01501  \n",
      "19     0.003682    0.003516  0.046234  0.01501  \n",
      "20     0.006694    0.006397  0.045352  0.01501  \n",
      "21     0.023106    0.022158  0.041895  0.01501  \n",
      "22     0.002885    0.002771  0.040095  0.01501  \n",
      "23     0.033232    0.032649  0.017699  0.01501  \n",
      "24     0.082949    0.081801  0.013935  0.01501  \n",
      "25     0.023945    0.023773  0.007182  0.01501  \n",
      "26     0.017335    0.017403 -0.003914  0.01501  \n",
      "27     0.002282    0.002313 -0.013431  0.01501  \n",
      "28     0.027674    0.028073 -0.014321  0.01501  \n",
      "29     0.009666    0.009846 -0.018435  0.01501  \n",
      "30     0.015888    0.016187 -0.018635  0.01501  \n",
      "31     0.025794    0.026379 -0.022425  0.01501  \n",
      "32     0.016584    0.017101 -0.030691  0.01501  \n",
      "33     0.036529    0.037763 -0.033242  0.01501  \n",
      "34     0.137718    0.143507 -0.041178  0.01501  \n",
      "35     0.033508    0.034982 -0.043056  0.01501  \n",
      "36     0.023694    0.025013 -0.054175  0.01501  \n",
      "37     0.027538    0.029140 -0.056544  0.01501  \n",
      "38     0.015843    0.016835 -0.060711  0.01501  \n",
      "39     0.002007    0.002167 -0.076409  0.01501  \n",
      "40     0.071490    0.077591 -0.081893  0.01501  \n",
      "41     0.005218    0.005795 -0.104872  0.01501  \n",
      "42     0.004570    0.005104 -0.110563  0.01501  \n",
      "43     0.080508    0.090251 -0.114248  0.01501  \n",
      "44     0.014219    0.016443 -0.145301  0.01501  \n",
      "45     0.008963    0.010624 -0.170008  0.01501  \n",
      "46     0.005584    0.006636 -0.172543  0.01501  \n",
      "47     0.011034    0.013116 -0.172850  0.01501  \n",
      "48     0.007429    0.008992 -0.191000  0.01501  \n",
      "49     0.011605    0.014412 -0.216675  0.01501  \n",
      "50     0.000005    0.000010 -0.753463  0.01501  \n",
      "-----------\n",
      "-----------\n",
      "initial_list_status:\n",
      "  initial_list_status        n  good_borrowers  bad_borrowers  share_good  \\\n",
      "0                   w  1883064         1698585         184479    0.902033   \n",
      "1                   f   761853          645406         116447    0.847153   \n",
      "\n",
      "   share_bad  prop_n_good  prop_n_bad       woe        IV  \n",
      "0   -1883063     0.724655    0.613038  0.167269  0.056654  \n",
      "1    -761852     0.275345    0.386962 -0.340303  0.056654  \n",
      "-----------\n"
     ]
    }
   ],
   "source": [
    "# Printing out the frame for all the categorical variables\n",
    "for var in categorical_vars:\n",
    "    print('-----------')\n",
    "    print(f'{var}:')\n",
    "    print(get_woe(d, var, 'good_bad'))\n",
    "    print('-----------')"
   ]
  },
  {
   "cell_type": "markdown",
   "metadata": {},
   "source": [
    "Based on the WoE statistic we need to figure out how to organize and lump together the original discrete features."
   ]
  },
  {
   "cell_type": "code",
   "execution_count": null,
   "metadata": {},
   "outputs": [],
   "source": []
  }
 ],
 "metadata": {
  "kernelspec": {
   "display_name": "Python 3",
   "language": "python",
   "name": "python3"
  },
  "language_info": {
   "codemirror_mode": {
    "name": "ipython",
    "version": 3
   },
   "file_extension": ".py",
   "mimetype": "text/x-python",
   "name": "python",
   "nbconvert_exporter": "python",
   "pygments_lexer": "ipython3",
   "version": "3.8.5"
  }
 },
 "nbformat": 4,
 "nbformat_minor": 4
}
