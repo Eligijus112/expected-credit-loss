{
 "cells": [
  {
   "cell_type": "markdown",
   "metadata": {},
   "source": [
    "# Importing packages"
   ]
  },
  {
   "cell_type": "code",
   "execution_count": 1,
   "metadata": {},
   "outputs": [],
   "source": [
    "import pandas as pd \n",
    "import numpy as np\n",
    "import datetime\n",
    "\n",
    "# Setting the option to display the dataframe \n",
    "pd.options.display.max_columns = None\n",
    "pd.options.display.max_rows = 150"
   ]
  },
  {
   "cell_type": "markdown",
   "metadata": {},
   "source": [
    "# Features in the analysis "
   ]
  },
  {
   "cell_type": "markdown",
   "metadata": {},
   "source": [
    "The main features that will be used in the modeling of credit risk are: \n",
    "\n",
    "* **earliest_cr_line** - The month the borrower's earliest reported credit line was opened.\n",
    "\n",
    "* **emp_length** - Employment length in years. Possible values are between 0 and 10 where 0 means less than one year and 10 means ten or more years. \n",
    "\n",
    "* **term** - number of payments on the loan. Values can be either 36 or 60. \n",
    "\n",
    "* **issue_d** - the month which the loan was funded (issued)\n",
    "\n",
    "* **grade** - loan companies assigned loan grade.\n",
    "\n",
    "* **sub_grade** - loan companies assigned loan subgrade.\n",
    "\n",
    "* **home_ownership** - The home ownership status provided by the borrower during registration or obtained from the credit report. The values are: RENT, OWN, MORTGAGE, OTHER.\n",
    "\n",
    "* **verification_status** - Indicates if income was verified by LC, not verified, or if the income source was verified.\n",
    "\n",
    "* **purpose** - the purpose of the loan; a category provided by the borrower for the loan request.\n",
    "\n",
    "* **addr_state** - the state provided by the borrower in the loan application.\n",
    "\n",
    "* **initial_list_status** - the initial listing status of the loan. Possible values are – W, F.\n",
    "\n",
    "* **loan_amnt** - the amount of $ applied by the borrower.\n",
    "\n",
    "* **funded_amnt** - the amount of requested loan that was funded in $.\n",
    "\n",
    "* **annual_inc** - the self-reported annual income by the borrower.\n",
    "\n",
    "* **acc_now_delinq** - the amount of accounts which the borrower is a delinquet.\n",
    "\n",
    "* **total_acc** - The total number of credit lines currently in the borrower's credit file.\n",
    "\n",
    "* **pub_rec** - Number of derogatory public records.\n",
    "\n",
    "* **open_acc** - The number of open credit lines in the borrower's credit file.\n",
    "\n",
    "The feature that we will use for the creation of the $Y$ (also known as the dependant variable) is the loan_status variable. \n",
    "\n",
    "* **loan_status** - current status of the loan (as of creation of the data)."
   ]
  },
  {
   "cell_type": "code",
   "execution_count": 2,
   "metadata": {},
   "outputs": [],
   "source": [
    "columns = [\n",
    "    'earliest_cr_line',\n",
    "    'emp_length',\n",
    "    'term',\n",
    "    'issue_d',\n",
    "    'grade',\n",
    "    'sub_grade',\n",
    "    'home_ownership',\n",
    "    'verification_status',\n",
    "    'loan_status',\n",
    "    'purpose',\n",
    "    'addr_state',\n",
    "    'initial_list_status',\n",
    "    'loan_amnt',\n",
    "    'funded_amnt',\n",
    "    'annual_inc',\n",
    "    'acc_now_delinq',\n",
    "    'total_acc',\n",
    "    'pub_rec',\n",
    "    'open_acc'\n",
    "]"
   ]
  },
  {
   "cell_type": "markdown",
   "metadata": {},
   "source": [
    "# Reading the data "
   ]
  },
  {
   "cell_type": "code",
   "execution_count": 3,
   "metadata": {},
   "outputs": [],
   "source": [
    "# Reading the data\n",
    "d = pd.read_csv(\n",
    "    'data/appl_accepted_20072019Q3.csv', \n",
    "    low_memory=False,\n",
    "    usecols=columns\n",
    ")"
   ]
  },
  {
   "cell_type": "code",
   "execution_count": 4,
   "metadata": {},
   "outputs": [
    {
     "name": "stdout",
     "output_type": "stream",
     "text": [
      "Shape of the data: (2650550, 19)\n"
     ]
    }
   ],
   "source": [
    "print(f'Shape of the data: {d.shape}')"
   ]
  },
  {
   "cell_type": "code",
   "execution_count": 5,
   "metadata": {},
   "outputs": [
    {
     "data": {
      "text/html": [
       "<div>\n",
       "<style scoped>\n",
       "    .dataframe tbody tr th:only-of-type {\n",
       "        vertical-align: middle;\n",
       "    }\n",
       "\n",
       "    .dataframe tbody tr th {\n",
       "        vertical-align: top;\n",
       "    }\n",
       "\n",
       "    .dataframe thead th {\n",
       "        text-align: right;\n",
       "    }\n",
       "</style>\n",
       "<table border=\"1\" class=\"dataframe\">\n",
       "  <thead>\n",
       "    <tr style=\"text-align: right;\">\n",
       "      <th></th>\n",
       "      <th>loan_amnt</th>\n",
       "      <th>funded_amnt</th>\n",
       "      <th>term</th>\n",
       "      <th>grade</th>\n",
       "      <th>sub_grade</th>\n",
       "      <th>emp_length</th>\n",
       "      <th>home_ownership</th>\n",
       "      <th>annual_inc</th>\n",
       "      <th>verification_status</th>\n",
       "      <th>issue_d</th>\n",
       "      <th>loan_status</th>\n",
       "      <th>purpose</th>\n",
       "      <th>addr_state</th>\n",
       "      <th>earliest_cr_line</th>\n",
       "      <th>open_acc</th>\n",
       "      <th>pub_rec</th>\n",
       "      <th>total_acc</th>\n",
       "      <th>initial_list_status</th>\n",
       "      <th>acc_now_delinq</th>\n",
       "    </tr>\n",
       "  </thead>\n",
       "  <tbody>\n",
       "    <tr>\n",
       "      <th>0</th>\n",
       "      <td>3600.0</td>\n",
       "      <td>3600.0</td>\n",
       "      <td>36 months</td>\n",
       "      <td>C</td>\n",
       "      <td>C4</td>\n",
       "      <td>10+ years</td>\n",
       "      <td>MORTGAGE</td>\n",
       "      <td>55000.0</td>\n",
       "      <td>Not Verified</td>\n",
       "      <td>Dec-2015</td>\n",
       "      <td>Fully Paid</td>\n",
       "      <td>debt_consolidation</td>\n",
       "      <td>PA</td>\n",
       "      <td>Aug-2003</td>\n",
       "      <td>7.0</td>\n",
       "      <td>0.0</td>\n",
       "      <td>13.0</td>\n",
       "      <td>w</td>\n",
       "      <td>0.0</td>\n",
       "    </tr>\n",
       "    <tr>\n",
       "      <th>1</th>\n",
       "      <td>24700.0</td>\n",
       "      <td>24700.0</td>\n",
       "      <td>36 months</td>\n",
       "      <td>C</td>\n",
       "      <td>C1</td>\n",
       "      <td>10+ years</td>\n",
       "      <td>MORTGAGE</td>\n",
       "      <td>65000.0</td>\n",
       "      <td>Not Verified</td>\n",
       "      <td>Dec-2015</td>\n",
       "      <td>Fully Paid</td>\n",
       "      <td>small_business</td>\n",
       "      <td>SD</td>\n",
       "      <td>Dec-1999</td>\n",
       "      <td>22.0</td>\n",
       "      <td>0.0</td>\n",
       "      <td>38.0</td>\n",
       "      <td>w</td>\n",
       "      <td>0.0</td>\n",
       "    </tr>\n",
       "    <tr>\n",
       "      <th>2</th>\n",
       "      <td>20000.0</td>\n",
       "      <td>20000.0</td>\n",
       "      <td>60 months</td>\n",
       "      <td>B</td>\n",
       "      <td>B4</td>\n",
       "      <td>10+ years</td>\n",
       "      <td>MORTGAGE</td>\n",
       "      <td>63000.0</td>\n",
       "      <td>Not Verified</td>\n",
       "      <td>Dec-2015</td>\n",
       "      <td>Fully Paid</td>\n",
       "      <td>home_improvement</td>\n",
       "      <td>IL</td>\n",
       "      <td>Aug-2000</td>\n",
       "      <td>6.0</td>\n",
       "      <td>0.0</td>\n",
       "      <td>18.0</td>\n",
       "      <td>w</td>\n",
       "      <td>0.0</td>\n",
       "    </tr>\n",
       "    <tr>\n",
       "      <th>3</th>\n",
       "      <td>35000.0</td>\n",
       "      <td>35000.0</td>\n",
       "      <td>60 months</td>\n",
       "      <td>C</td>\n",
       "      <td>C5</td>\n",
       "      <td>10+ years</td>\n",
       "      <td>MORTGAGE</td>\n",
       "      <td>110000.0</td>\n",
       "      <td>Source Verified</td>\n",
       "      <td>Dec-2015</td>\n",
       "      <td>Current</td>\n",
       "      <td>debt_consolidation</td>\n",
       "      <td>NJ</td>\n",
       "      <td>Sep-2008</td>\n",
       "      <td>13.0</td>\n",
       "      <td>0.0</td>\n",
       "      <td>17.0</td>\n",
       "      <td>w</td>\n",
       "      <td>0.0</td>\n",
       "    </tr>\n",
       "    <tr>\n",
       "      <th>4</th>\n",
       "      <td>10400.0</td>\n",
       "      <td>10400.0</td>\n",
       "      <td>60 months</td>\n",
       "      <td>F</td>\n",
       "      <td>F1</td>\n",
       "      <td>3 years</td>\n",
       "      <td>MORTGAGE</td>\n",
       "      <td>104433.0</td>\n",
       "      <td>Source Verified</td>\n",
       "      <td>Dec-2015</td>\n",
       "      <td>Fully Paid</td>\n",
       "      <td>major_purchase</td>\n",
       "      <td>PA</td>\n",
       "      <td>Jun-1998</td>\n",
       "      <td>12.0</td>\n",
       "      <td>0.0</td>\n",
       "      <td>35.0</td>\n",
       "      <td>w</td>\n",
       "      <td>0.0</td>\n",
       "    </tr>\n",
       "  </tbody>\n",
       "</table>\n",
       "</div>"
      ],
      "text/plain": [
       "   loan_amnt  funded_amnt        term grade sub_grade emp_length  \\\n",
       "0     3600.0       3600.0   36 months     C        C4  10+ years   \n",
       "1    24700.0      24700.0   36 months     C        C1  10+ years   \n",
       "2    20000.0      20000.0   60 months     B        B4  10+ years   \n",
       "3    35000.0      35000.0   60 months     C        C5  10+ years   \n",
       "4    10400.0      10400.0   60 months     F        F1    3 years   \n",
       "\n",
       "  home_ownership  annual_inc verification_status   issue_d loan_status  \\\n",
       "0       MORTGAGE     55000.0        Not Verified  Dec-2015  Fully Paid   \n",
       "1       MORTGAGE     65000.0        Not Verified  Dec-2015  Fully Paid   \n",
       "2       MORTGAGE     63000.0        Not Verified  Dec-2015  Fully Paid   \n",
       "3       MORTGAGE    110000.0     Source Verified  Dec-2015     Current   \n",
       "4       MORTGAGE    104433.0     Source Verified  Dec-2015  Fully Paid   \n",
       "\n",
       "              purpose addr_state earliest_cr_line  open_acc  pub_rec  \\\n",
       "0  debt_consolidation         PA         Aug-2003       7.0      0.0   \n",
       "1      small_business         SD         Dec-1999      22.0      0.0   \n",
       "2    home_improvement         IL         Aug-2000       6.0      0.0   \n",
       "3  debt_consolidation         NJ         Sep-2008      13.0      0.0   \n",
       "4      major_purchase         PA         Jun-1998      12.0      0.0   \n",
       "\n",
       "   total_acc initial_list_status  acc_now_delinq  \n",
       "0       13.0                   w             0.0  \n",
       "1       38.0                   w             0.0  \n",
       "2       18.0                   w             0.0  \n",
       "3       17.0                   w             0.0  \n",
       "4       35.0                   w             0.0  "
      ]
     },
     "execution_count": 5,
     "metadata": {},
     "output_type": "execute_result"
    }
   ],
   "source": [
    "# Eyeballing the data\n",
    "d.head()"
   ]
  },
  {
   "cell_type": "code",
   "execution_count": 6,
   "metadata": {
    "scrolled": false
   },
   "outputs": [
    {
     "data": {
      "text/plain": [
       "loan_amnt              float64\n",
       "funded_amnt            float64\n",
       "term                    object\n",
       "grade                   object\n",
       "sub_grade               object\n",
       "emp_length              object\n",
       "home_ownership          object\n",
       "annual_inc             float64\n",
       "verification_status     object\n",
       "issue_d                 object\n",
       "loan_status             object\n",
       "purpose                 object\n",
       "addr_state              object\n",
       "earliest_cr_line        object\n",
       "open_acc               float64\n",
       "pub_rec                float64\n",
       "total_acc              float64\n",
       "initial_list_status     object\n",
       "acc_now_delinq         float64\n",
       "dtype: object"
      ]
     },
     "execution_count": 6,
     "metadata": {},
     "output_type": "execute_result"
    }
   ],
   "source": [
    "# Seeing the types of the columns to make sure numerics are numeris, \n",
    "# categorical variables are categorical, etc.\n",
    "d.dtypes"
   ]
  },
  {
   "cell_type": "markdown",
   "metadata": {},
   "source": [
    "# Filling missing data"
   ]
  },
  {
   "cell_type": "code",
   "execution_count": 7,
   "metadata": {},
   "outputs": [
    {
     "data": {
      "text/plain": [
       "loan_amnt                  33\n",
       "funded_amnt                33\n",
       "term                       33\n",
       "grade                      33\n",
       "sub_grade                  33\n",
       "emp_length             181960\n",
       "home_ownership             33\n",
       "annual_inc                 37\n",
       "verification_status        33\n",
       "issue_d                    33\n",
       "loan_status                33\n",
       "purpose                    33\n",
       "addr_state                 33\n",
       "earliest_cr_line           62\n",
       "open_acc                   62\n",
       "pub_rec                    62\n",
       "total_acc                  62\n",
       "initial_list_status        33\n",
       "acc_now_delinq             62\n",
       "dtype: int64"
      ]
     },
     "execution_count": 7,
     "metadata": {},
     "output_type": "execute_result"
    }
   ],
   "source": [
    "# Getting the number of rows missing\n",
    "d.isnull().sum()"
   ]
  },
  {
   "cell_type": "markdown",
   "metadata": {},
   "source": [
    "According to the documentation in the data, if the emp_length is missing, it means that there is no employment info. The suggested procedure is to treat this value the same as \"< 1 year\" value."
   ]
  },
  {
   "cell_type": "code",
   "execution_count": 8,
   "metadata": {},
   "outputs": [],
   "source": [
    "d['emp_length'] = d['emp_length'].fillna('< 1 year')"
   ]
  },
  {
   "cell_type": "markdown",
   "metadata": {},
   "source": [
    "All the other missing rows will be dropped. The amount of rows dropped is very minimal when compared to the total number of rows. "
   ]
  },
  {
   "cell_type": "code",
   "execution_count": 9,
   "metadata": {},
   "outputs": [
    {
     "name": "stdout",
     "output_type": "stream",
     "text": [
      "Shape of data after dropping rows with missing values: (2650488, 19)\n"
     ]
    }
   ],
   "source": [
    "d.dropna(inplace=True)\n",
    "d.reset_index(inplace=True, drop=True)\n",
    "\n",
    "print(f\"Shape of data after dropping rows with missing values: {d.shape}\")"
   ]
  },
  {
   "cell_type": "markdown",
   "metadata": {},
   "source": [
    "# General data preprocesing "
   ]
  },
  {
   "cell_type": "markdown",
   "metadata": {},
   "source": [
    "## Categories to numerics"
   ]
  },
  {
   "cell_type": "markdown",
   "metadata": {},
   "source": [
    "The **term** and **emp_length** features are stored as categorical. We need to convert them first to numeric. "
   ]
  },
  {
   "cell_type": "code",
   "execution_count": 10,
   "metadata": {},
   "outputs": [
    {
     "data": {
      "text/plain": [
       "array([' 36 months', ' 60 months'], dtype=object)"
      ]
     },
     "execution_count": 10,
     "metadata": {},
     "output_type": "execute_result"
    }
   ],
   "source": [
    "d['term'].unique()"
   ]
  },
  {
   "cell_type": "code",
   "execution_count": 11,
   "metadata": {},
   "outputs": [
    {
     "data": {
      "text/plain": [
       "array(['10+ years', '3 years', '4 years', '6 years', '1 year', '7 years',\n",
       "       '8 years', '5 years', '2 years', '9 years', '< 1 year'],\n",
       "      dtype=object)"
      ]
     },
     "execution_count": 11,
     "metadata": {},
     "output_type": "execute_result"
    }
   ],
   "source": [
    "d['emp_length'].unique()"
   ]
  },
  {
   "cell_type": "code",
   "execution_count": 12,
   "metadata": {},
   "outputs": [],
   "source": [
    "# Cleaning employment length \n",
    "d['emp_length_int'] = d['emp_length'].str.replace('\\+ years| years| year', '')\n",
    "d['emp_length_int'] = d['emp_length_int'].str.replace('< 1', str(0))\n",
    "\n",
    "# Converting the column type to numeric \n",
    "d['emp_length_int'] = pd.to_numeric(d['emp_length_int'])"
   ]
  },
  {
   "cell_type": "code",
   "execution_count": 13,
   "metadata": {},
   "outputs": [],
   "source": [
    "# Cleaning the term column\n",
    "d['term_int'] = d['term'].str.replace(' months', '')\n",
    "d['term_int'] = d['term_int'].str.replace(' ', '')\n",
    "\n",
    "# Converting the column type to numeric \n",
    "d['term_int'] = pd.to_numeric(d['term_int'])"
   ]
  },
  {
   "cell_type": "markdown",
   "metadata": {},
   "source": [
    "## Categories to dates"
   ]
  },
  {
   "cell_type": "code",
   "execution_count": 14,
   "metadata": {},
   "outputs": [],
   "source": [
    "def convert_to_2digit(x: str) -> datetime.datetime:\n",
    "    \"\"\"\n",
    "    A function to convert 4 digit last part of the date string to 2 digit\n",
    "    \"\"\"\n",
    "    try:\n",
    "        x = x.split('-')\n",
    "        month_part = x[0]\n",
    "        year_part = x[1][-2:]\n",
    "\n",
    "        return datetime.datetime.strptime(f'{month_part}-{year_part}', '%b-%y')\n",
    "    except:\n",
    "        return np.nan"
   ]
  },
  {
   "cell_type": "code",
   "execution_count": 15,
   "metadata": {},
   "outputs": [
    {
     "data": {
      "text/plain": [
       "['Aug-2003',\n",
       " 'Dec-1999',\n",
       " 'Aug-2000',\n",
       " 'Sep-2008',\n",
       " 'Jun-1998',\n",
       " 'Oct-1987',\n",
       " 'Jun-1990',\n",
       " 'Feb-1999',\n",
       " 'Apr-2002',\n",
       " 'Nov-1994']"
      ]
     },
     "execution_count": 15,
     "metadata": {},
     "output_type": "execute_result"
    }
   ],
   "source": [
    "# Inspecting the structure of dates\n",
    "\n",
    "# Head\n",
    "d['earliest_cr_line'].unique().tolist()[0:10]"
   ]
  },
  {
   "cell_type": "code",
   "execution_count": 16,
   "metadata": {},
   "outputs": [
    {
     "data": {
      "text/plain": [
       "['Feb-64',\n",
       " 'Apr-61',\n",
       " 'Jan-56',\n",
       " 'Aug-62',\n",
       " 'Sep-60',\n",
       " 'Aug-59',\n",
       " 'Jun-56',\n",
       " 'Aug-50',\n",
       " 'Jun-59',\n",
       " 'Aug-61']"
      ]
     },
     "execution_count": 16,
     "metadata": {},
     "output_type": "execute_result"
    }
   ],
   "source": [
    "# Tail \n",
    "d['earliest_cr_line'].unique().tolist()[-10:]"
   ]
  },
  {
   "cell_type": "code",
   "execution_count": 17,
   "metadata": {},
   "outputs": [],
   "source": [
    "# Converting to 2 digit years\n",
    "d['earliest_cr_line_date'] = [convert_to_2digit(x) for x in d['earliest_cr_line']]\n",
    "\n",
    "# The exact same logic applies to the column issue_d\n",
    "d['issue_d_date'] = [convert_to_2digit(x) for x in d['issue_d']]"
   ]
  },
  {
   "cell_type": "code",
   "execution_count": 18,
   "metadata": {},
   "outputs": [],
   "source": [
    "# Calculating the dates between loan issue and first credit line issued \n",
    "d['issue_cr_diff'] = d['issue_d_date'] - d['earliest_cr_line_date']"
   ]
  },
  {
   "cell_type": "code",
   "execution_count": 19,
   "metadata": {},
   "outputs": [
    {
     "data": {
      "text/plain": [
       "count                         2650488\n",
       "mean     5902 days 06:11:26.248268288\n",
       "std      2965 days 08:25:30.837980128\n",
       "min             -21915 days +00:00:00\n",
       "25%                4109 days 00:00:00\n",
       "50%                5388 days 00:00:00\n",
       "75%                7366 days 00:00:00\n",
       "max               18505 days 00:00:00\n",
       "Name: issue_cr_diff, dtype: object"
      ]
     },
     "execution_count": 19,
     "metadata": {},
     "output_type": "execute_result"
    }
   ],
   "source": [
    "d['issue_cr_diff'].describe()"
   ]
  },
  {
   "cell_type": "code",
   "execution_count": 20,
   "metadata": {},
   "outputs": [
    {
     "name": "stdout",
     "output_type": "stream",
     "text": [
      "Very old credit lines make of 0.21 % of the data\n"
     ]
    }
   ],
   "source": [
    "print(f\"Very old credit lines make of {round(d[d['issue_cr_diff'].dt.days<0].shape[0] * 100 / d.shape[0], 2)} % of the data\")"
   ]
  },
  {
   "cell_type": "markdown",
   "metadata": {},
   "source": [
    "For now, we will drop the very old users. The droping of these rows will have very little influence to the final coefficients."
   ]
  },
  {
   "cell_type": "code",
   "execution_count": 21,
   "metadata": {},
   "outputs": [],
   "source": [
    "d = d[d['issue_cr_diff'].dt.days>0]\n",
    "\n",
    "d.reset_index(inplace=True, drop=True)"
   ]
  },
  {
   "cell_type": "markdown",
   "metadata": {},
   "source": [
    "By convention, in credit risk modeling, months are prefered vs days. "
   ]
  },
  {
   "cell_type": "code",
   "execution_count": 22,
   "metadata": {},
   "outputs": [],
   "source": [
    "d['issue_cr_diff_mnth'] = [int(x) for x in d['issue_cr_diff'] / np.timedelta64(1, 'M')]"
   ]
  },
  {
   "cell_type": "markdown",
   "metadata": {},
   "source": [
    "Let us imagine that the current date when we are calculating the risk is 2020-01-01."
   ]
  },
  {
   "cell_type": "code",
   "execution_count": 23,
   "metadata": {},
   "outputs": [],
   "source": [
    "cur_date = datetime.datetime(2020, 1, 1)\n",
    "\n",
    "# Creating an additional column to see days past since the loan issue \n",
    "d['days_since_issue'] = cur_date - d['issue_d_date']\n",
    "d['mnth_since_issue'] = [int(x) for x in d['days_since_issue'] / np.timedelta64(1, 'M')]"
   ]
  },
  {
   "cell_type": "code",
   "execution_count": 24,
   "metadata": {},
   "outputs": [
    {
     "data": {
      "text/html": [
       "<div>\n",
       "<style scoped>\n",
       "    .dataframe tbody tr th:only-of-type {\n",
       "        vertical-align: middle;\n",
       "    }\n",
       "\n",
       "    .dataframe tbody tr th {\n",
       "        vertical-align: top;\n",
       "    }\n",
       "\n",
       "    .dataframe thead th {\n",
       "        text-align: right;\n",
       "    }\n",
       "</style>\n",
       "<table border=\"1\" class=\"dataframe\">\n",
       "  <thead>\n",
       "    <tr style=\"text-align: right;\">\n",
       "      <th></th>\n",
       "      <th>earliest_cr_line</th>\n",
       "      <th>earliest_cr_line_date</th>\n",
       "      <th>issue_d</th>\n",
       "      <th>issue_d_date</th>\n",
       "      <th>issue_cr_diff</th>\n",
       "      <th>issue_cr_diff_mnth</th>\n",
       "      <th>mnth_since_issue</th>\n",
       "    </tr>\n",
       "  </thead>\n",
       "  <tbody>\n",
       "    <tr>\n",
       "      <th>934818</th>\n",
       "      <td>Jun-2010</td>\n",
       "      <td>2010-06-01</td>\n",
       "      <td>May-2017</td>\n",
       "      <td>2017-05-01</td>\n",
       "      <td>2526 days</td>\n",
       "      <td>82</td>\n",
       "      <td>32</td>\n",
       "    </tr>\n",
       "    <tr>\n",
       "      <th>844700</th>\n",
       "      <td>Mar-2000</td>\n",
       "      <td>2000-03-01</td>\n",
       "      <td>Jul-2018</td>\n",
       "      <td>2018-07-01</td>\n",
       "      <td>6696 days</td>\n",
       "      <td>219</td>\n",
       "      <td>18</td>\n",
       "    </tr>\n",
       "    <tr>\n",
       "      <th>2544887</th>\n",
       "      <td>Feb-99</td>\n",
       "      <td>1999-02-01</td>\n",
       "      <td>Sep-19</td>\n",
       "      <td>2019-09-01</td>\n",
       "      <td>7517 days</td>\n",
       "      <td>246</td>\n",
       "      <td>4</td>\n",
       "    </tr>\n",
       "    <tr>\n",
       "      <th>439558</th>\n",
       "      <td>Feb-2006</td>\n",
       "      <td>2006-02-01</td>\n",
       "      <td>Mar-2018</td>\n",
       "      <td>2018-03-01</td>\n",
       "      <td>4411 days</td>\n",
       "      <td>144</td>\n",
       "      <td>22</td>\n",
       "    </tr>\n",
       "    <tr>\n",
       "      <th>2017464</th>\n",
       "      <td>May-1991</td>\n",
       "      <td>1991-05-01</td>\n",
       "      <td>Jul-2016</td>\n",
       "      <td>2016-07-01</td>\n",
       "      <td>9193 days</td>\n",
       "      <td>302</td>\n",
       "      <td>42</td>\n",
       "    </tr>\n",
       "    <tr>\n",
       "      <th>883033</th>\n",
       "      <td>Jul-1996</td>\n",
       "      <td>1996-07-01</td>\n",
       "      <td>Jun-2017</td>\n",
       "      <td>2017-06-01</td>\n",
       "      <td>7640 days</td>\n",
       "      <td>251</td>\n",
       "      <td>31</td>\n",
       "    </tr>\n",
       "    <tr>\n",
       "      <th>1295231</th>\n",
       "      <td>Aug-2003</td>\n",
       "      <td>2003-08-01</td>\n",
       "      <td>Apr-2014</td>\n",
       "      <td>2014-04-01</td>\n",
       "      <td>3896 days</td>\n",
       "      <td>128</td>\n",
       "      <td>69</td>\n",
       "    </tr>\n",
       "    <tr>\n",
       "      <th>2279030</th>\n",
       "      <td>Nov-04</td>\n",
       "      <td>2004-11-01</td>\n",
       "      <td>Feb-19</td>\n",
       "      <td>2019-02-01</td>\n",
       "      <td>5205 days</td>\n",
       "      <td>171</td>\n",
       "      <td>10</td>\n",
       "    </tr>\n",
       "    <tr>\n",
       "      <th>1563848</th>\n",
       "      <td>May-2005</td>\n",
       "      <td>2005-05-01</td>\n",
       "      <td>May-2018</td>\n",
       "      <td>2018-05-01</td>\n",
       "      <td>4748 days</td>\n",
       "      <td>155</td>\n",
       "      <td>20</td>\n",
       "    </tr>\n",
       "    <tr>\n",
       "      <th>2445828</th>\n",
       "      <td>Jun-02</td>\n",
       "      <td>2002-06-01</td>\n",
       "      <td>May-19</td>\n",
       "      <td>2019-05-01</td>\n",
       "      <td>6178 days</td>\n",
       "      <td>202</td>\n",
       "      <td>8</td>\n",
       "    </tr>\n",
       "  </tbody>\n",
       "</table>\n",
       "</div>"
      ],
      "text/plain": [
       "        earliest_cr_line earliest_cr_line_date   issue_d issue_d_date  \\\n",
       "934818          Jun-2010            2010-06-01  May-2017   2017-05-01   \n",
       "844700          Mar-2000            2000-03-01  Jul-2018   2018-07-01   \n",
       "2544887           Feb-99            1999-02-01    Sep-19   2019-09-01   \n",
       "439558          Feb-2006            2006-02-01  Mar-2018   2018-03-01   \n",
       "2017464         May-1991            1991-05-01  Jul-2016   2016-07-01   \n",
       "883033          Jul-1996            1996-07-01  Jun-2017   2017-06-01   \n",
       "1295231         Aug-2003            2003-08-01  Apr-2014   2014-04-01   \n",
       "2279030           Nov-04            2004-11-01    Feb-19   2019-02-01   \n",
       "1563848         May-2005            2005-05-01  May-2018   2018-05-01   \n",
       "2445828           Jun-02            2002-06-01    May-19   2019-05-01   \n",
       "\n",
       "        issue_cr_diff  issue_cr_diff_mnth  mnth_since_issue  \n",
       "934818      2526 days                  82                32  \n",
       "844700      6696 days                 219                18  \n",
       "2544887     7517 days                 246                 4  \n",
       "439558      4411 days                 144                22  \n",
       "2017464     9193 days                 302                42  \n",
       "883033      7640 days                 251                31  \n",
       "1295231     3896 days                 128                69  \n",
       "2279030     5205 days                 171                10  \n",
       "1563848     4748 days                 155                20  \n",
       "2445828     6178 days                 202                 8  "
      ]
     },
     "execution_count": 24,
     "metadata": {},
     "output_type": "execute_result"
    }
   ],
   "source": [
    "# Inspecting the results of engineering\n",
    "d[[\n",
    "    'earliest_cr_line', \n",
    "    'earliest_cr_line_date', \n",
    "    'issue_d', \n",
    "    'issue_d_date', \n",
    "    'issue_cr_diff',\n",
    "    'issue_cr_diff_mnth',\n",
    "    'mnth_since_issue'\n",
    "]].sample(10)"
   ]
  },
  {
   "cell_type": "markdown",
   "metadata": {},
   "source": [
    "## Preprocesing the categorical variables "
   ]
  },
  {
   "cell_type": "markdown",
   "metadata": {},
   "source": [
    "The aim of categorical variable preprocesing is to convert them into dummy variables. "
   ]
  },
  {
   "cell_type": "code",
   "execution_count": 25,
   "metadata": {},
   "outputs": [],
   "source": [
    "categorical_vars = [\n",
    "    'grade',\n",
    "    'sub_grade',\n",
    "    'home_ownership',\n",
    "    'verification_status',\n",
    "    'purpose',\n",
    "    'addr_state',\n",
    "    'initial_list_status'\n",
    "]\n",
    "\n",
    "dummylist = []\n",
    "\n",
    "for categorical_var in categorical_vars:\n",
    "    dummylist.append(pd.get_dummies(d[categorical_var], prefix=f'{categorical_var}'))\n",
    "    \n",
    "# Creating the dummy dataframe for the categorical variables\n",
    "dummydf = pd.concat(dummylist, axis=1)"
   ]
  },
  {
   "cell_type": "code",
   "execution_count": 26,
   "metadata": {},
   "outputs": [
    {
     "data": {
      "text/plain": [
       "array(['grade_A', 'grade_B', 'grade_C', 'grade_D', 'grade_E', 'grade_F',\n",
       "       'grade_G', 'sub_grade_A1', 'sub_grade_A2', 'sub_grade_A3',\n",
       "       'sub_grade_A4', 'sub_grade_A5', 'sub_grade_B1', 'sub_grade_B2',\n",
       "       'sub_grade_B3', 'sub_grade_B4', 'sub_grade_B5', 'sub_grade_C1',\n",
       "       'sub_grade_C2', 'sub_grade_C3', 'sub_grade_C4', 'sub_grade_C5',\n",
       "       'sub_grade_D1', 'sub_grade_D2', 'sub_grade_D3', 'sub_grade_D4',\n",
       "       'sub_grade_D5', 'sub_grade_E1', 'sub_grade_E2', 'sub_grade_E3',\n",
       "       'sub_grade_E4', 'sub_grade_E5', 'sub_grade_F1', 'sub_grade_F2',\n",
       "       'sub_grade_F3', 'sub_grade_F4', 'sub_grade_F5', 'sub_grade_G1',\n",
       "       'sub_grade_G2', 'sub_grade_G3', 'sub_grade_G4', 'sub_grade_G5',\n",
       "       'home_ownership_ANY', 'home_ownership_MORTGAGE',\n",
       "       'home_ownership_NONE', 'home_ownership_OTHER',\n",
       "       'home_ownership_OWN', 'home_ownership_RENT',\n",
       "       'verification_status_Not Verified',\n",
       "       'verification_status_Source Verified',\n",
       "       'verification_status_Verified', 'purpose_car',\n",
       "       'purpose_credit_card', 'purpose_debt_consolidation',\n",
       "       'purpose_educational', 'purpose_home_improvement', 'purpose_house',\n",
       "       'purpose_major_purchase', 'purpose_medical', 'purpose_moving',\n",
       "       'purpose_other', 'purpose_renewable_energy',\n",
       "       'purpose_small_business', 'purpose_vacation', 'purpose_wedding',\n",
       "       'addr_state_AK', 'addr_state_AL', 'addr_state_AR', 'addr_state_AZ',\n",
       "       'addr_state_CA', 'addr_state_CO', 'addr_state_CT', 'addr_state_DC',\n",
       "       'addr_state_DE', 'addr_state_FL', 'addr_state_GA', 'addr_state_HI',\n",
       "       'addr_state_IA', 'addr_state_ID', 'addr_state_IL', 'addr_state_IN',\n",
       "       'addr_state_KS', 'addr_state_KY', 'addr_state_LA', 'addr_state_MA',\n",
       "       'addr_state_MD', 'addr_state_ME', 'addr_state_MI', 'addr_state_MN',\n",
       "       'addr_state_MO', 'addr_state_MS', 'addr_state_MT', 'addr_state_NC',\n",
       "       'addr_state_ND', 'addr_state_NE', 'addr_state_NH', 'addr_state_NJ',\n",
       "       'addr_state_NM', 'addr_state_NV', 'addr_state_NY', 'addr_state_OH',\n",
       "       'addr_state_OK', 'addr_state_OR', 'addr_state_PA', 'addr_state_RI',\n",
       "       'addr_state_SC', 'addr_state_SD', 'addr_state_TN', 'addr_state_TX',\n",
       "       'addr_state_UT', 'addr_state_VA', 'addr_state_VT', 'addr_state_WA',\n",
       "       'addr_state_WI', 'addr_state_WV', 'addr_state_WY',\n",
       "       'initial_list_status_f', 'initial_list_status_w'], dtype=object)"
      ]
     },
     "execution_count": 26,
     "metadata": {},
     "output_type": "execute_result"
    }
   ],
   "source": [
    "# Listing all the columns\n",
    "dummydf.columns.values"
   ]
  },
  {
   "cell_type": "code",
   "execution_count": 27,
   "metadata": {},
   "outputs": [],
   "source": [
    "# Getting the numeric feature list \n",
    "numeric_features = [\n",
    "    'loan_amnt',\n",
    "    'funded_amnt',\n",
    "    'term',\n",
    "    'emp_length',\n",
    "    'annual_inc',\n",
    "    'mnth_since_issue',\n",
    "    'term_int',\n",
    "    # Adding load_status for Y creation\n",
    "    'loan_status'\n",
    "]"
   ]
  },
  {
   "cell_type": "code",
   "execution_count": 28,
   "metadata": {},
   "outputs": [],
   "source": [
    "# Creating the dataframe with numeric and dummy variables \n",
    "d = pd.concat([d, dummydf], axis=1)"
   ]
  },
  {
   "cell_type": "markdown",
   "metadata": {},
   "source": [
    "# Probability of default (PD) modeling"
   ]
  },
  {
   "cell_type": "markdown",
   "metadata": {},
   "source": [
    "The main objective in PD modeling is to create a model to infer a probability for a default given a set of features $X$.\n",
    "\n",
    "It is established by various auditing firms that the interpretation of the model needs to be easy even for not statistical savy people. One highly interpretable machine learning model is logistic regression. \n",
    "\n",
    "Another agreed upon part of PD modeling is that the $X$ matrix needs to be comprised of dummy variable data. Thus, even continues numeric variables need to be converted to categorical features. Additionally, when creating the $Y$ variable, positive coefficients in logistic regression need to lead to a \"positive\" class, meaning, the higher a given value, the less chance of default."
   ]
  },
  {
   "cell_type": "markdown",
   "metadata": {},
   "source": [
    "# Creation of the dependant variable "
   ]
  },
  {
   "cell_type": "markdown",
   "metadata": {},
   "source": [
    "One of the widespread default definition is that if a person is not able to pay their obligations in 90 days, it is considered default. In the PD modeling space, the Y encoding to non defaul and default is often termed \"good bad\" encoding."
   ]
  },
  {
   "cell_type": "code",
   "execution_count": 29,
   "metadata": {},
   "outputs": [
    {
     "data": {
      "text/plain": [
       "Current                                                0.459636\n",
       "Fully Paid                                             0.419460\n",
       "Charged Off                                            0.103261\n",
       "Late (31-120 days)                                     0.010211\n",
       "In Grace Period                                        0.004294\n",
       "Late (16-30 days)                                      0.002094\n",
       "Does not meet the credit policy. Status:Fully Paid     0.000740\n",
       "Does not meet the credit policy. Status:Charged Off    0.000286\n",
       "Default                                                0.000017\n",
       "Name: loan_status, dtype: float64"
      ]
     },
     "execution_count": 29,
     "metadata": {},
     "output_type": "execute_result"
    }
   ],
   "source": [
    "d['loan_status'].value_counts() / d['loan_status'].count()"
   ]
  },
  {
   "cell_type": "code",
   "execution_count": 30,
   "metadata": {},
   "outputs": [],
   "source": [
    "# Creating the Y (good_bad) variable for the probability of default analysis\n",
    "d['good_bad'] = np.where(d['loan_status'].isin([\n",
    "    'Charged Off', \n",
    "    'Default',\n",
    "    'Late (31-120 days)',\n",
    "    'Does not meet the credit policy. Status:Charged Off'\n",
    "]), 0, 1)"
   ]
  },
  {
   "cell_type": "code",
   "execution_count": 31,
   "metadata": {},
   "outputs": [
    {
     "data": {
      "text/plain": [
       "1    0.886225\n",
       "0    0.113775\n",
       "Name: good_bad, dtype: float64"
      ]
     },
     "execution_count": 31,
     "metadata": {},
     "output_type": "execute_result"
    }
   ],
   "source": [
    "# Distribution of classes\n",
    "d['good_bad'].value_counts() / d['good_bad'].count()"
   ]
  },
  {
   "cell_type": "markdown",
   "metadata": {},
   "source": [
    "# Spliting the data into train, validation and test sets"
   ]
  },
  {
   "cell_type": "markdown",
   "metadata": {},
   "source": [
    "The amount of data for training will be 80 percent of the whole dataset, validation (used for hyperparameter tuning) will be 10 percent and the test set (which we will measure some accuracy metrics) will be 10 percent. "
   ]
  },
  {
   "cell_type": "code",
   "execution_count": 32,
   "metadata": {},
   "outputs": [],
   "source": [
    "train, val, test = np.split(d.sample(frac=1, random_state=42), [int(.8*len(d)), int(.9*len(d))])"
   ]
  },
  {
   "cell_type": "code",
   "execution_count": 33,
   "metadata": {},
   "outputs": [
    {
     "name": "stdout",
     "output_type": "stream",
     "text": [
      "Shape of training data: (2115933, 146)\n",
      "Shape of training data: (264492, 146)\n",
      "Shape of training data: (264492, 146)\n"
     ]
    }
   ],
   "source": [
    "print(f\"Shape of training data: {train.shape}\")\n",
    "print(f\"Shape of training data: {val.shape}\")\n",
    "print(f\"Shape of training data: {test.shape}\")"
   ]
  },
  {
   "cell_type": "markdown",
   "metadata": {},
   "source": [
    "# Fine classing, weight of evidence and coarse classing"
   ]
  },
  {
   "cell_type": "markdown",
   "metadata": {},
   "source": [
    "Fine classing is a technique that groups a variable's values into a number of fine bins. Using these bins, a measure of the variable's predictive power, known as information value (IV), can be computed. Also from these fine bins, further grouping can be carried out to result in coarse classing."
   ]
  },
  {
   "cell_type": "markdown",
   "metadata": {},
   "source": [
    "One of the fundamental concepts in information value is the weight of evidence concept. The weight of evidence tells the predictive power of an independent variable in relation to the dependent variable.\n",
    "\n",
    "For a given feature $i$, the weight of evidence, or, $WoE_{i}$ is calculated by: \n",
    "\n",
    "$$ WoE_{i} = log\\left(\\dfrac{\\% of y = 1 | x = i}{\\% of y = 0 | x = i}\\right)$$"
   ]
  },
  {
   "cell_type": "markdown",
   "metadata": {},
   "source": [
    "Thus, the woe is calculated for each feature in our dataset."
   ]
  },
  {
   "cell_type": "code",
   "execution_count": null,
   "metadata": {},
   "outputs": [],
   "source": []
  }
 ],
 "metadata": {
  "kernelspec": {
   "display_name": "Python 3",
   "language": "python",
   "name": "python3"
  },
  "language_info": {
   "codemirror_mode": {
    "name": "ipython",
    "version": 3
   },
   "file_extension": ".py",
   "mimetype": "text/x-python",
   "name": "python",
   "nbconvert_exporter": "python",
   "pygments_lexer": "ipython3",
   "version": "3.8.5"
  }
 },
 "nbformat": 4,
 "nbformat_minor": 4
}
