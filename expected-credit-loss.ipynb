{
 "cells": [
  {
   "cell_type": "markdown",
   "metadata": {},
   "source": [
    "# Importing packages"
   ]
  },
  {
   "cell_type": "code",
   "execution_count": 1,
   "metadata": {},
   "outputs": [],
   "source": [
    "import pandas as pd \n",
    "import numpy as np\n",
    "import datetime\n",
    "\n",
    "# Setting the option to display the dataframe \n",
    "pd.options.display.max_columns = None\n",
    "pd.options.display.max_rows = 150"
   ]
  },
  {
   "cell_type": "markdown",
   "metadata": {},
   "source": [
    "# Features in the analysis "
   ]
  },
  {
   "cell_type": "markdown",
   "metadata": {},
   "source": [
    "The main features that will be used in the modeling of credit risk are: \n",
    "\n",
    "* **earliest_cr_line** - The month the borrower's earliest reported credit line was opened.\n",
    "\n",
    "* **emp_length** - Employment length in years. Possible values are between 0 and 10 where 0 means less than one year and 10 means ten or more years. \n",
    "\n",
    "* **term** - number of payments on the loan. Values can be either 36 or 60. \n",
    "\n",
    "* **issue_d** - the month which the loan was funded (issued)\n",
    "\n",
    "* **grade** - loan companies assigned loan grade.\n",
    "\n",
    "* **sub_grade** - loan companies assigned loan subgrade.\n",
    "\n",
    "* **home_ownership** - The home ownership status provided by the borrower during registration or obtained from the credit report. The values are: RENT, OWN, MORTGAGE, OTHER.\n",
    "\n",
    "* **verification_status** - Indicates if income was verified by LC, not verified, or if the income source was verified.\n",
    "\n",
    "* **purpose** - the purpose of the loan; a category provided by the borrower for the loan request.\n",
    "\n",
    "* **addr_state** - the state provided by the borrower in the loan application.\n",
    "\n",
    "* **initial_list_status** - the initial listing status of the loan. Possible values are – W, F.\n",
    "\n",
    "* **loan_amnt** - the amount of $ applied by the borrower.\n",
    "\n",
    "* **funded_amnt** - the amount of requested loan that was funded in $.\n",
    "\n",
    "* **annual_inc** - the self-reported annual income by the borrower.\n",
    "\n",
    "* **acc_now_delinq** - the amount of accounts which the borrower is a delinquet.\n",
    "\n",
    "* **total_acc** - The total number of credit lines currently in the borrower's credit file.\n",
    "\n",
    "* **pub_rec** - Number of derogatory public records.\n",
    "\n",
    "* **open_acc** - The number of open credit lines in the borrower's credit file.\n",
    "\n",
    "The feature that we will use for the creation of the $Y$ (also known as the dependant variable) is the loan_status variable. \n",
    "\n",
    "* **loan_status** - current status of the loan (as of creation of the data)."
   ]
  },
  {
   "cell_type": "code",
   "execution_count": 4,
   "metadata": {},
   "outputs": [],
   "source": [
    "columns = [\n",
    "    'earliest_cr_line',\n",
    "    'emp_length',\n",
    "    'term',\n",
    "    'issue_d',\n",
    "    'grade',\n",
    "    'sub_grade',\n",
    "    'home_ownership',\n",
    "    'verification_status',\n",
    "    'loan_status',\n",
    "    'purpose',\n",
    "    'addr_state',\n",
    "    'initial_list_status',\n",
    "    'loan_amnt',\n",
    "    'funded_amnt',\n",
    "    'annual_inc',\n",
    "    'acc_now_delinq',\n",
    "    'total_acc',\n",
    "    'pub_rec',\n",
    "    'open_acc'\n",
    "]"
   ]
  },
  {
   "cell_type": "markdown",
   "metadata": {},
   "source": [
    "# Reading the data "
   ]
  },
  {
   "cell_type": "code",
   "execution_count": 5,
   "metadata": {},
   "outputs": [],
   "source": [
    "# Reading the data\n",
    "d = pd.read_csv(\n",
    "    'data/Loan_status_2007-2020Q3.gzip', \n",
    "    low_memory=False,\n",
    "    usecols=columns\n",
    ")"
   ]
  },
  {
   "cell_type": "code",
   "execution_count": 6,
   "metadata": {},
   "outputs": [
    {
     "name": "stdout",
     "output_type": "stream",
     "text": [
      "Shape of the data: (2925493, 19)\n"
     ]
    }
   ],
   "source": [
    "print(f'Shape of the data: {d.shape}')"
   ]
  },
  {
   "cell_type": "code",
   "execution_count": 7,
   "metadata": {},
   "outputs": [
    {
     "data": {
      "text/html": [
       "<div>\n",
       "<style scoped>\n",
       "    .dataframe tbody tr th:only-of-type {\n",
       "        vertical-align: middle;\n",
       "    }\n",
       "\n",
       "    .dataframe tbody tr th {\n",
       "        vertical-align: top;\n",
       "    }\n",
       "\n",
       "    .dataframe thead th {\n",
       "        text-align: right;\n",
       "    }\n",
       "</style>\n",
       "<table border=\"1\" class=\"dataframe\">\n",
       "  <thead>\n",
       "    <tr style=\"text-align: right;\">\n",
       "      <th></th>\n",
       "      <th>loan_amnt</th>\n",
       "      <th>funded_amnt</th>\n",
       "      <th>term</th>\n",
       "      <th>grade</th>\n",
       "      <th>sub_grade</th>\n",
       "      <th>emp_length</th>\n",
       "      <th>home_ownership</th>\n",
       "      <th>annual_inc</th>\n",
       "      <th>verification_status</th>\n",
       "      <th>issue_d</th>\n",
       "      <th>loan_status</th>\n",
       "      <th>purpose</th>\n",
       "      <th>addr_state</th>\n",
       "      <th>earliest_cr_line</th>\n",
       "      <th>open_acc</th>\n",
       "      <th>pub_rec</th>\n",
       "      <th>total_acc</th>\n",
       "      <th>initial_list_status</th>\n",
       "      <th>acc_now_delinq</th>\n",
       "    </tr>\n",
       "  </thead>\n",
       "  <tbody>\n",
       "    <tr>\n",
       "      <th>0</th>\n",
       "      <td>5000.0</td>\n",
       "      <td>5000.0</td>\n",
       "      <td>36 months</td>\n",
       "      <td>B</td>\n",
       "      <td>B2</td>\n",
       "      <td>10+ years</td>\n",
       "      <td>RENT</td>\n",
       "      <td>24000.0</td>\n",
       "      <td>Verified</td>\n",
       "      <td>Dec-2011</td>\n",
       "      <td>Fully Paid</td>\n",
       "      <td>credit_card</td>\n",
       "      <td>AZ</td>\n",
       "      <td>Jan-1985</td>\n",
       "      <td>3.0</td>\n",
       "      <td>0.0</td>\n",
       "      <td>9.0</td>\n",
       "      <td>f</td>\n",
       "      <td>0.0</td>\n",
       "    </tr>\n",
       "    <tr>\n",
       "      <th>1</th>\n",
       "      <td>2500.0</td>\n",
       "      <td>2500.0</td>\n",
       "      <td>60 months</td>\n",
       "      <td>C</td>\n",
       "      <td>C4</td>\n",
       "      <td>&lt; 1 year</td>\n",
       "      <td>RENT</td>\n",
       "      <td>30000.0</td>\n",
       "      <td>Source Verified</td>\n",
       "      <td>Dec-2011</td>\n",
       "      <td>Charged Off</td>\n",
       "      <td>car</td>\n",
       "      <td>GA</td>\n",
       "      <td>Apr-1999</td>\n",
       "      <td>3.0</td>\n",
       "      <td>0.0</td>\n",
       "      <td>4.0</td>\n",
       "      <td>f</td>\n",
       "      <td>0.0</td>\n",
       "    </tr>\n",
       "    <tr>\n",
       "      <th>2</th>\n",
       "      <td>2400.0</td>\n",
       "      <td>2400.0</td>\n",
       "      <td>36 months</td>\n",
       "      <td>C</td>\n",
       "      <td>C5</td>\n",
       "      <td>10+ years</td>\n",
       "      <td>RENT</td>\n",
       "      <td>12252.0</td>\n",
       "      <td>Not Verified</td>\n",
       "      <td>Dec-2011</td>\n",
       "      <td>Fully Paid</td>\n",
       "      <td>small_business</td>\n",
       "      <td>IL</td>\n",
       "      <td>Nov-2001</td>\n",
       "      <td>2.0</td>\n",
       "      <td>0.0</td>\n",
       "      <td>10.0</td>\n",
       "      <td>f</td>\n",
       "      <td>0.0</td>\n",
       "    </tr>\n",
       "    <tr>\n",
       "      <th>3</th>\n",
       "      <td>10000.0</td>\n",
       "      <td>10000.0</td>\n",
       "      <td>36 months</td>\n",
       "      <td>C</td>\n",
       "      <td>C1</td>\n",
       "      <td>10+ years</td>\n",
       "      <td>RENT</td>\n",
       "      <td>49200.0</td>\n",
       "      <td>Source Verified</td>\n",
       "      <td>Dec-2011</td>\n",
       "      <td>Fully Paid</td>\n",
       "      <td>other</td>\n",
       "      <td>CA</td>\n",
       "      <td>Feb-1996</td>\n",
       "      <td>10.0</td>\n",
       "      <td>0.0</td>\n",
       "      <td>37.0</td>\n",
       "      <td>f</td>\n",
       "      <td>0.0</td>\n",
       "    </tr>\n",
       "    <tr>\n",
       "      <th>4</th>\n",
       "      <td>3000.0</td>\n",
       "      <td>3000.0</td>\n",
       "      <td>60 months</td>\n",
       "      <td>B</td>\n",
       "      <td>B5</td>\n",
       "      <td>1 year</td>\n",
       "      <td>RENT</td>\n",
       "      <td>80000.0</td>\n",
       "      <td>Source Verified</td>\n",
       "      <td>Dec-2011</td>\n",
       "      <td>Fully Paid</td>\n",
       "      <td>other</td>\n",
       "      <td>OR</td>\n",
       "      <td>Jan-1996</td>\n",
       "      <td>15.0</td>\n",
       "      <td>0.0</td>\n",
       "      <td>38.0</td>\n",
       "      <td>f</td>\n",
       "      <td>0.0</td>\n",
       "    </tr>\n",
       "  </tbody>\n",
       "</table>\n",
       "</div>"
      ],
      "text/plain": [
       "   loan_amnt  funded_amnt        term grade sub_grade emp_length  \\\n",
       "0     5000.0       5000.0   36 months     B        B2  10+ years   \n",
       "1     2500.0       2500.0   60 months     C        C4   < 1 year   \n",
       "2     2400.0       2400.0   36 months     C        C5  10+ years   \n",
       "3    10000.0      10000.0   36 months     C        C1  10+ years   \n",
       "4     3000.0       3000.0   60 months     B        B5     1 year   \n",
       "\n",
       "  home_ownership  annual_inc verification_status   issue_d  loan_status  \\\n",
       "0           RENT     24000.0            Verified  Dec-2011   Fully Paid   \n",
       "1           RENT     30000.0     Source Verified  Dec-2011  Charged Off   \n",
       "2           RENT     12252.0        Not Verified  Dec-2011   Fully Paid   \n",
       "3           RENT     49200.0     Source Verified  Dec-2011   Fully Paid   \n",
       "4           RENT     80000.0     Source Verified  Dec-2011   Fully Paid   \n",
       "\n",
       "          purpose addr_state earliest_cr_line  open_acc  pub_rec  total_acc  \\\n",
       "0     credit_card         AZ         Jan-1985       3.0      0.0        9.0   \n",
       "1             car         GA         Apr-1999       3.0      0.0        4.0   \n",
       "2  small_business         IL         Nov-2001       2.0      0.0       10.0   \n",
       "3           other         CA         Feb-1996      10.0      0.0       37.0   \n",
       "4           other         OR         Jan-1996      15.0      0.0       38.0   \n",
       "\n",
       "  initial_list_status  acc_now_delinq  \n",
       "0                   f             0.0  \n",
       "1                   f             0.0  \n",
       "2                   f             0.0  \n",
       "3                   f             0.0  \n",
       "4                   f             0.0  "
      ]
     },
     "execution_count": 7,
     "metadata": {},
     "output_type": "execute_result"
    }
   ],
   "source": [
    "# Eyeballing the data\n",
    "d.head()"
   ]
  },
  {
   "cell_type": "code",
   "execution_count": 8,
   "metadata": {
    "scrolled": false
   },
   "outputs": [
    {
     "data": {
      "text/plain": [
       "loan_amnt              float64\n",
       "funded_amnt            float64\n",
       "term                    object\n",
       "grade                   object\n",
       "sub_grade               object\n",
       "emp_length              object\n",
       "home_ownership          object\n",
       "annual_inc             float64\n",
       "verification_status     object\n",
       "issue_d                 object\n",
       "loan_status             object\n",
       "purpose                 object\n",
       "addr_state              object\n",
       "earliest_cr_line        object\n",
       "open_acc               float64\n",
       "pub_rec                float64\n",
       "total_acc              float64\n",
       "initial_list_status     object\n",
       "acc_now_delinq         float64\n",
       "dtype: object"
      ]
     },
     "execution_count": 8,
     "metadata": {},
     "output_type": "execute_result"
    }
   ],
   "source": [
    "# Seeing the types of the columns to make sure numerics are numeris, \n",
    "# categorical variables are categorical, etc.\n",
    "d.dtypes"
   ]
  },
  {
   "cell_type": "markdown",
   "metadata": {},
   "source": [
    "# Filling missing data"
   ]
  },
  {
   "cell_type": "code",
   "execution_count": 9,
   "metadata": {},
   "outputs": [
    {
     "data": {
      "text/plain": [
       "loan_amnt                   1\n",
       "funded_amnt                 1\n",
       "term                        1\n",
       "grade                       1\n",
       "sub_grade                   1\n",
       "emp_length             205221\n",
       "home_ownership              1\n",
       "annual_inc                  5\n",
       "verification_status         1\n",
       "issue_d                     1\n",
       "loan_status                 1\n",
       "purpose                     1\n",
       "addr_state                  1\n",
       "earliest_cr_line           30\n",
       "open_acc                   30\n",
       "pub_rec                    30\n",
       "total_acc                  30\n",
       "initial_list_status         1\n",
       "acc_now_delinq             30\n",
       "dtype: int64"
      ]
     },
     "execution_count": 9,
     "metadata": {},
     "output_type": "execute_result"
    }
   ],
   "source": [
    "# Getting the number of rows missing\n",
    "d.isnull().sum()"
   ]
  },
  {
   "cell_type": "markdown",
   "metadata": {},
   "source": [
    "According to the documentation in the data, if the emp_length is missing, it means that there is no employment info. The suggested procedure is to treat this value the same as \"< 1 year\" value."
   ]
  },
  {
   "cell_type": "code",
   "execution_count": 10,
   "metadata": {},
   "outputs": [],
   "source": [
    "d['emp_length'] = d['emp_length'].fillna('< 1 year')"
   ]
  },
  {
   "cell_type": "markdown",
   "metadata": {},
   "source": [
    "All the other missing rows will be dropped. The amount of rows dropped is very minimal when compared to the total number of rows. "
   ]
  },
  {
   "cell_type": "code",
   "execution_count": 11,
   "metadata": {},
   "outputs": [
    {
     "name": "stdout",
     "output_type": "stream",
     "text": [
      "Shape of data after dropping rows with missing values: (2925463, 19)\n"
     ]
    }
   ],
   "source": [
    "d.dropna(inplace=True)\n",
    "d.reset_index(inplace=True, drop=True)\n",
    "\n",
    "print(f\"Shape of data after dropping rows with missing values: {d.shape}\")"
   ]
  },
  {
   "cell_type": "markdown",
   "metadata": {},
   "source": [
    "# General data preprocesing "
   ]
  },
  {
   "cell_type": "markdown",
   "metadata": {},
   "source": [
    "## Categories to numerics"
   ]
  },
  {
   "cell_type": "markdown",
   "metadata": {},
   "source": [
    "The **term** and **emp_length** features are stored as categorical. We need to convert them first to numeric. "
   ]
  },
  {
   "cell_type": "code",
   "execution_count": 12,
   "metadata": {},
   "outputs": [
    {
     "data": {
      "text/plain": [
       "array([' 36 months', ' 60 months'], dtype=object)"
      ]
     },
     "execution_count": 12,
     "metadata": {},
     "output_type": "execute_result"
    }
   ],
   "source": [
    "d['term'].unique()"
   ]
  },
  {
   "cell_type": "code",
   "execution_count": 13,
   "metadata": {},
   "outputs": [
    {
     "data": {
      "text/plain": [
       "array(['10+ years', '< 1 year', '1 year', '3 years', '8 years', '9 years',\n",
       "       '4 years', '5 years', '6 years', '2 years', '7 years'],\n",
       "      dtype=object)"
      ]
     },
     "execution_count": 13,
     "metadata": {},
     "output_type": "execute_result"
    }
   ],
   "source": [
    "d['emp_length'].unique()"
   ]
  },
  {
   "cell_type": "code",
   "execution_count": 14,
   "metadata": {},
   "outputs": [],
   "source": [
    "# Cleaning employment length \n",
    "d['emp_length_int'] = d['emp_length'].str.replace('\\+ years| years| year', '')\n",
    "d['emp_length_int'] = d['emp_length_int'].str.replace('< 1', str(0))\n",
    "\n",
    "# Converting the column type to numeric \n",
    "d['emp_length_int'] = pd.to_numeric(d['emp_length_int'])"
   ]
  },
  {
   "cell_type": "code",
   "execution_count": 15,
   "metadata": {},
   "outputs": [],
   "source": [
    "# Cleaning the term column\n",
    "d['term_int'] = d['term'].str.replace(' months', '')\n",
    "d['term_int'] = d['term_int'].str.replace(' ', '')\n",
    "\n",
    "# Converting the column type to numeric \n",
    "d['term_int'] = pd.to_numeric(d['term_int'])"
   ]
  },
  {
   "cell_type": "markdown",
   "metadata": {},
   "source": [
    "## Categories to dates"
   ]
  },
  {
   "cell_type": "code",
   "execution_count": 16,
   "metadata": {},
   "outputs": [],
   "source": [
    "def convert_to_2digit(x: str) -> datetime.datetime:\n",
    "    \"\"\"\n",
    "    A function to convert 4 digit last part of the date string to 2 digit\n",
    "    \"\"\"\n",
    "    try:\n",
    "        x = x.split('-')\n",
    "        month_part = x[0]\n",
    "        year_part = x[1][-2:]\n",
    "\n",
    "        return datetime.datetime.strptime(f'{month_part}-{year_part}', '%b-%y')\n",
    "    except:\n",
    "        return np.nan"
   ]
  },
  {
   "cell_type": "code",
   "execution_count": 17,
   "metadata": {},
   "outputs": [
    {
     "data": {
      "text/plain": [
       "['Jan-1985',\n",
       " 'Apr-1999',\n",
       " 'Nov-2001',\n",
       " 'Feb-1996',\n",
       " 'Jan-1996',\n",
       " 'Nov-2004',\n",
       " 'Jul-2005',\n",
       " 'Jan-2007',\n",
       " 'Apr-2004',\n",
       " 'Sep-2004']"
      ]
     },
     "execution_count": 17,
     "metadata": {},
     "output_type": "execute_result"
    }
   ],
   "source": [
    "# Inspecting the structure of dates\n",
    "\n",
    "# Head\n",
    "d['earliest_cr_line'].unique().tolist()[0:10]"
   ]
  },
  {
   "cell_type": "code",
   "execution_count": 18,
   "metadata": {},
   "outputs": [
    {
     "data": {
      "text/plain": [
       "['Apr-1958',\n",
       " 'Feb-1945',\n",
       " 'Mar-1957',\n",
       " 'Jul-1952',\n",
       " 'Mar-1933',\n",
       " 'Aug-1941',\n",
       " 'Dec-1946',\n",
       " 'Sep-1951',\n",
       " 'Feb-1934',\n",
       " 'Aug-1957']"
      ]
     },
     "execution_count": 18,
     "metadata": {},
     "output_type": "execute_result"
    }
   ],
   "source": [
    "# Tail \n",
    "d['earliest_cr_line'].unique().tolist()[-10:]"
   ]
  },
  {
   "cell_type": "code",
   "execution_count": 19,
   "metadata": {},
   "outputs": [],
   "source": [
    "# Converting to 2 digit years\n",
    "d['earliest_cr_line_date'] = [convert_to_2digit(x) for x in d['earliest_cr_line']]\n",
    "\n",
    "# The exact same logic applies to the column issue_d\n",
    "d['issue_d_date'] = [convert_to_2digit(x) for x in d['issue_d']]"
   ]
  },
  {
   "cell_type": "code",
   "execution_count": 20,
   "metadata": {},
   "outputs": [],
   "source": [
    "# Calculating the dates between loan issue and first credit line issued \n",
    "d['issue_cr_diff'] = d['issue_d_date'] - d['earliest_cr_line_date']"
   ]
  },
  {
   "cell_type": "code",
   "execution_count": 21,
   "metadata": {},
   "outputs": [
    {
     "data": {
      "text/plain": [
       "count                         2925463\n",
       "mean     5899 days 20:21:30.542796032\n",
       "std      2962 days 00:57:29.220568992\n",
       "min             -21915 days +00:00:00\n",
       "25%                4109 days 00:00:00\n",
       "50%                5388 days 00:00:00\n",
       "75%                7366 days 00:00:00\n",
       "max               18840 days 00:00:00\n",
       "Name: issue_cr_diff, dtype: object"
      ]
     },
     "execution_count": 21,
     "metadata": {},
     "output_type": "execute_result"
    }
   ],
   "source": [
    "d['issue_cr_diff'].describe()"
   ]
  },
  {
   "cell_type": "code",
   "execution_count": 22,
   "metadata": {},
   "outputs": [
    {
     "name": "stdout",
     "output_type": "stream",
     "text": [
      "Very old credit lines make of 0.2 % of the data\n"
     ]
    }
   ],
   "source": [
    "print(f\"Very old credit lines make of {round(d[d['issue_cr_diff'].dt.days<0].shape[0] * 100 / d.shape[0], 2)} % of the data\")"
   ]
  },
  {
   "cell_type": "markdown",
   "metadata": {},
   "source": [
    "For now, we will drop the very old users. The droping of these rows will have very little influence to the final coefficients."
   ]
  },
  {
   "cell_type": "code",
   "execution_count": 23,
   "metadata": {},
   "outputs": [],
   "source": [
    "d = d[d['issue_cr_diff'].dt.days>0]\n",
    "\n",
    "d.reset_index(inplace=True, drop=True)"
   ]
  },
  {
   "cell_type": "markdown",
   "metadata": {},
   "source": [
    "By convention, in credit risk modeling, months are prefered vs days. "
   ]
  },
  {
   "cell_type": "code",
   "execution_count": 24,
   "metadata": {},
   "outputs": [],
   "source": [
    "d['issue_cr_diff_mnth'] = [int(x) for x in d['issue_cr_diff'] / np.timedelta64(1, 'M')]"
   ]
  },
  {
   "cell_type": "markdown",
   "metadata": {},
   "source": [
    "Let us imagine that the current date when we are calculating the risk is 2020-01-01."
   ]
  },
  {
   "cell_type": "code",
   "execution_count": 25,
   "metadata": {},
   "outputs": [],
   "source": [
    "cur_date = datetime.datetime(2020, 1, 1)\n",
    "\n",
    "# Creating an additional column to see days past since the loan issue \n",
    "d['days_since_issue'] = cur_date - d['issue_d_date']\n",
    "d['mnth_since_issue'] = [int(x) for x in d['days_since_issue'] / np.timedelta64(1, 'M')]"
   ]
  },
  {
   "cell_type": "code",
   "execution_count": 26,
   "metadata": {},
   "outputs": [
    {
     "data": {
      "text/html": [
       "<div>\n",
       "<style scoped>\n",
       "    .dataframe tbody tr th:only-of-type {\n",
       "        vertical-align: middle;\n",
       "    }\n",
       "\n",
       "    .dataframe tbody tr th {\n",
       "        vertical-align: top;\n",
       "    }\n",
       "\n",
       "    .dataframe thead th {\n",
       "        text-align: right;\n",
       "    }\n",
       "</style>\n",
       "<table border=\"1\" class=\"dataframe\">\n",
       "  <thead>\n",
       "    <tr style=\"text-align: right;\">\n",
       "      <th></th>\n",
       "      <th>earliest_cr_line</th>\n",
       "      <th>earliest_cr_line_date</th>\n",
       "      <th>issue_d</th>\n",
       "      <th>issue_d_date</th>\n",
       "      <th>issue_cr_diff</th>\n",
       "      <th>issue_cr_diff_mnth</th>\n",
       "      <th>mnth_since_issue</th>\n",
       "    </tr>\n",
       "  </thead>\n",
       "  <tbody>\n",
       "    <tr>\n",
       "      <th>2719167</th>\n",
       "      <td>Jan-1994</td>\n",
       "      <td>1994-01-01</td>\n",
       "      <td>Mar-2017</td>\n",
       "      <td>2017-03-01</td>\n",
       "      <td>8460 days</td>\n",
       "      <td>277</td>\n",
       "      <td>34</td>\n",
       "    </tr>\n",
       "    <tr>\n",
       "      <th>489050</th>\n",
       "      <td>Jun-2000</td>\n",
       "      <td>2000-06-01</td>\n",
       "      <td>Mar-2018</td>\n",
       "      <td>2018-03-01</td>\n",
       "      <td>6482 days</td>\n",
       "      <td>212</td>\n",
       "      <td>22</td>\n",
       "    </tr>\n",
       "    <tr>\n",
       "      <th>34477</th>\n",
       "      <td>Jun-1983</td>\n",
       "      <td>1983-06-01</td>\n",
       "      <td>Oct-2009</td>\n",
       "      <td>2009-10-01</td>\n",
       "      <td>9619 days</td>\n",
       "      <td>316</td>\n",
       "      <td>123</td>\n",
       "    </tr>\n",
       "    <tr>\n",
       "      <th>2902799</th>\n",
       "      <td>Oct-1988</td>\n",
       "      <td>1988-10-01</td>\n",
       "      <td>Apr-2017</td>\n",
       "      <td>2017-04-01</td>\n",
       "      <td>10409 days</td>\n",
       "      <td>341</td>\n",
       "      <td>33</td>\n",
       "    </tr>\n",
       "    <tr>\n",
       "      <th>2437949</th>\n",
       "      <td>Mar-2001</td>\n",
       "      <td>2001-03-01</td>\n",
       "      <td>Jun-2016</td>\n",
       "      <td>2016-06-01</td>\n",
       "      <td>5571 days</td>\n",
       "      <td>183</td>\n",
       "      <td>43</td>\n",
       "    </tr>\n",
       "    <tr>\n",
       "      <th>2551333</th>\n",
       "      <td>Jun-1988</td>\n",
       "      <td>1988-06-01</td>\n",
       "      <td>Aug-2016</td>\n",
       "      <td>2016-08-01</td>\n",
       "      <td>10288 days</td>\n",
       "      <td>338</td>\n",
       "      <td>41</td>\n",
       "    </tr>\n",
       "    <tr>\n",
       "      <th>1650442</th>\n",
       "      <td>Nov-2001</td>\n",
       "      <td>2001-11-01</td>\n",
       "      <td>May-2014</td>\n",
       "      <td>2014-05-01</td>\n",
       "      <td>4564 days</td>\n",
       "      <td>149</td>\n",
       "      <td>68</td>\n",
       "    </tr>\n",
       "    <tr>\n",
       "      <th>33687</th>\n",
       "      <td>Jun-1997</td>\n",
       "      <td>1997-06-01</td>\n",
       "      <td>Dec-2009</td>\n",
       "      <td>2009-12-01</td>\n",
       "      <td>4566 days</td>\n",
       "      <td>150</td>\n",
       "      <td>121</td>\n",
       "    </tr>\n",
       "    <tr>\n",
       "      <th>2754620</th>\n",
       "      <td>Oct-1993</td>\n",
       "      <td>1993-10-01</td>\n",
       "      <td>Feb-2017</td>\n",
       "      <td>2017-02-01</td>\n",
       "      <td>8524 days</td>\n",
       "      <td>280</td>\n",
       "      <td>34</td>\n",
       "    </tr>\n",
       "    <tr>\n",
       "      <th>942663</th>\n",
       "      <td>Sep-2013</td>\n",
       "      <td>2013-09-01</td>\n",
       "      <td>Oct-2018</td>\n",
       "      <td>2018-10-01</td>\n",
       "      <td>1856 days</td>\n",
       "      <td>60</td>\n",
       "      <td>15</td>\n",
       "    </tr>\n",
       "  </tbody>\n",
       "</table>\n",
       "</div>"
      ],
      "text/plain": [
       "        earliest_cr_line earliest_cr_line_date   issue_d issue_d_date  \\\n",
       "2719167         Jan-1994            1994-01-01  Mar-2017   2017-03-01   \n",
       "489050          Jun-2000            2000-06-01  Mar-2018   2018-03-01   \n",
       "34477           Jun-1983            1983-06-01  Oct-2009   2009-10-01   \n",
       "2902799         Oct-1988            1988-10-01  Apr-2017   2017-04-01   \n",
       "2437949         Mar-2001            2001-03-01  Jun-2016   2016-06-01   \n",
       "2551333         Jun-1988            1988-06-01  Aug-2016   2016-08-01   \n",
       "1650442         Nov-2001            2001-11-01  May-2014   2014-05-01   \n",
       "33687           Jun-1997            1997-06-01  Dec-2009   2009-12-01   \n",
       "2754620         Oct-1993            1993-10-01  Feb-2017   2017-02-01   \n",
       "942663          Sep-2013            2013-09-01  Oct-2018   2018-10-01   \n",
       "\n",
       "        issue_cr_diff  issue_cr_diff_mnth  mnth_since_issue  \n",
       "2719167     8460 days                 277                34  \n",
       "489050      6482 days                 212                22  \n",
       "34477       9619 days                 316               123  \n",
       "2902799    10409 days                 341                33  \n",
       "2437949     5571 days                 183                43  \n",
       "2551333    10288 days                 338                41  \n",
       "1650442     4564 days                 149                68  \n",
       "33687       4566 days                 150               121  \n",
       "2754620     8524 days                 280                34  \n",
       "942663      1856 days                  60                15  "
      ]
     },
     "execution_count": 26,
     "metadata": {},
     "output_type": "execute_result"
    }
   ],
   "source": [
    "# Inspecting the results of engineering\n",
    "d[[\n",
    "    'earliest_cr_line', \n",
    "    'earliest_cr_line_date', \n",
    "    'issue_d', \n",
    "    'issue_d_date', \n",
    "    'issue_cr_diff',\n",
    "    'issue_cr_diff_mnth',\n",
    "    'mnth_since_issue'\n",
    "]].sample(10)"
   ]
  },
  {
   "cell_type": "markdown",
   "metadata": {},
   "source": [
    "## Preprocesing the categorical variables "
   ]
  },
  {
   "cell_type": "markdown",
   "metadata": {},
   "source": [
    "The aim of categorical variable preprocesing is to convert them into dummy variables. "
   ]
  },
  {
   "cell_type": "code",
   "execution_count": 45,
   "metadata": {},
   "outputs": [],
   "source": [
    "categorical_vars = [\n",
    "    'grade',\n",
    "    'sub_grade',\n",
    "    'home_ownership',\n",
    "    'verification_status',\n",
    "    'purpose',\n",
    "    'addr_state',\n",
    "    'initial_list_status',\n",
    "    'emp_length'\n",
    "]\n",
    "\n",
    "dummylist = []\n",
    "\n",
    "for categorical_var in categorical_vars:\n",
    "    dummylist.append(pd.get_dummies(d[categorical_var], prefix=f'{categorical_var}'))\n",
    "    \n",
    "# Creating the dummy dataframe for the categorical variables\n",
    "dummydf = pd.concat(dummylist, axis=1)"
   ]
  },
  {
   "cell_type": "code",
   "execution_count": 28,
   "metadata": {},
   "outputs": [
    {
     "data": {
      "text/plain": [
       "array(['grade_A', 'grade_B', 'grade_C', 'grade_D', 'grade_E', 'grade_F',\n",
       "       'grade_G', 'sub_grade_A1', 'sub_grade_A2', 'sub_grade_A3',\n",
       "       'sub_grade_A4', 'sub_grade_A5', 'sub_grade_B1', 'sub_grade_B2',\n",
       "       'sub_grade_B3', 'sub_grade_B4', 'sub_grade_B5', 'sub_grade_C1',\n",
       "       'sub_grade_C2', 'sub_grade_C3', 'sub_grade_C4', 'sub_grade_C5',\n",
       "       'sub_grade_D1', 'sub_grade_D2', 'sub_grade_D3', 'sub_grade_D4',\n",
       "       'sub_grade_D5', 'sub_grade_E1', 'sub_grade_E2', 'sub_grade_E3',\n",
       "       'sub_grade_E4', 'sub_grade_E5', 'sub_grade_F1', 'sub_grade_F2',\n",
       "       'sub_grade_F3', 'sub_grade_F4', 'sub_grade_F5', 'sub_grade_G1',\n",
       "       'sub_grade_G2', 'sub_grade_G3', 'sub_grade_G4', 'sub_grade_G5',\n",
       "       'home_ownership_ANY', 'home_ownership_MORTGAGE',\n",
       "       'home_ownership_NONE', 'home_ownership_OTHER',\n",
       "       'home_ownership_OWN', 'home_ownership_RENT',\n",
       "       'verification_status_Not Verified',\n",
       "       'verification_status_Source Verified',\n",
       "       'verification_status_Verified', 'purpose_car',\n",
       "       'purpose_credit_card', 'purpose_debt_consolidation',\n",
       "       'purpose_educational', 'purpose_home_improvement', 'purpose_house',\n",
       "       'purpose_major_purchase', 'purpose_medical', 'purpose_moving',\n",
       "       'purpose_other', 'purpose_renewable_energy',\n",
       "       'purpose_small_business', 'purpose_vacation', 'purpose_wedding',\n",
       "       'addr_state_AK', 'addr_state_AL', 'addr_state_AR', 'addr_state_AZ',\n",
       "       'addr_state_CA', 'addr_state_CO', 'addr_state_CT', 'addr_state_DC',\n",
       "       'addr_state_DE', 'addr_state_FL', 'addr_state_GA', 'addr_state_HI',\n",
       "       'addr_state_IA', 'addr_state_ID', 'addr_state_IL', 'addr_state_IN',\n",
       "       'addr_state_KS', 'addr_state_KY', 'addr_state_LA', 'addr_state_MA',\n",
       "       'addr_state_MD', 'addr_state_ME', 'addr_state_MI', 'addr_state_MN',\n",
       "       'addr_state_MO', 'addr_state_MS', 'addr_state_MT', 'addr_state_NC',\n",
       "       'addr_state_ND', 'addr_state_NE', 'addr_state_NH', 'addr_state_NJ',\n",
       "       'addr_state_NM', 'addr_state_NV', 'addr_state_NY', 'addr_state_OH',\n",
       "       'addr_state_OK', 'addr_state_OR', 'addr_state_PA', 'addr_state_RI',\n",
       "       'addr_state_SC', 'addr_state_SD', 'addr_state_TN', 'addr_state_TX',\n",
       "       'addr_state_UT', 'addr_state_VA', 'addr_state_VT', 'addr_state_WA',\n",
       "       'addr_state_WI', 'addr_state_WV', 'addr_state_WY',\n",
       "       'initial_list_status_f', 'initial_list_status_w'], dtype=object)"
      ]
     },
     "execution_count": 28,
     "metadata": {},
     "output_type": "execute_result"
    }
   ],
   "source": [
    "# Listing all the columns\n",
    "dummydf.columns.values"
   ]
  },
  {
   "cell_type": "code",
   "execution_count": 29,
   "metadata": {},
   "outputs": [],
   "source": [
    "# Getting the numeric feature list \n",
    "numeric_features = [\n",
    "    'loan_amnt',\n",
    "    'funded_amnt',\n",
    "    'term',\n",
    "    'emp_length',\n",
    "    'annual_inc',\n",
    "    'mnth_since_issue',\n",
    "    'term_int',\n",
    "    # Adding load_status for Y creation\n",
    "    'loan_status'\n",
    "]"
   ]
  },
  {
   "cell_type": "code",
   "execution_count": 30,
   "metadata": {},
   "outputs": [],
   "source": [
    "# Creating the dataframe with numeric and dummy variables \n",
    "d = pd.concat([d, dummydf], axis=1)"
   ]
  },
  {
   "cell_type": "markdown",
   "metadata": {},
   "source": [
    "# Probability of default (PD) modeling"
   ]
  },
  {
   "cell_type": "markdown",
   "metadata": {},
   "source": [
    "The main objective in PD modeling is to create a model to infer a probability for a default given a set of features $X$.\n",
    "\n",
    "It is established by various auditing firms that the interpretation of the model needs to be easy even for not statistical savy people. One highly interpretable machine learning model is logistic regression. \n",
    "\n",
    "Another agreed upon part of PD modeling is that the $X$ matrix needs to be comprised of dummy variable data. Thus, even continues numeric variables need to be converted to categorical features. Additionally, when creating the $Y$ variable, positive coefficients in logistic regression need to lead to a \"positive\" class, meaning, the higher a given value, the less chance of default."
   ]
  },
  {
   "cell_type": "markdown",
   "metadata": {},
   "source": [
    "# Creation of the dependant variable "
   ]
  },
  {
   "cell_type": "markdown",
   "metadata": {},
   "source": [
    "One of the widespread default definition is that if a person is not able to pay their obligations in 90 days, it is considered default. In the PD modeling space, the Y encoding to non defaul and default is often termed \"good bad\" encoding."
   ]
  },
  {
   "cell_type": "code",
   "execution_count": 31,
   "metadata": {},
   "outputs": [
    {
     "data": {
      "text/plain": [
       "Fully Paid                                             0.511938\n",
       "Current                                                0.352573\n",
       "Charged Off                                            0.123825\n",
       "Late (31-120 days)                                     0.005522\n",
       "In Grace Period                                        0.003430\n",
       "Late (16-30 days)                                      0.000929\n",
       "Issued                                                 0.000706\n",
       "Does not meet the credit policy. Status:Fully Paid     0.000670\n",
       "Does not meet the credit policy. Status:Charged Off    0.000259\n",
       "Default                                                0.000148\n",
       "Name: loan_status, dtype: float64"
      ]
     },
     "execution_count": 31,
     "metadata": {},
     "output_type": "execute_result"
    }
   ],
   "source": [
    "d['loan_status'].value_counts() / d['loan_status'].count()"
   ]
  },
  {
   "cell_type": "code",
   "execution_count": 32,
   "metadata": {},
   "outputs": [],
   "source": [
    "# Creating the Y (good_bad) variable for the probability of default analysis\n",
    "d['good_bad'] = np.where(d['loan_status'].isin([\n",
    "    'Charged Off', \n",
    "    'Default',\n",
    "    'Late (31-120 days)',\n",
    "    'Does not meet the credit policy. Status:Charged Off'\n",
    "]), 0, 1)"
   ]
  },
  {
   "cell_type": "code",
   "execution_count": 33,
   "metadata": {},
   "outputs": [
    {
     "data": {
      "text/plain": [
       "1    0.870246\n",
       "0    0.129754\n",
       "Name: good_bad, dtype: float64"
      ]
     },
     "execution_count": 33,
     "metadata": {},
     "output_type": "execute_result"
    }
   ],
   "source": [
    "# Distribution of classes\n",
    "d['good_bad'].value_counts() / d['good_bad'].count()"
   ]
  },
  {
   "cell_type": "markdown",
   "metadata": {},
   "source": [
    "# Spliting the data into train, validation and test sets"
   ]
  },
  {
   "cell_type": "markdown",
   "metadata": {},
   "source": [
    "The amount of data for training will be 80 percent of the whole dataset, validation (used for hyperparameter tuning) will be 10 percent and the test set (which we will measure some accuracy metrics) will be 10 percent. "
   ]
  },
  {
   "cell_type": "code",
   "execution_count": 34,
   "metadata": {},
   "outputs": [],
   "source": [
    "train, val, test = np.split(d.sample(frac=1, random_state=42), [int(.8*len(d)), int(.9*len(d))])"
   ]
  },
  {
   "cell_type": "code",
   "execution_count": 35,
   "metadata": {},
   "outputs": [
    {
     "name": "stdout",
     "output_type": "stream",
     "text": [
      "Shape of training data: (2335644, 146)\n",
      "Shape of training data: (291956, 146)\n",
      "Shape of training data: (291956, 146)\n"
     ]
    }
   ],
   "source": [
    "print(f\"Shape of training data: {train.shape}\")\n",
    "print(f\"Shape of training data: {val.shape}\")\n",
    "print(f\"Shape of training data: {test.shape}\")"
   ]
  },
  {
   "cell_type": "markdown",
   "metadata": {},
   "source": [
    "# Fine classing, weight of evidence and coarse classing"
   ]
  },
  {
   "cell_type": "markdown",
   "metadata": {},
   "source": [
    "Fine classing is a technique that groups a variable's values into a number of fine bins. Using these bins, a measure of the variable's predictive power, known as information value (IV), can be computed. Also from these fine bins, further grouping can be carried out to result in coarse classing."
   ]
  },
  {
   "cell_type": "markdown",
   "metadata": {},
   "source": [
    "One of the fundamental concepts in information value is the weight of evidence concept. The weight of evidence tells the predictive power of an independent variable in relation to the dependent variable.\n",
    "\n",
    "For a given feature $i$, the weight of evidence, or, $WoE_{i}$ is calculated by: \n",
    "\n",
    "$$ WoE_{i} = log\\left(\\dfrac{\\% of y = 1 | x = i}{\\% of y = 0 | x = i}\\right)$$"
   ]
  },
  {
   "cell_type": "markdown",
   "metadata": {},
   "source": [
    "Thus, the woe is calculated for each feature in our dataset."
   ]
  },
  {
   "cell_type": "markdown",
   "metadata": {},
   "source": [
    "## Caluclating the WoE for home ownership"
   ]
  },
  {
   "cell_type": "markdown",
   "metadata": {},
   "source": [
    "Lets go step by step and calculate the WoE statistic for all the levels of the home ownership categorical value. "
   ]
  },
  {
   "cell_type": "code",
   "execution_count": 36,
   "metadata": {},
   "outputs": [],
   "source": [
    "# Subseting the data\n",
    "woe = d[['home_ownership', 'good_bad']]\n",
    "\n",
    "# Lets calculate the number of borrowers for each status \n",
    "grouped = woe.groupby('home_ownership', as_index=False)['good_bad'].count()"
   ]
  },
  {
   "cell_type": "code",
   "execution_count": 37,
   "metadata": {},
   "outputs": [
    {
     "data": {
      "text/html": [
       "<div>\n",
       "<style scoped>\n",
       "    .dataframe tbody tr th:only-of-type {\n",
       "        vertical-align: middle;\n",
       "    }\n",
       "\n",
       "    .dataframe tbody tr th {\n",
       "        vertical-align: top;\n",
       "    }\n",
       "\n",
       "    .dataframe thead th {\n",
       "        text-align: right;\n",
       "    }\n",
       "</style>\n",
       "<table border=\"1\" class=\"dataframe\">\n",
       "  <thead>\n",
       "    <tr style=\"text-align: right;\">\n",
       "      <th></th>\n",
       "      <th>home_ownership</th>\n",
       "      <th>good_bad</th>\n",
       "    </tr>\n",
       "  </thead>\n",
       "  <tbody>\n",
       "    <tr>\n",
       "      <th>0</th>\n",
       "      <td>ANY</td>\n",
       "      <td>3515</td>\n",
       "    </tr>\n",
       "    <tr>\n",
       "      <th>1</th>\n",
       "      <td>MORTGAGE</td>\n",
       "      <td>1434863</td>\n",
       "    </tr>\n",
       "    <tr>\n",
       "      <th>2</th>\n",
       "      <td>NONE</td>\n",
       "      <td>51</td>\n",
       "    </tr>\n",
       "    <tr>\n",
       "      <th>3</th>\n",
       "      <td>OTHER</td>\n",
       "      <td>181</td>\n",
       "    </tr>\n",
       "    <tr>\n",
       "      <th>4</th>\n",
       "      <td>OWN</td>\n",
       "      <td>329907</td>\n",
       "    </tr>\n",
       "    <tr>\n",
       "      <th>5</th>\n",
       "      <td>RENT</td>\n",
       "      <td>1151039</td>\n",
       "    </tr>\n",
       "  </tbody>\n",
       "</table>\n",
       "</div>"
      ],
      "text/plain": [
       "  home_ownership  good_bad\n",
       "0            ANY      3515\n",
       "1       MORTGAGE   1434863\n",
       "2           NONE        51\n",
       "3          OTHER       181\n",
       "4            OWN    329907\n",
       "5           RENT   1151039"
      ]
     },
     "execution_count": 37,
     "metadata": {},
     "output_type": "execute_result"
    }
   ],
   "source": [
    "# Inspecting the total number of people in each group \n",
    "grouped"
   ]
  },
  {
   "cell_type": "code",
   "execution_count": 38,
   "metadata": {},
   "outputs": [
    {
     "data": {
      "text/html": [
       "<div>\n",
       "<style scoped>\n",
       "    .dataframe tbody tr th:only-of-type {\n",
       "        vertical-align: middle;\n",
       "    }\n",
       "\n",
       "    .dataframe tbody tr th {\n",
       "        vertical-align: top;\n",
       "    }\n",
       "\n",
       "    .dataframe thead th {\n",
       "        text-align: right;\n",
       "    }\n",
       "</style>\n",
       "<table border=\"1\" class=\"dataframe\">\n",
       "  <thead>\n",
       "    <tr style=\"text-align: right;\">\n",
       "      <th></th>\n",
       "      <th>home_ownership</th>\n",
       "      <th>good_bad</th>\n",
       "      <th>good_borrowers</th>\n",
       "      <th>bad_borrowers</th>\n",
       "      <th>share_good</th>\n",
       "      <th>share_bad</th>\n",
       "    </tr>\n",
       "  </thead>\n",
       "  <tbody>\n",
       "    <tr>\n",
       "      <th>0</th>\n",
       "      <td>ANY</td>\n",
       "      <td>3515</td>\n",
       "      <td>3225</td>\n",
       "      <td>290</td>\n",
       "      <td>0.917496</td>\n",
       "      <td>0.082504</td>\n",
       "    </tr>\n",
       "    <tr>\n",
       "      <th>1</th>\n",
       "      <td>MORTGAGE</td>\n",
       "      <td>1434863</td>\n",
       "      <td>1273482</td>\n",
       "      <td>161381</td>\n",
       "      <td>0.887529</td>\n",
       "      <td>0.112471</td>\n",
       "    </tr>\n",
       "    <tr>\n",
       "      <th>2</th>\n",
       "      <td>NONE</td>\n",
       "      <td>51</td>\n",
       "      <td>43</td>\n",
       "      <td>8</td>\n",
       "      <td>0.843137</td>\n",
       "      <td>0.156863</td>\n",
       "    </tr>\n",
       "    <tr>\n",
       "      <th>3</th>\n",
       "      <td>OTHER</td>\n",
       "      <td>181</td>\n",
       "      <td>143</td>\n",
       "      <td>38</td>\n",
       "      <td>0.790055</td>\n",
       "      <td>0.209945</td>\n",
       "    </tr>\n",
       "    <tr>\n",
       "      <th>4</th>\n",
       "      <td>OWN</td>\n",
       "      <td>329907</td>\n",
       "      <td>286656</td>\n",
       "      <td>43251</td>\n",
       "      <td>0.868899</td>\n",
       "      <td>0.131101</td>\n",
       "    </tr>\n",
       "    <tr>\n",
       "      <th>5</th>\n",
       "      <td>RENT</td>\n",
       "      <td>1151039</td>\n",
       "      <td>977184</td>\n",
       "      <td>173855</td>\n",
       "      <td>0.848958</td>\n",
       "      <td>0.151042</td>\n",
       "    </tr>\n",
       "  </tbody>\n",
       "</table>\n",
       "</div>"
      ],
      "text/plain": [
       "  home_ownership  good_bad  good_borrowers  bad_borrowers  share_good  \\\n",
       "0            ANY      3515            3225            290    0.917496   \n",
       "1       MORTGAGE   1434863         1273482         161381    0.887529   \n",
       "2           NONE        51              43              8    0.843137   \n",
       "3          OTHER       181             143             38    0.790055   \n",
       "4            OWN    329907          286656          43251    0.868899   \n",
       "5           RENT   1151039          977184         173855    0.848958   \n",
       "\n",
       "   share_bad  \n",
       "0   0.082504  \n",
       "1   0.112471  \n",
       "2   0.156863  \n",
       "3   0.209945  \n",
       "4   0.131101  \n",
       "5   0.151042  "
      ]
     },
     "execution_count": 38,
     "metadata": {},
     "output_type": "execute_result"
    }
   ],
   "source": [
    "# Getting the total good borrowers in each group \n",
    "groupedgood = woe.groupby('home_ownership', as_index=False)['good_bad'].sum().rename(columns={'good_bad': 'good_borrowers'})\n",
    "\n",
    "# Merging with the initial dataframe\n",
    "grouped = pd.merge(grouped, groupedgood, on='home_ownership')\n",
    "\n",
    "# Getting the number of bad borrowers\n",
    "grouped['bad_borrowers'] = grouped['good_bad'] - grouped['good_borrowers']\n",
    "\n",
    "# Calculating the share of good borrowers\n",
    "grouped['share_good'] = grouped['good_borrowers'] / grouped['good_bad']\n",
    "\n",
    "# Calculating the share of bad borrowers\n",
    "grouped['share_bad'] = 1 - grouped['share_good']\n",
    "\n",
    "# Seeing the results\n",
    "grouped"
   ]
  },
  {
   "cell_type": "code",
   "execution_count": 39,
   "metadata": {},
   "outputs": [
    {
     "data": {
      "text/html": [
       "<div>\n",
       "<style scoped>\n",
       "    .dataframe tbody tr th:only-of-type {\n",
       "        vertical-align: middle;\n",
       "    }\n",
       "\n",
       "    .dataframe tbody tr th {\n",
       "        vertical-align: top;\n",
       "    }\n",
       "\n",
       "    .dataframe thead th {\n",
       "        text-align: right;\n",
       "    }\n",
       "</style>\n",
       "<table border=\"1\" class=\"dataframe\">\n",
       "  <thead>\n",
       "    <tr style=\"text-align: right;\">\n",
       "      <th></th>\n",
       "      <th>home_ownership</th>\n",
       "      <th>good_bad</th>\n",
       "      <th>good_borrowers</th>\n",
       "      <th>bad_borrowers</th>\n",
       "      <th>share_good</th>\n",
       "      <th>share_bad</th>\n",
       "      <th>prop_n_good</th>\n",
       "      <th>prop_n_bad</th>\n",
       "    </tr>\n",
       "  </thead>\n",
       "  <tbody>\n",
       "    <tr>\n",
       "      <th>0</th>\n",
       "      <td>ANY</td>\n",
       "      <td>3515</td>\n",
       "      <td>3225</td>\n",
       "      <td>290</td>\n",
       "      <td>0.917496</td>\n",
       "      <td>0.082504</td>\n",
       "      <td>0.001269</td>\n",
       "      <td>0.000766</td>\n",
       "    </tr>\n",
       "    <tr>\n",
       "      <th>1</th>\n",
       "      <td>MORTGAGE</td>\n",
       "      <td>1434863</td>\n",
       "      <td>1273482</td>\n",
       "      <td>161381</td>\n",
       "      <td>0.887529</td>\n",
       "      <td>0.112471</td>\n",
       "      <td>0.501226</td>\n",
       "      <td>0.426006</td>\n",
       "    </tr>\n",
       "    <tr>\n",
       "      <th>2</th>\n",
       "      <td>NONE</td>\n",
       "      <td>51</td>\n",
       "      <td>43</td>\n",
       "      <td>8</td>\n",
       "      <td>0.843137</td>\n",
       "      <td>0.156863</td>\n",
       "      <td>0.000017</td>\n",
       "      <td>0.000021</td>\n",
       "    </tr>\n",
       "    <tr>\n",
       "      <th>3</th>\n",
       "      <td>OTHER</td>\n",
       "      <td>181</td>\n",
       "      <td>143</td>\n",
       "      <td>38</td>\n",
       "      <td>0.790055</td>\n",
       "      <td>0.209945</td>\n",
       "      <td>0.000056</td>\n",
       "      <td>0.000100</td>\n",
       "    </tr>\n",
       "    <tr>\n",
       "      <th>4</th>\n",
       "      <td>OWN</td>\n",
       "      <td>329907</td>\n",
       "      <td>286656</td>\n",
       "      <td>43251</td>\n",
       "      <td>0.868899</td>\n",
       "      <td>0.131101</td>\n",
       "      <td>0.112824</td>\n",
       "      <td>0.114172</td>\n",
       "    </tr>\n",
       "    <tr>\n",
       "      <th>5</th>\n",
       "      <td>RENT</td>\n",
       "      <td>1151039</td>\n",
       "      <td>977184</td>\n",
       "      <td>173855</td>\n",
       "      <td>0.848958</td>\n",
       "      <td>0.151042</td>\n",
       "      <td>0.384607</td>\n",
       "      <td>0.458935</td>\n",
       "    </tr>\n",
       "  </tbody>\n",
       "</table>\n",
       "</div>"
      ],
      "text/plain": [
       "  home_ownership  good_bad  good_borrowers  bad_borrowers  share_good  \\\n",
       "0            ANY      3515            3225            290    0.917496   \n",
       "1       MORTGAGE   1434863         1273482         161381    0.887529   \n",
       "2           NONE        51              43              8    0.843137   \n",
       "3          OTHER       181             143             38    0.790055   \n",
       "4            OWN    329907          286656          43251    0.868899   \n",
       "5           RENT   1151039          977184         173855    0.848958   \n",
       "\n",
       "   share_bad  prop_n_good  prop_n_bad  \n",
       "0   0.082504     0.001269    0.000766  \n",
       "1   0.112471     0.501226    0.426006  \n",
       "2   0.156863     0.000017    0.000021  \n",
       "3   0.209945     0.000056    0.000100  \n",
       "4   0.131101     0.112824    0.114172  \n",
       "5   0.151042     0.384607    0.458935  "
      ]
     },
     "execution_count": 39,
     "metadata": {},
     "output_type": "execute_result"
    }
   ],
   "source": [
    "# Calculating the total proportion of good/bad borrowers in each group \n",
    "grouped['prop_n_good'] = grouped['good_borrowers'] / grouped['good_borrowers'].sum()\n",
    "grouped['prop_n_bad'] = grouped['bad_borrowers'] / grouped['bad_borrowers'].sum()\n",
    "\n",
    "grouped"
   ]
  },
  {
   "cell_type": "markdown",
   "metadata": {},
   "source": [
    "In the above dataset we have everything we need to calculate the weight of evidence for each categorical variable level. "
   ]
  },
  {
   "cell_type": "code",
   "execution_count": 40,
   "metadata": {},
   "outputs": [],
   "source": [
    "grouped['woe'] = np.log(grouped['prop_n_good'] / grouped['prop_n_bad'])"
   ]
  },
  {
   "cell_type": "code",
   "execution_count": 41,
   "metadata": {},
   "outputs": [
    {
     "data": {
      "text/html": [
       "<div>\n",
       "<style scoped>\n",
       "    .dataframe tbody tr th:only-of-type {\n",
       "        vertical-align: middle;\n",
       "    }\n",
       "\n",
       "    .dataframe tbody tr th {\n",
       "        vertical-align: top;\n",
       "    }\n",
       "\n",
       "    .dataframe thead th {\n",
       "        text-align: right;\n",
       "    }\n",
       "</style>\n",
       "<table border=\"1\" class=\"dataframe\">\n",
       "  <thead>\n",
       "    <tr style=\"text-align: right;\">\n",
       "      <th></th>\n",
       "      <th>home_ownership</th>\n",
       "      <th>good_bad</th>\n",
       "      <th>good_borrowers</th>\n",
       "      <th>bad_borrowers</th>\n",
       "      <th>share_good</th>\n",
       "      <th>share_bad</th>\n",
       "      <th>prop_n_good</th>\n",
       "      <th>prop_n_bad</th>\n",
       "      <th>woe</th>\n",
       "    </tr>\n",
       "  </thead>\n",
       "  <tbody>\n",
       "    <tr>\n",
       "      <th>0</th>\n",
       "      <td>ANY</td>\n",
       "      <td>3515</td>\n",
       "      <td>3225</td>\n",
       "      <td>290</td>\n",
       "      <td>0.917496</td>\n",
       "      <td>0.082504</td>\n",
       "      <td>0.001269</td>\n",
       "      <td>0.000766</td>\n",
       "      <td>0.505668</td>\n",
       "    </tr>\n",
       "    <tr>\n",
       "      <th>1</th>\n",
       "      <td>MORTGAGE</td>\n",
       "      <td>1434863</td>\n",
       "      <td>1273482</td>\n",
       "      <td>161381</td>\n",
       "      <td>0.887529</td>\n",
       "      <td>0.112471</td>\n",
       "      <td>0.501226</td>\n",
       "      <td>0.426006</td>\n",
       "      <td>0.162603</td>\n",
       "    </tr>\n",
       "    <tr>\n",
       "      <th>2</th>\n",
       "      <td>NONE</td>\n",
       "      <td>51</td>\n",
       "      <td>43</td>\n",
       "      <td>8</td>\n",
       "      <td>0.843137</td>\n",
       "      <td>0.156863</td>\n",
       "      <td>0.000017</td>\n",
       "      <td>0.000021</td>\n",
       "      <td>-0.221380</td>\n",
       "    </tr>\n",
       "    <tr>\n",
       "      <th>3</th>\n",
       "      <td>OTHER</td>\n",
       "      <td>181</td>\n",
       "      <td>143</td>\n",
       "      <td>38</td>\n",
       "      <td>0.790055</td>\n",
       "      <td>0.209945</td>\n",
       "      <td>0.000056</td>\n",
       "      <td>0.000100</td>\n",
       "      <td>-0.577880</td>\n",
       "    </tr>\n",
       "    <tr>\n",
       "      <th>4</th>\n",
       "      <td>OWN</td>\n",
       "      <td>329907</td>\n",
       "      <td>286656</td>\n",
       "      <td>43251</td>\n",
       "      <td>0.868899</td>\n",
       "      <td>0.131101</td>\n",
       "      <td>0.112824</td>\n",
       "      <td>0.114172</td>\n",
       "      <td>-0.011876</td>\n",
       "    </tr>\n",
       "    <tr>\n",
       "      <th>5</th>\n",
       "      <td>RENT</td>\n",
       "      <td>1151039</td>\n",
       "      <td>977184</td>\n",
       "      <td>173855</td>\n",
       "      <td>0.848958</td>\n",
       "      <td>0.151042</td>\n",
       "      <td>0.384607</td>\n",
       "      <td>0.458935</td>\n",
       "      <td>-0.176685</td>\n",
       "    </tr>\n",
       "  </tbody>\n",
       "</table>\n",
       "</div>"
      ],
      "text/plain": [
       "  home_ownership  good_bad  good_borrowers  bad_borrowers  share_good  \\\n",
       "0            ANY      3515            3225            290    0.917496   \n",
       "1       MORTGAGE   1434863         1273482         161381    0.887529   \n",
       "2           NONE        51              43              8    0.843137   \n",
       "3          OTHER       181             143             38    0.790055   \n",
       "4            OWN    329907          286656          43251    0.868899   \n",
       "5           RENT   1151039          977184         173855    0.848958   \n",
       "\n",
       "   share_bad  prop_n_good  prop_n_bad       woe  \n",
       "0   0.082504     0.001269    0.000766  0.505668  \n",
       "1   0.112471     0.501226    0.426006  0.162603  \n",
       "2   0.156863     0.000017    0.000021 -0.221380  \n",
       "3   0.209945     0.000056    0.000100 -0.577880  \n",
       "4   0.131101     0.112824    0.114172 -0.011876  \n",
       "5   0.151042     0.384607    0.458935 -0.176685  "
      ]
     },
     "execution_count": 41,
     "metadata": {},
     "output_type": "execute_result"
    }
   ],
   "source": [
    "grouped"
   ]
  },
  {
   "cell_type": "code",
   "execution_count": 42,
   "metadata": {},
   "outputs": [
    {
     "name": "stdout",
     "output_type": "stream",
     "text": [
      "The information value is :0.025660726093582335\n"
     ]
    }
   ],
   "source": [
    "# Lets calculate the IV for the overall variable home_ownership\n",
    "IV = np.sum((grouped['prop_n_good'] - grouped['prop_n_bad']) * grouped['woe'])\n",
    "\n",
    "print(f'The information value is :{IV}')"
   ]
  },
  {
   "cell_type": "markdown",
   "metadata": {},
   "source": [
    "## Defining a function that calculates the woe and IV "
   ]
  },
  {
   "cell_type": "code",
   "execution_count": 43,
   "metadata": {},
   "outputs": [],
   "source": [
    "def get_woe(d: pd.DataFrame, cat_var: str, good_bad_var: str):\n",
    "    # Subseting the dataframe \n",
    "    d = d[[cat_var, good_bad_var]]\n",
    "    \n",
    "    # Calculating the number of borrowers for each status \n",
    "    grouped = d.groupby(cat_var, as_index=False)[good_bad_var].count().rename(columns={good_bad_var: \"n\"})\n",
    "    \n",
    "    groupedgood = d.groupby(cat_var, as_index=False)[good_bad_var].sum().rename(columns={good_bad_var: 'good_borrowers'})\n",
    "\n",
    "    # Merging with the initial dataframe\n",
    "    grouped = pd.merge(grouped, groupedgood, on=cat_var)\n",
    "\n",
    "    # Getting the number of bad borrowers\n",
    "    grouped['bad_borrowers'] = grouped['n'] - grouped['good_borrowers']\n",
    "\n",
    "    # Calculating the share of good borrowers\n",
    "    grouped['share_good'] = grouped['good_borrowers'] / grouped['n']\n",
    "\n",
    "    # Calculating the share of bad borrowers\n",
    "    grouped['share_bad'] = 1 - grouped['n']\n",
    "    \n",
    "    # Calculating the total proportion of good/bad borrowers in each group \n",
    "    grouped['prop_n_good'] = grouped['good_borrowers'] / grouped['good_borrowers'].sum()\n",
    "    grouped['prop_n_bad'] = grouped['bad_borrowers'] / grouped['bad_borrowers'].sum()\n",
    "    \n",
    "    # Calculating the WoE statistic\n",
    "    grouped['woe'] = np.log(grouped['prop_n_good'] / grouped['prop_n_bad'])\n",
    "    \n",
    "    # Sorting by woe\n",
    "    grouped.sort_values('woe', inplace=True, ascending=False)\n",
    "    grouped.reset_index(inplace=True, drop=True)\n",
    "    \n",
    "    # Calculating IV\n",
    "    grouped['IV'] = np.sum((grouped['prop_n_good'] - grouped['prop_n_bad']) * grouped['woe'])\n",
    "    \n",
    "    # Returning the aggregated dataframe\n",
    "    return grouped"
   ]
  },
  {
   "cell_type": "code",
   "execution_count": 46,
   "metadata": {
    "scrolled": false
   },
   "outputs": [
    {
     "name": "stdout",
     "output_type": "stream",
     "text": [
      "-----------\n",
      "grade:\n",
      "  grade       n  good_borrowers  bad_borrowers  share_good  share_bad  \\\n",
      "0     A  654650          630541          24109    0.963173    -654649   \n",
      "1     B  855747          777869          77878    0.908994    -855746   \n",
      "2     C  800807          677416         123391    0.845917    -800806   \n",
      "3     D  415593          328934          86659    0.791481    -415592   \n",
      "4     E  138808           94090          44718    0.677843    -138807   \n",
      "5     F   41781           25071          16710    0.600057     -41780   \n",
      "6     G   12170            6812           5358    0.559737     -12169   \n",
      "\n",
      "   prop_n_good  prop_n_bad       woe        IV  \n",
      "0     0.248173    0.063642  1.360854  0.523789  \n",
      "1     0.306159    0.205579  0.398276  0.523789  \n",
      "2     0.266622    0.325722 -0.200211  0.523789  \n",
      "3     0.129464    0.228759 -0.569263  0.523789  \n",
      "4     0.037033    0.118045 -1.159263  0.523789  \n",
      "5     0.009868    0.044110 -1.497434  0.523789  \n",
      "6     0.002681    0.014144 -1.663044  0.523789  \n",
      "-----------\n",
      "-----------\n",
      "sub_grade:\n",
      "   sub_grade       n  good_borrowers  bad_borrowers  share_good  share_bad  \\\n",
      "0         A1  132887          130202           2685    0.979795    -132886   \n",
      "1         A2  100805           97805           3000    0.970240    -100804   \n",
      "2         A3  106090          102307           3783    0.964342    -106089   \n",
      "3         A4  158053          151756           6297    0.960159    -158052   \n",
      "4         A5  156815          148471           8344    0.946791    -156814   \n",
      "5         B1  163044          151633          11411    0.930013    -163043   \n",
      "6         B2  164508          151757          12751    0.922490    -164507   \n",
      "7         B3  161830          146665          15165    0.906291    -161829   \n",
      "8         B4  184836          166580          18256    0.901231    -184835   \n",
      "9         B5  181529          161234          20295    0.888200    -181528   \n",
      "10        C1  178707          155334          23373    0.869210    -178706   \n",
      "11        C2  161510          138185          23325    0.855582    -161509   \n",
      "12        C3  158731          134425          24306    0.846873    -158730   \n",
      "13        C4  152892          126443          26449    0.827009    -152891   \n",
      "14        C5  148967          123029          25938    0.825881    -148966   \n",
      "15        D2  108463           88755          19708    0.818297    -108462   \n",
      "16        D1  100660           80995          19665    0.804639    -100659   \n",
      "17        D3   82937           65646          17291    0.791516     -82936   \n",
      "18        D4   66975           51075          15900    0.762598     -66974   \n",
      "19        D5   56558           42463          14095    0.750787     -56557   \n",
      "20        E1   34767           24394          10373    0.701642     -34766   \n",
      "21        E2   30295           20711           9584    0.683644     -30294   \n",
      "22        E3   27190           18308           8882    0.673336     -27189   \n",
      "23        E4   23187           15320           7867    0.660715     -23186   \n",
      "24        E5   23369           15357           8012    0.657153     -23368   \n",
      "25        F1   13404            8448           4956    0.630260     -13403   \n",
      "26        F2    9305            5589           3716    0.600645      -9304   \n",
      "27        F3    7786            4660           3126    0.598510      -7785   \n",
      "28        G1    4107            2391           1716    0.582177      -4106   \n",
      "29        F4    6118            3478           2640    0.568486      -6117   \n",
      "30        G2    2695            1516           1179    0.562523      -2694   \n",
      "31        F5    5168            2896           2272    0.560372      -5167   \n",
      "32        G3    2090            1149            941    0.549761      -2089   \n",
      "33        G4    1711             924            787    0.540035      -1710   \n",
      "34        G5    1567             832            735    0.530951      -1566   \n",
      "\n",
      "    prop_n_good  prop_n_bad       woe        IV  \n",
      "0      0.051246    0.007088  1.978268  0.559442  \n",
      "1      0.038495    0.007919  1.581225  0.559442  \n",
      "2      0.040267    0.009986  1.394322  0.559442  \n",
      "3      0.059729    0.016623  1.279062  0.559442  \n",
      "4      0.058436    0.022026  0.975708  0.559442  \n",
      "5      0.059681    0.030122  0.683747  0.559442  \n",
      "6      0.059730    0.033660  0.573532  0.559442  \n",
      "7      0.057725    0.040032  0.366022  0.559442  \n",
      "8      0.065564    0.048191  0.307843  0.559442  \n",
      "9      0.063460    0.053574  0.169343  0.559442  \n",
      "10     0.061137    0.061699 -0.009143  0.559442  \n",
      "11     0.054388    0.061572 -0.124071  0.559442  \n",
      "12     0.052908    0.064162 -0.192856  0.559442  \n",
      "13     0.049766    0.069819 -0.338566  0.559442  \n",
      "14     0.048423    0.068470 -0.346428  0.559442  \n",
      "15     0.034933    0.052024 -0.398284  0.559442  \n",
      "16     0.031879    0.051911 -0.487592  0.559442  \n",
      "17     0.025837    0.045644 -0.569048  0.559442  \n",
      "18     0.020102    0.041972 -0.736163  0.559442  \n",
      "19     0.016713    0.037207 -0.800326  0.559442  \n",
      "20     0.009601    0.027382 -1.048008  0.559442  \n",
      "21     0.008152    0.025299 -1.132569  0.559442  \n",
      "22     0.007206    0.023446 -1.179827  0.559442  \n",
      "23     0.006030    0.020767 -1.236656  0.559442  \n",
      "24     0.006044    0.021150 -1.252508  0.559442  \n",
      "25     0.003325    0.013083 -1.369808  0.559442  \n",
      "26     0.002200    0.009809 -1.494986  0.559442  \n",
      "27     0.001834    0.008252 -1.503878  0.559442  \n",
      "28     0.000941    0.004530 -1.571423  0.559442  \n",
      "29     0.001369    0.006969 -1.627460  0.559442  \n",
      "30     0.000597    0.003112 -1.651730  0.559442  \n",
      "31     0.001140    0.005998 -1.660469  0.559442  \n",
      "32     0.000452    0.002484 -1.703435  0.559442  \n",
      "33     0.000364    0.002077 -1.742655  0.559442  \n",
      "34     0.000327    0.001940 -1.779177  0.559442  \n",
      "-----------\n",
      "-----------\n",
      "home_ownership:\n",
      "  home_ownership        n  good_borrowers  bad_borrowers  share_good  \\\n",
      "0            ANY     3515            3225            290    0.917496   \n",
      "1       MORTGAGE  1434863         1273482         161381    0.887529   \n",
      "2            OWN   329907          286656          43251    0.868899   \n",
      "3           RENT  1151039          977184         173855    0.848958   \n",
      "4           NONE       51              43              8    0.843137   \n",
      "5          OTHER      181             143             38    0.790055   \n",
      "\n",
      "   share_bad  prop_n_good  prop_n_bad       woe        IV  \n",
      "0      -3514     0.001269    0.000766  0.505668  0.025661  \n",
      "1   -1434862     0.501226    0.426006  0.162603  0.025661  \n",
      "2    -329906     0.112824    0.114172 -0.011876  0.025661  \n",
      "3   -1151038     0.384607    0.458935 -0.176685  0.025661  \n",
      "4        -50     0.000017    0.000021 -0.221380  0.025661  \n",
      "5       -180     0.000056    0.000100 -0.577880  0.025661  \n",
      "-----------\n",
      "-----------\n",
      "verification_status:\n",
      "  verification_status        n  good_borrowers  bad_borrowers  share_good  \\\n",
      "0        Not Verified  1063604          968182          95422    0.910284   \n",
      "1     Source Verified  1141447          987127         154320    0.864803   \n",
      "2            Verified   714505          585424         129081    0.819342   \n",
      "\n",
      "   share_bad  prop_n_good  prop_n_bad       woe        IV  \n",
      "0   -1063603     0.381064    0.251891  0.413972  0.097531  \n",
      "1   -1141446     0.388521    0.407367 -0.047368  0.097531  \n",
      "2    -714504     0.230415    0.340742 -0.391243  0.097531  \n",
      "-----------\n",
      "-----------\n",
      "purpose:\n",
      "               purpose        n  good_borrowers  bad_borrowers  share_good  \\\n",
      "0                  car    29757           26774           2983    0.899755   \n",
      "1          credit_card   694160          621026          73134    0.894644   \n",
      "2     home_improvement   192525          170195          22330    0.884015   \n",
      "3             vacation    20161           17683           2478    0.877089   \n",
      "4              wedding     2355            2062            293    0.875584   \n",
      "5       major_purchase    62595           54543           8052    0.871364   \n",
      "6                other   177073          153262          23811    0.865530   \n",
      "7                house    19561           16923           2638    0.865140   \n",
      "8              medical    35161           30365           4796    0.863599   \n",
      "9   debt_consolidation  1634967         1406196         228771    0.860076   \n",
      "10              moving    19151           16114           3037    0.841418   \n",
      "11    renewable_energy     1763            1475            288    0.836642   \n",
      "12      small_business    29903           23779           6124    0.795204   \n",
      "13         educational      424             336             88    0.792453   \n",
      "\n",
      "    share_bad  prop_n_good  prop_n_bad       woe       IV  \n",
      "0      -29756     0.010538    0.007874  0.291363  0.02273  \n",
      "1     -694159     0.244428    0.193056  0.235941  0.02273  \n",
      "2     -192524     0.066987    0.058946  0.127875  0.02273  \n",
      "3      -20160     0.006960    0.006541  0.062013  0.02273  \n",
      "4       -2354     0.000812    0.000773  0.048120  0.02273  \n",
      "5      -62594     0.021467    0.021255  0.009930  0.02273  \n",
      "6     -177072     0.060322    0.062855 -0.041138  0.02273  \n",
      "7      -19560     0.006661    0.006964 -0.044486  0.02273  \n",
      "8      -35160     0.011951    0.012660 -0.057630  0.02273  \n",
      "9    -1634966     0.553461    0.603899 -0.087217  0.02273  \n",
      "10     -19150     0.006342    0.008017 -0.234321  0.02273  \n",
      "11      -1762     0.000581    0.000760 -0.269686  0.02273  \n",
      "12     -29902     0.009359    0.016166 -0.546551  0.02273  \n",
      "13       -423     0.000132    0.000232 -0.563364  0.02273  \n",
      "-----------\n",
      "-----------\n",
      "addr_state:\n"
     ]
    },
    {
     "name": "stdout",
     "output_type": "stream",
     "text": [
      "   addr_state       n  good_borrowers  bad_borrowers  share_good  share_bad  \\\n",
      "0          ME    7237            6738            499    0.931049      -7236   \n",
      "1          VT    6499            5959            540    0.916910      -6498   \n",
      "2          WV   12265           11233           1032    0.915858     -12264   \n",
      "3          ID    6796            6216            580    0.914656      -6795   \n",
      "4          OR   35229           31905           3324    0.905646     -35228   \n",
      "5          DC    6724            6083            641    0.904670      -6723   \n",
      "6          NH   14516           13088           1428    0.901626     -14515   \n",
      "7          SC   36776           33061           3715    0.898983     -36775   \n",
      "8          ND    5027            4501            526    0.895365      -5026   \n",
      "9          WA   61261           54831           6430    0.895039     -61260   \n",
      "10         CO   61134           54683           6451    0.894478     -61133   \n",
      "11         MT    8202            7317            885    0.892099      -8201   \n",
      "12         KS   24486           21799           2687    0.890264     -24485   \n",
      "13         WY    6056            5380            676    0.888375      -6055   \n",
      "14         CT   46555           41255           5300    0.886156     -46554   \n",
      "15         RI   13067           11557           1510    0.884442     -13066   \n",
      "16         IL  116933          103417          13516    0.884412    -116932   \n",
      "17         UT   19530           17225           2305    0.881976     -19529   \n",
      "18         GA   96286           84643          11643    0.879079     -96285   \n",
      "19         WI   38584           33838           4746    0.876996     -38583   \n",
      "20         DE    8416            7368           1048    0.875475      -8415   \n",
      "21         MA   67384           58977           8407    0.875237     -67383   \n",
      "22         AK    6705            5863            842    0.874422      -6704   \n",
      "23         OH   96494           84296          12198    0.873588     -96493   \n",
      "24         VA   80835           70452          10383    0.871553     -80834   \n",
      "25         AZ   70132           61120           9012    0.871499     -70131   \n",
      "26         NE   11031            9613           1418    0.871453     -11030   \n",
      "27         TX  242114          210974          31140    0.871383    -242113   \n",
      "28         MN   50462           43921           6541    0.870378     -50461   \n",
      "29         MI   75203           65446           9757    0.870258     -75202   \n",
      "30         KY   28349           24668           3681    0.870154     -28348   \n",
      "31         TN   46865           40720           6145    0.868879     -46864   \n",
      "32         NJ  106782           92611          14171    0.867290    -106781   \n",
      "33         CA  403681          349902          53779    0.866778    -403680   \n",
      "34         PA   97745           84671          13074    0.866244     -97744   \n",
      "35         NC   80892           70058          10834    0.866068     -80891   \n",
      "36         MO   46681           40413           6268    0.865727     -46680   \n",
      "37         SD    5900            5107            793    0.865593      -5899   \n",
      "38         IN   48528           41999           6529    0.865459     -48527   \n",
      "39         MD   69620           60056           9564    0.862626     -69619   \n",
      "40         NM   15485           13356           2129    0.862512     -15484   \n",
      "41         FL  211967          181943          30024    0.858355    -211966   \n",
      "42         HI   13477           11566           1911    0.858203     -13476   \n",
      "43         NY  236274          202103          34171    0.855376    -236273   \n",
      "44         LA   32633           27805           4828    0.852052     -32632   \n",
      "45         NV   42340           36027           6313    0.850897     -42339   \n",
      "46         OK   26724           22699           4025    0.849386     -26723   \n",
      "47         AL   34639           29311           5328    0.846185     -34638   \n",
      "48         MS   16821           14214           2607    0.845015     -16820   \n",
      "49         AR   22200           18734           3466    0.843874     -22199   \n",
      "50         IA      14              11              3    0.785714        -13   \n",
      "\n",
      "    prop_n_good  prop_n_bad       woe      IV  \n",
      "0      0.002652    0.001317  0.699774  0.0145  \n",
      "1      0.002345    0.001425  0.497950  0.0145  \n",
      "2      0.004421    0.002724  0.484218  0.0145  \n",
      "3      0.002447    0.001531  0.468715  0.0145  \n",
      "4      0.012557    0.008775  0.358455  0.0145  \n",
      "5      0.002394    0.001692  0.347085  0.0145  \n",
      "6      0.005151    0.003770  0.312282  0.0145  \n",
      "7      0.013012    0.009807  0.282837  0.0145  \n",
      "8      0.001772    0.001389  0.243615  0.0145  \n",
      "9      0.021581    0.016974  0.240142  0.0145  \n",
      "10     0.021523    0.017029  0.234179  0.0145  \n",
      "11     0.002880    0.002336  0.209229  0.0145  \n",
      "12     0.008580    0.007093  0.190300  0.0145  \n",
      "13     0.002117    0.001784  0.171112  0.0145  \n",
      "14     0.016237    0.013991  0.148927  0.0145  \n",
      "15     0.004549    0.003986  0.132043  0.0145  \n",
      "16     0.040704    0.035679  0.131756  0.0145  \n",
      "17     0.006780    0.006085  0.108142  0.0145  \n",
      "18     0.033314    0.030735  0.080598  0.0145  \n",
      "19     0.013318    0.012528  0.061143  0.0145  \n",
      "20     0.002900    0.002766  0.047124  0.0145  \n",
      "21     0.023213    0.022192  0.044944  0.0145  \n",
      "22     0.002308    0.002223  0.037498  0.0145  \n",
      "23     0.033178    0.032200  0.029924  0.0145  \n",
      "24     0.027729    0.027409  0.011623  0.0145  \n",
      "25     0.024056    0.023789  0.011143  0.0145  \n",
      "26     0.003784    0.003743  0.010730  0.0145  \n",
      "27     0.083037    0.082202  0.010103  0.0145  \n",
      "28     0.017287    0.017267  0.001164  0.0145  \n",
      "29     0.025759    0.025756  0.000102  0.0145  \n",
      "30     0.009709    0.009717 -0.000816  0.0145  \n",
      "31     0.016027    0.016221 -0.012058  0.0145  \n",
      "32     0.036451    0.037408 -0.025929  0.0145  \n",
      "33     0.137717    0.141963 -0.030369  0.0145  \n",
      "34     0.033325    0.034512 -0.034991  0.0145  \n",
      "35     0.027574    0.028599 -0.036505  0.0145  \n",
      "36     0.015906    0.016546 -0.039445  0.0145  \n",
      "37     0.002010    0.002093 -0.040595  0.0145  \n",
      "38     0.016530    0.017235 -0.041747  0.0145  \n",
      "39     0.023637    0.025247 -0.065867  0.0145  \n",
      "40     0.005257    0.005620 -0.066825  0.0145  \n",
      "41     0.071610    0.079256 -0.101442  0.0145  \n",
      "42     0.004552    0.005045 -0.102696  0.0145  \n",
      "43     0.079545    0.090203 -0.125739  0.0145  \n",
      "44     0.010944    0.012745 -0.152355  0.0145  \n",
      "45     0.014180    0.016665 -0.161481  0.0145  \n",
      "46     0.008934    0.010625 -0.173343  0.0145  \n",
      "47     0.011536    0.014065 -0.198152  0.0145  \n",
      "48     0.005594    0.006882 -0.207112  0.0145  \n",
      "49     0.007373    0.009149 -0.215800  0.0145  \n",
      "50     0.000004    0.000008 -0.603856  0.0145  \n",
      "-----------\n",
      "-----------\n",
      "initial_list_status:\n",
      "  initial_list_status        n  good_borrowers  bad_borrowers  share_good  \\\n",
      "0                   w  2135228         1885976         249252    0.883267   \n",
      "1                   f   784328          654757         129571    0.834800   \n",
      "\n",
      "   share_bad  prop_n_good  prop_n_bad       woe        IV  \n",
      "0   -2135227     0.742296    0.657964  0.120597  0.034045  \n",
      "1    -784327     0.257704    0.342036 -0.283104  0.034045  \n",
      "-----------\n",
      "-----------\n",
      "emp_length:\n",
      "   emp_length       n  good_borrowers  bad_borrowers  share_good  share_bad  \\\n",
      "0   10+ years  944717          829173         115544    0.877695    -944716   \n",
      "1     5 years  182182          158777          23405    0.871530    -182181   \n",
      "2     6 years  130626          113825          16801    0.871381    -130625   \n",
      "3     2 years  261662          227778          33884    0.870505    -261661   \n",
      "4     4 years  175955          153024          22931    0.869677    -175954   \n",
      "5     3 years  232095          201644          30451    0.868799    -232094   \n",
      "6     7 years  115948          100549          15399    0.867190    -115947   \n",
      "7      1 year  193999          168160          25839    0.866809    -193998   \n",
      "8     9 years   95298           82166          13132    0.862201     -95297   \n",
      "9    < 1 year  474495          408761          65734    0.861465    -474494   \n",
      "10    8 years  112579           96876          15703    0.860516    -112578   \n",
      "\n",
      "    prop_n_good  prop_n_bad       woe        IV  \n",
      "0      0.326352    0.305008  0.067639  0.002956  \n",
      "1      0.062493    0.061783  0.011412  0.002956  \n",
      "2      0.044800    0.044351  0.010085  0.002956  \n",
      "3      0.089651    0.089445  0.002290  0.002956  \n",
      "4      0.060228    0.060532 -0.005034  0.002956  \n",
      "5      0.079364    0.080383 -0.012754  0.002956  \n",
      "6      0.039575    0.040650 -0.026796  0.002956  \n",
      "7      0.066186    0.068209 -0.030108  0.002956  \n",
      "8      0.032339    0.034665 -0.069449  0.002956  \n",
      "9      0.160883    0.173522 -0.075624  0.002956  \n",
      "10     0.038129    0.041452 -0.083559  0.002956  \n",
      "-----------\n"
     ]
    }
   ],
   "source": [
    "# Printing out the frame for all the categorical variables\n",
    "for var in categorical_vars:\n",
    "    print('-----------')\n",
    "    print(f'{var}:')\n",
    "    print(get_woe(d, var, 'good_bad'))\n",
    "    print('-----------')"
   ]
  },
  {
   "cell_type": "markdown",
   "metadata": {},
   "source": [
    "Based on the WoE statistic we need to figure out how to organize and lump together the original discrete features."
   ]
  },
  {
   "cell_type": "code",
   "execution_count": null,
   "metadata": {},
   "outputs": [],
   "source": []
  }
 ],
 "metadata": {
  "kernelspec": {
   "display_name": "Python 3",
   "language": "python",
   "name": "python3"
  },
  "language_info": {
   "codemirror_mode": {
    "name": "ipython",
    "version": 3
   },
   "file_extension": ".py",
   "mimetype": "text/x-python",
   "name": "python",
   "nbconvert_exporter": "python",
   "pygments_lexer": "ipython3",
   "version": "3.8.5"
  }
 },
 "nbformat": 4,
 "nbformat_minor": 4
}
